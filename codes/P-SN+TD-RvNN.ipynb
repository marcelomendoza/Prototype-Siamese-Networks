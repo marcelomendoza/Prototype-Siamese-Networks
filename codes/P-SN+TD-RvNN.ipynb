{
 "cells": [
  {
   "cell_type": "code",
   "execution_count": null,
   "metadata": {
    "collapsed": true,
    "id": "OKddhSJHyvAG"
   },
   "outputs": [],
   "source": [
    "import os\n",
    "import numpy as np\n",
    "import matplotlib.pyplot as plt\n",
    "\n",
    "!pip install tslearn\n",
    "from tslearn.clustering import TimeSeriesKMeans\n",
    "from tslearn.metrics import cdist_dtw, dtw\n",
    "from tslearn.preprocessing import TimeSeriesScalerMeanVariance\n",
    "from tslearn.piecewise import PiecewiseAggregateApproximation\n",
    "\n",
    "from sklearn.model_selection import train_test_split\n",
    "from sklearn.metrics import silhouette_score, confusion_matrix, f1_score, accuracy_score, classification_report\n",
    "from sklearn.utils import shuffle\n",
    "from sklearn.preprocessing import MinMaxScaler, StandardScaler\n",
    "from sklearn.metrics.pairwise import cosine_similarity\n",
    "\n",
    "import get_time_series2 as get_time_series "
   ]
  },
  {
   "cell_type": "code",
   "execution_count": null,
   "metadata": {
    "collapsed": true,
    "id": "wIAzxUX5piBX"
   },
   "outputs": [],
   "source": [
    "%tensorflow_version 2.x\n",
    "import tensorflow as tf\n",
    "from tensorflow.keras import Input, Model, Sequential\n",
    "from tensorflow.keras.layers import Flatten, Dense, Dropout, Lambda, Activation, LSTM, Conv1D\n",
    "from tensorflow.keras.optimizers import RMSprop, Adam, SGD, Adagrad, Adadelta\n",
    "from tensorflow.keras.metrics import BinaryAccuracy, CosineSimilarity, Accuracy, categorical_accuracy\n",
    "from tensorflow.keras.initializers import RandomNormal\n",
    "from tensorflow.keras.utils import plot_model, to_categorical \n",
    "from tensorflow.keras.losses import binary_crossentropy, categorical_crossentropy, CategoricalCrossentropy, SparseCategoricalCrossentropy\n",
    "from tensorflow.keras import backend as K\n",
    "\n",
    "import tensorflow_addons as tfa\n",
    "from tensorflow_addons.losses import contrastive_loss\n",
    "from tensorflow_addons.metrics import F1Score"
   ]
  },
  {
   "cell_type": "code",
   "execution_count": null,
   "metadata": {
    "colab": {
     "base_uri": "https://localhost:8080/"
    },
    "collapsed": false,
    "id": "oIazmU5-zQrP",
    "outputId": "46a25bfa-7759-4869-9e7f-de3d2fff6f99"
   },
   "outputs": [
    {
     "name": "stdout",
     "output_type": "stream",
     "text": [
      "Mounted at /content/gdrive/\n"
     ]
    }
   ],
   "source": [
    "from google.colab import drive\n",
    "drive.mount('/content/gdrive/')"
   ]
  },
  {
   "cell_type": "code",
   "execution_count": null,
   "metadata": {
    "collapsed": true,
    "id": "4X4_VjphzSem"
   },
   "outputs": [],
   "source": [
    "year_data = 'Twitter16'\n",
    "dest = 'tw16'\n",
    "\n",
    "t = os.path.join('gdrive/My Drive/Master/Data', year_data, 'tree.tar.gz')\n",
    "p = os.path.join('gdrive/My Drive/Master/Data', year_data, 'post.tar.gz')\n",
    "u = os.path.join('gdrive/My Drive/Master/Data', year_data, 'users.tar.gz')\n",
    "l = os.path.join('gdrive/My Drive/Master/Data', year_data, 'label.txt')\n",
    "\n",
    "!mkdir \"$dest\"\n",
    "!tar -xzvf \"$t\" -C \"$dest\"\n",
    "!tar -xzvf \"$p\" -C \"$dest\"\n",
    "!tar -xzvf \"$u\" -C \"$dest\"\n",
    "!cp \"$l\" \"$dest\""
   ]
  },
  {
   "cell_type": "code",
   "execution_count": null,
   "metadata": {
    "colab": {
     "base_uri": "https://localhost:8080/"
    },
    "collapsed": false,
    "id": "DCTi-WXP0w2E",
    "outputId": "d79c866c-e3f4-4a0e-a1cf-0014d81731c6"
   },
   "outputs": [
    {
     "name": "stdout",
     "output_type": "stream",
     "text": [
      "CPU times: user 42.2 s, sys: 7.06 s, total: 49.2 s\n",
      "Wall time: 49.8 s\n"
     ]
    }
   ],
   "source": [
    "%%time\n",
    "dest = 'tw16'\n",
    "data = get_time_series.data_process(dest, label_path='/label2_train.txt')"
   ]
  },
  {
   "cell_type": "code",
   "execution_count": null,
   "metadata": {
    "colab": {
     "base_uri": "https://localhost:8080/"
    },
    "collapsed": false,
    "id": "PByn7s-31WmD",
    "outputId": "a36431b7-af5f-48e8-aec8-5af0f0a6194b"
   },
   "outputs": [
    {
     "name": "stdout",
     "output_type": "stream",
     "text": [
      "retweets, post, interactions\n",
      "new users\n",
      "followers\n",
      "followings\n",
      "CPU times: user 1h 8min 14s, sys: 556 ms, total: 1h 8min 15s\n",
      "Wall time: 1h 8min 19s\n"
     ]
    }
   ],
   "source": [
    "%%time\n",
    "window = 10\n",
    "slide_window = True\n",
    "time = 720\n",
    "print('retweets, post, interactions')\n",
    "labels, retweets, posts, tree_ids1 = get_time_series.get_interactions(data.news, window, slide_window, time)\n",
    "interactions = retweets + posts\n",
    "print('new users')\n",
    "labels, new_users, tree_ids2 = get_time_series.get_fingerprints(data.news, data.users, data.posts, 'new_users', window, slide_window, time)\n",
    "print('followers')\n",
    "labels, followers, tree_ids3 = get_time_series.get_fingerprints(data.news, data.users, data.posts, 'followers', window, slide_window, time)\n",
    "print('followings')\n",
    "labels, followings, tree_ids4 = get_time_series.get_fingerprints(data.news, data.users, data.posts, 'followings', window, slide_window, time)"
   ]
  },
  {
   "cell_type": "code",
   "execution_count": null,
   "metadata": {
    "colab": {
     "base_uri": "https://localhost:8080/"
    },
    "collapsed": false,
    "id": "hicTBwQclsIK",
    "outputId": "24262500-50ed-4ce6-c2fc-224403d6fae0"
   },
   "outputs": [
    {
     "data": {
      "text/plain": [
       "True"
      ]
     },
     "execution_count": 7,
     "metadata": {
      "tags": []
     },
     "output_type": "execute_result"
    }
   ],
   "source": [
    "tree_ids1 == tree_ids4"
   ]
  },
  {
   "cell_type": "code",
   "execution_count": null,
   "metadata": {
    "colab": {
     "base_uri": "https://localhost:8080/"
    },
    "collapsed": false,
    "id": "hJgDsqW31yIb",
    "outputId": "4330c146-fda8-41e8-b06a-4579c9c858e9"
   },
   "outputs": [
    {
     "name": "stdout",
     "output_type": "stream",
     "text": [
      "(490,)\n",
      "(490, 720)\n",
      "(490, 720)\n",
      "(490, 720)\n",
      "(490, 720)\n",
      "(490, 720)\n",
      "(490, 720)\n"
     ]
    }
   ],
   "source": [
    "print(labels.shape)\n",
    "print(retweets.shape)\n",
    "print(posts.shape)\n",
    "print(interactions.shape)\n",
    "print(new_users.shape)\n",
    "print(followers.shape)\n",
    "print(followings.shape)"
   ]
  },
  {
   "cell_type": "code",
   "execution_count": null,
   "metadata": {
    "colab": {
     "base_uri": "https://localhost:8080/"
    },
    "collapsed": false,
    "id": "xvTuu8jf9fIf",
    "outputId": "2894fdea-03a4-454b-d368-202ceaa298f2"
   },
   "outputs": [
    {
     "name": "stdout",
     "output_type": "stream",
     "text": [
      "retweets, post, interactions\n",
      "new users\n",
      "followers\n",
      "followings\n",
      "CPU times: user 19min 28s, sys: 6.7 s, total: 19min 35s\n",
      "Wall time: 19min 36s\n"
     ]
    }
   ],
   "source": [
    "%%time\n",
    "dest = 'tw16'\n",
    "data_test = get_time_series.data_process(dest, label_path='/label2_test.txt')\n",
    "\n",
    "window = 10\n",
    "slide_window = True\n",
    "time = 720\n",
    "print('retweets, post, interactions')\n",
    "labels_test, retweets_test, posts_test, tree_ids_test = get_time_series.get_interactions(data_test.news, window, slide_window, time)\n",
    "interactions_test = retweets_test + posts_test\n",
    "print('new users')\n",
    "labels_test, new_users_test, tree_ids_test = get_time_series.get_fingerprints(data_test.news, data_test.users, data_test.posts, 'new_users', window, slide_window, time)\n",
    "print('followers')\n",
    "labels_test, followers_test, tree_ids_test = get_time_series.get_fingerprints(data_test.news, data_test.users, data_test.posts, 'followers', window, slide_window, time)\n",
    "print('followings')\n",
    "labels_test, followings_test, tree_ids_test = get_time_series.get_fingerprints(data_test.news, data_test.users, data_test.posts, 'followings', window, slide_window, time)"
   ]
  },
  {
   "cell_type": "code",
   "execution_count": null,
   "metadata": {
    "collapsed": true,
    "id": "UEDyIlT2LwG3"
   },
   "outputs": [],
   "source": [
    "def get_multivariate_series(time_series, labels, scale = 1): \n",
    "    paa = PiecewiseAggregateApproximation(n_segments=140) # equals the number of segments and samples!!!\n",
    "    digits = []\n",
    "    for i in range(72):\n",
    "        digits.append(i*10)\n",
    "    digits = np.array(digits)\n",
    "    \n",
    "    if scale == 0:\n",
    "        time_series_scaled = []\n",
    "        for ts in time_series:\n",
    "            scaler = MinMaxScaler()\n",
    "            # scaler = StandardScaler()\n",
    "            scaler.fit(ts)\n",
    "            ts = scaler.transform(ts)\n",
    "            ts = ts.reshape(ts.shape[0],ts.shape[1])\n",
    "            time_series_scaled.append(ts)\n",
    "    elif scale == 1:\n",
    "        time_series_scaled = []\n",
    "        for ts in time_series:\n",
    "            scaler = MinMaxScaler()\n",
    "            scaler.fit(ts)\n",
    "            ts = scaler.transform(ts)\n",
    "            # print('1 ', ts.shape)\n",
    "            ts = ts.reshape(ts.shape[0], ts.shape[1], 1)\n",
    "            ts = paa.inverse_transform(paa.fit_transform(ts))\n",
    "            # print(ts.shape)\n",
    "            ts = ts[:,digits,:]\n",
    "            # print(ts.shape)\n",
    "            ts = ts.reshape(ts.shape[0],ts.shape[1])\n",
    "            # print(ts.shape)\n",
    "            time_series_scaled.append(ts)                \n",
    "    time_series_multi = np.stack(time_series_scaled, axis=-1)\n",
    "    return time_series_multi"
   ]
  },
  {
   "cell_type": "code",
   "execution_count": null,
   "metadata": {
    "collapsed": true,
    "id": "bFCitDZcLdU9"
   },
   "outputs": [],
   "source": [
    "time_series = get_multivariate_series(time_series=[interactions, new_users, followers, followings], labels=labels, scale=1)"
   ]
  },
  {
   "cell_type": "code",
   "execution_count": null,
   "metadata": {
    "collapsed": true,
    "id": "h7IY2CSb2UjW"
   },
   "outputs": [],
   "source": [
    "time_series_test = get_multivariate_series(time_series=[interactions_test, new_users_test, followers_test, followings_test], labels=labels_test, scale=1)"
   ]
  },
  {
   "cell_type": "code",
   "execution_count": null,
   "metadata": {
    "collapsed": true,
    "id": "hru_09Iaz9pd"
   },
   "outputs": [],
   "source": [
    "from collections import OrderedDict\n",
    "\n",
    "news_labels_train = OrderedDict( [(tree_ids1[i],labels[i]) for i in range(len(tree_ids1))])\n",
    "news_labels_test = OrderedDict([(tree_ids_test[i],labels_test[i]) for i in range(len(tree_ids_test))])"
   ]
  },
  {
   "cell_type": "code",
   "execution_count": null,
   "metadata": {
    "colab": {
     "base_uri": "https://localhost:8080/"
    },
    "collapsed": false,
    "id": "m9era-uQ0Vmx",
    "outputId": "577eccc2-fbd5-4fdc-cdcb-5e3091bae3dc"
   },
   "outputs": [
    {
     "name": "stdout",
     "output_type": "stream",
     "text": [
      "490\n",
      "164\n"
     ]
    }
   ],
   "source": [
    "print(len(news_labels_train))\n",
    "print(len(news_labels_test))"
   ]
  },
  {
   "cell_type": "code",
   "execution_count": null,
   "metadata": {
    "colab": {
     "base_uri": "https://localhost:8080/"
    },
    "collapsed": false,
    "id": "eFreMwXfCO05",
    "outputId": "b57dcc10-1424-496c-e173-29b2847db15d"
   },
   "outputs": [
    {
     "name": "stdout",
     "output_type": "stream",
     "text": [
      "(490, 72, 4)\n",
      "(490,)\n",
      "(164, 72, 4)\n",
      "(164,)\n"
     ]
    }
   ],
   "source": [
    "x_train = time_series\n",
    "y_train = labels\n",
    "x_test = time_series_test \n",
    "y_test = labels_test \n",
    "print(x_train.shape)\n",
    "print(y_train.shape)\n",
    "print(x_test.shape)\n",
    "print(y_test.shape)"
   ]
  },
  {
   "cell_type": "code",
   "execution_count": null,
   "metadata": {
    "collapsed": true,
    "id": "tj8U7h1hC2Zn"
   },
   "outputs": [],
   "source": [
    "def confusion_matrix(y_train, y_clus, n_prototypes):\n",
    "    n_classes = np.unique(y_train).shape[0]\n",
    "    conf = np.zeros((n_classes,n_prototypes), dtype=int)\n",
    "    n_instances = y_clus.shape[0]\n",
    "    for k in range(n_instances):\n",
    "        i = y_train[k]\n",
    "        j = y_clus[k]\n",
    "        conf[i][j] += 1 \n",
    "    return conf\n",
    "\n",
    "def gini_coefficient(conf):\n",
    "    n_classes = conf.shape[0]\n",
    "    n_prototypes = conf.shape[1]\n",
    "    gini = np.zeros(n_prototypes, dtype=float)\n",
    "    for j in range(n_prototypes):\n",
    "        acc = float(conf[:,j].sum())\n",
    "        if acc > 0:\n",
    "            for i in range(n_classes):\n",
    "                ratio = float(conf[i,j])/acc #la proporción del cluster que fue asignado a esa clase\n",
    "                gini[j] += pow(ratio, 2)\n",
    "            gini[j] = round(1 - gini[j], 3)\n",
    "        else:\n",
    "            gini[j] = np.nan\n",
    "    return gini\n",
    "\n",
    "def matprint(mat, fmt=\"g\"): #print confusion matrix\n",
    "    col_maxes = [max([len((\"{:\"+fmt+\"}\").format(x)) for x in col]) for col in mat.T] \n",
    "    # print(col_maxes)\n",
    "    for x in mat:\n",
    "        # print(x)\n",
    "        for i, y in enumerate(x):\n",
    "            print((\"{:\"+str(col_maxes[i])+fmt+\"}\").format(y), end=\"  \")\n",
    "        print(\"\")\n",
    "    \n",
    "def get_h_clus_(filepath):\n",
    "    h_clus_ = []\n",
    "    # filepath = 'tw16.hgr.part.40' #archivo del profe\n",
    "    with open(filepath) as fp: \n",
    "        cix = fp.readline().rstrip('\\n')\n",
    "        h_clus_.append(int(cix))\n",
    "        while cix:\n",
    "            cix = fp.readline().rstrip('\\n')\n",
    "            if len(cix) > 0:\n",
    "                h_clus_.append(int(cix))\n",
    "    return np.array(h_clus_)\n",
    "\n",
    "def get_cidx_(conf_):\n",
    "    cidx_ = dict()\n",
    "    for j in range(conf_.shape[1]):\n",
    "        cl = np.argmax(conf_[:,j])\n",
    "        cidx_[j] = cl  #Clase (0,1,2,3) a la que pertece cada cluster\n",
    "    return cidx_"
   ]
  },
  {
   "cell_type": "markdown",
   "metadata": {
    "id": "jxTEoYOUj3Nm"
   },
   "source": [
    "## CLustering"
   ]
  },
  {
   "cell_type": "code",
   "execution_count": null,
   "metadata": {
    "collapsed": true,
    "id": "pjfPGz1zQdue"
   },
   "outputs": [],
   "source": [
    "def k_clustering(x_train, fe):\n",
    "    print('start')\n",
    "    n_prototypes = 20\n",
    "    n_instances = x_train.shape[0]\n",
    "    km_dba = TimeSeriesKMeans(n_clusters=n_prototypes, metric=\"dtw\", init=\"k-means++\")\n",
    "    y_clus = km_dba.fit_predict(x_train[:,:,fe]) #serie de tiempo univariada, la fe-esima\n",
    "    return km_dba, y_clus"
   ]
  },
  {
   "cell_type": "code",
   "execution_count": null,
   "metadata": {
    "colab": {
     "base_uri": "https://localhost:8080/"
    },
    "collapsed": false,
    "id": "ds8D5r8vkAE_",
    "outputId": "afd14151-917b-4688-81df-3cdda5a1f133"
   },
   "outputs": [
    {
     "name": "stdout",
     "output_type": "stream",
     "text": [
      "start\n",
      "start\n",
      "start\n",
      "start\n",
      "CPU times: user 3min 17s, sys: 199 ms, total: 3min 18s\n",
      "Wall time: 3min 18s\n"
     ]
    }
   ],
   "source": [
    "%%time \n",
    "#Obtener clustering para cada huella temporal con k=20\n",
    "km_dba_0, y_clus_0 = k_clustering(x_train,0)\n",
    "km_dba_1, y_clus_1 = k_clustering(x_train,1) \n",
    "km_dba_2, y_clus_2 = k_clustering(x_train,2) \n",
    "km_dba_3, y_clus_3 = k_clustering(x_train,3) \n",
    "# km_dba_4, y_clus_4 = k_clustering(x_train,4) "
   ]
  },
  {
   "cell_type": "code",
   "execution_count": null,
   "metadata": {
    "collapsed": true,
    "id": "Xxw4LJF2kMdg"
   },
   "outputs": [],
   "source": [
    "#Obtener matriz de confusión por cada clustering de cada huella temporal\n",
    "conf_0 = confusion_matrix(y_train,y_clus_0,20)\n",
    "conf_1 = confusion_matrix(y_train,y_clus_1,20)\n",
    "conf_2 = confusion_matrix(y_train,y_clus_2,20)\n",
    "conf_3 = confusion_matrix(y_train,y_clus_3,20)"
   ]
  },
  {
   "cell_type": "code",
   "execution_count": null,
   "metadata": {
    "colab": {
     "base_uri": "https://localhost:8080/"
    },
    "collapsed": false,
    "id": "Dn5Q7b5Uk845",
    "outputId": "d684a04c-dc75-4ffe-c586-60f0fed8c688"
   },
   "outputs": [
    {
     "name": "stdout",
     "output_type": "stream",
     "text": [
      "0.41935\n",
      "0.37614999999999993\n",
      "0.23020000000000002\n",
      "0.2338\n"
     ]
    }
   ],
   "source": [
    "#Obtener índice de gini por cada clustering de cada huella temporal\n",
    "gini_0 = gini_coefficient(conf_0)\n",
    "gini_1 = gini_coefficient(conf_1)\n",
    "gini_2 = gini_coefficient(conf_2)\n",
    "gini_3 = gini_coefficient(conf_3)\n",
    "print(sum(gini_0)/20)\n",
    "print(sum(gini_1)/20)\n",
    "print(sum(gini_2)/20)\n",
    "print(sum(gini_3)/20)\n",
    "# print(sum(gini_4)/20)"
   ]
  },
  {
   "cell_type": "code",
   "execution_count": null,
   "metadata": {
    "collapsed": true,
    "id": "wKSKcKbglGC-"
   },
   "outputs": [],
   "source": [
    "def to_hmetis(partitions,ginis):\n",
    "    n_hyperedges = 0\n",
    "    n_instances = partitions[0].shape[0]\n",
    "    fh = open(\"tw16_12h_4st.hgr\",'w')\n",
    "    k = 0\n",
    "    for partition in partitions:\n",
    "        n_prototypes = np.unique(partition).shape[0]\n",
    "        gini = ginis[k]    \n",
    "        for i in range(n_prototypes): \n",
    "            gin = gini[i]   #inidice de gini del cluster actual\n",
    "            if not np.isnan(gin):\n",
    "                w = int(100*(1 - gin)) # check if an int is needed\n",
    "                digits = np.where(partition == i)[0] #ids de las series del cluster actual\n",
    "                csize = len(digits)\n",
    "                if csize > 2:\n",
    "                    line = str(w) + ' ' #peso\n",
    "                    for j in range(csize):\n",
    "                        line += str(digits[j]+1) + ' '  #vertices/series involucrados\n",
    "                    line = line + '\\n'\n",
    "                    fh.write(line)\n",
    "                    n_hyperedges += 1\n",
    "                    # print(i, ' ', line)\n",
    "        k += 1\n",
    "    fh.close()\n",
    "    with open(\"tw16_12h_4st.hgr\", 'r+') as fp:\n",
    "        lines = fp.readlines()     # lines is list of line, each element '...\\n'\n",
    "        one_line = str(n_hyperedges) + ' ' + str(n_instances) + ' 1\\n'\n",
    "        lines.insert(0, one_line)  # you can use any index if you know the line index\n",
    "        fp.seek(0)                 # file pointer locates at the beginning to write the whole file again\n",
    "        fp.writelines(lines)\n",
    "    # fh.write(str(n_hyperedges) + ' ' + str(n_instances) + ' 1\\n')\n",
    "    return n_hyperedges, n_instances"
   ]
  },
  {
   "cell_type": "code",
   "execution_count": null,
   "metadata": {
    "colab": {
     "base_uri": "https://localhost:8080/"
    },
    "collapsed": false,
    "id": "rZ37daBqmBqZ",
    "outputId": "e45554e7-7a97-4111-a8e1-fe96e7236c77"
   },
   "outputs": [
    {
     "data": {
      "text/plain": [
       "(50, 490)"
      ]
     },
     "execution_count": 48,
     "metadata": {
      "tags": []
     },
     "output_type": "execute_result"
    }
   ],
   "source": [
    "gini_4 = np.zeros(4, dtype=float)\n",
    "to_hmetis([y_clus_0,y_clus_1,y_clus_2,y_clus_3,y_train], [gini_0,gini_1,gini_2,gini_3,gini_4])"
   ]
  },
  {
   "cell_type": "code",
   "execution_count": null,
   "metadata": {
    "collapsed": true,
    "id": "gEml4S8tmKoP"
   },
   "outputs": [],
   "source": [
    "!wget http://glaros.dtc.umn.edu/gkhome/fetch/sw/hmetis/hmetis-1.5-linux.tar.gz  \n",
    "!gunzip hmetis-1.5-linux.tar.gz\n",
    "!tar -xvf hmetis-1.5-linux.tar"
   ]
  },
  {
   "cell_type": "code",
   "execution_count": null,
   "metadata": {
    "collapsed": true,
    "id": "sAfJc3fBmN9v"
   },
   "outputs": [],
   "source": [
    "!./hmetis-1.5-linux/khmetis ./tw16_12h_4st.hgr 40 5 1000 3 1 3 0"
   ]
  },
  {
   "cell_type": "markdown",
   "metadata": {
    "id": "Biypty1eovyH"
   },
   "source": [
    "## Prototipos"
   ]
  },
  {
   "cell_type": "code",
   "execution_count": null,
   "metadata": {
    "colab": {
     "base_uri": "https://localhost:8080/"
    },
    "collapsed": false,
    "id": "mVcv2polDJdQ",
    "outputId": "f46fe474-385b-44b5-bac2-b9ec29ed5c6e"
   },
   "outputs": [
    {
     "name": "stdout",
     "output_type": "stream",
     "text": [
      "(490,)\n",
      "4  2  5  3  5  4  2  4  2  2  3  1  1  3  5  5  2  3  2  2  2  3  2  6  4  4  0  6   1  5  4  5  2  5  6  1  0  4  3  5  \n",
      "2  4  2  0  0  4  1  6  2  2  4  2  3  4  1  4  2  6  1  3  5  5  4  3  3  2  6  4   0  2  3  5  4  4  3  6  6  4  5  4  \n",
      "5  2  2  6  1  4  7  1  5  3  2  4  3  2  3  2  5  1  2  4  3  3  1  0  3  4  2  1  10  3  1  2  2  1  2  2  5  3  1  2  \n",
      "2  5  4  4  7  1  3  2  4  6  3  5  5  3  3  1  3  2  7  3  2  1  5  3  2  2  4  1   1  2  4  0  4  2  1  3  1  1  3  1  \n",
      "0.6683250000000001\n"
     ]
    }
   ],
   "source": [
    "h_clus_40 = get_h_clus_('tw16_12h_4st.hgr.part.40')\n",
    "print(h_clus_40.shape)\n",
    "conf_40 = confusion_matrix(y_train,h_clus_40,40)\n",
    "matprint(conf_40)\n",
    "gini_40 = gini_coefficient(conf_40)\n",
    "print(sum(gini_40)/40)\n",
    "cidx_40 = get_cidx_(conf_40)"
   ]
  },
  {
   "cell_type": "code",
   "execution_count": null,
   "metadata": {
    "collapsed": true,
    "id": "Ct6eMRLrD553"
   },
   "outputs": [],
   "source": [
    "from tslearn.barycenters import dtw_barycenter_averaging\n",
    "from tslearn.metrics import dtw\n",
    "\n",
    "def ba_computing(h_clus_,x_train,cidx_): #h_clus_: Cluster al que pertece cada noticia, cidx_: Clase (0,1,2,3) a la que pertece cada cluster\n",
    "    n_instances = h_clus_.shape[0]\n",
    "    n_prototypes = len(np.unique(h_clus_)) #40 por ejemplo\n",
    "    prototypes = []\n",
    "    for i in range(n_prototypes):\n",
    "        digits = np.where(h_clus_ == i)[0] #ids de noticias de ese cluster\n",
    "        cls = cidx_[i] # clase del cluster\n",
    "        x_ = x_train[digits,:,:] #datos agrupados en el i-ésimo cluster \n",
    "        y_ = y_train[digits]\n",
    "        digits_ = np.where(y_ == cls)[0] #ids de datos en que coincide la clase real y la del cluster\n",
    "        ba = dtw_barycenter_averaging(x_[digits_,:,:]) #obtener el prototipo\n",
    "        prototypes.append(ba) \n",
    "    return np.array(prototypes)"
   ]
  },
  {
   "cell_type": "code",
   "execution_count": null,
   "metadata": {
    "colab": {
     "base_uri": "https://localhost:8080/"
    },
    "collapsed": false,
    "id": "Klzjl-DkD9RF",
    "outputId": "5dfe92ed-722a-4ab8-aa60-ab69c073caec"
   },
   "outputs": [
    {
     "name": "stdout",
     "output_type": "stream",
     "text": [
      "(40, 72, 4)\n"
     ]
    }
   ],
   "source": [
    "prototypes_40 = ba_computing(h_clus_40,x_train,cidx_40)\n",
    "print(prototypes_40.shape)"
   ]
  },
  {
   "cell_type": "markdown",
   "metadata": {
    "id": "bj2QYza5pXqD"
   },
   "source": [
    "## P-SN"
   ]
  },
  {
   "cell_type": "code",
   "execution_count": null,
   "metadata": {
    "collapsed": true,
    "id": "tK5JcjKtpY_n"
   },
   "outputs": [],
   "source": [
    "from random import randint\n",
    "\n",
    "def unassigned(x,y,prototypes,cidx):\n",
    "    max_dis = np.inf\n",
    "    arg_min = 0\n",
    "    for pid in cidx.keys():  #revisar cada cluster\n",
    "        cl = cidx[pid]      #clase del cluster\n",
    "        if cl == y:         #encontrar coincidencia de la clase del cluster con la clase real\n",
    "            p = prototypes[pid]     #prototipo del cluster\n",
    "            dis = dtw(x,p) \n",
    "            if dis < max_dis:\n",
    "                arg_min = pid\n",
    "                max_dis = dis\n",
    "    return arg_min  #id del prototipo con distancia minima a la instancia x\n",
    "\n",
    "def create_pairs(x, y, prototypes, h_clus, cidx):\n",
    "        pairs = [] \n",
    "        labels = []\n",
    "        n_classes = np.unique(y).shape[0]\n",
    "        n_prototypes = prototypes.shape[0] \n",
    "        n_instances = x.shape[0]\n",
    "        for i in range(n_instances):\n",
    "            pid = h_clus[i]   #cluster al que pertenece la instancia\n",
    "            cl_pr = cidx[pid]  #clase a la que pertenece el cluster de la instancia  --> clase prototipo\n",
    "            cl_gr = y[i]        #ground truth\n",
    "            if cl_pr != cl_gr:\n",
    "                pid = unassigned(x[i], cl_gr, prototypes, cidx)\n",
    "            p = prototypes[pid]\n",
    "            for pix in np.delete(np.arange(n_prototypes), pid):\n",
    "                if cidx[pix] != cl_gr:\n",
    "                    _p = prototypes[pix]\n",
    "                    pairs += [[x[i], p]]\n",
    "                    labels += [0]\n",
    "                    pairs += [[x[i], _p]]\n",
    "                    labels += [1]         \n",
    "        pairs, labels = shuffle(np.array(pairs), np.array(labels), random_state=0)\n",
    "        return pairs, labels "
   ]
  },
  {
   "cell_type": "code",
   "execution_count": null,
   "metadata": {
    "colab": {
     "base_uri": "https://localhost:8080/"
    },
    "collapsed": false,
    "id": "-II6ytjrpdtM",
    "outputId": "b57b6db5-4a56-4760-fdca-a5264eab4bc4"
   },
   "outputs": [
    {
     "name": "stdout",
     "output_type": "stream",
     "text": [
      "(53636, 2, 18, 4) (53636,)\n"
     ]
    }
   ],
   "source": [
    "tr_pairs_50, tr_y_50 =  create_pairs(x_train, y_train, prototypes_40, h_clus_40, cidx_40)\n",
    "print(tr_pairs_50.shape, tr_y_50.shape)"
   ]
  },
  {
   "cell_type": "code",
   "execution_count": null,
   "metadata": {
    "collapsed": true,
    "id": "3k6zPWJopl_4"
   },
   "outputs": [],
   "source": [
    "def euclidean_distance(vects):\n",
    "    x, y = vects\n",
    "    sum_square = K.sum(K.square(x - y), axis=1, keepdims=True)\n",
    "    return K.sqrt(K.maximum(sum_square, K.epsilon()))\n",
    "\n",
    "def eucl_dist_output_shape(shapes):\n",
    "    shape1, shape2 = shapes\n",
    "    return (shape1[0], 1)\n",
    "\n",
    "def contrastive_loss(y_true, y_pred):\n",
    "    margin = 1\n",
    "    square_pred = K.square(y_pred)\n",
    "    margin_square = K.square(K.maximum(margin - y_pred, 0))\n",
    "    return K.mean((1 - y_true) * square_pred + (y_true) * margin_square)\n",
    "\n",
    "def create_base_network(input_shape):\n",
    "    input = Input(shape=input_shape)\n",
    "    x = Flatten()(input)\n",
    "    x = Dense(16, activation='relu')(x)\n",
    "    x = Dense(8, activation='relu')(x)\n",
    "    x = Dropout(0.1)(x)\n",
    "    return Model(input, x)\n",
    "    \n",
    "def compute_accuracy(y_true, y_pred):\n",
    "    pred = y_pred.ravel() < 0.5\n",
    "    return np.mean(pred != y_true)\n",
    "\n",
    "def accuracy(y_true, y_pred):\n",
    "    return K.mean(K.equal(y_true, K.cast(y_pred < 0.5, y_true.dtype)))"
   ]
  },
  {
   "cell_type": "code",
   "execution_count": null,
   "metadata": {
    "collapsed": true,
    "id": "IqxcEwIMpqRX"
   },
   "outputs": [],
   "source": [
    "tr_y_50 = tf.cast(tr_y_50, dtype='float32')\n",
    "input_shape = tr_pairs_50.shape[2:]\n",
    "base_network = create_base_network(input_shape)\n",
    "input_a = Input(shape=input_shape)\n",
    "input_b = Input(shape=input_shape)\n",
    "processed_a = base_network(input_a)\n",
    "processed_b = base_network(input_b)\n",
    "distance = Lambda(euclidean_distance, output_shape=eucl_dist_output_shape)([processed_a, processed_b])\n",
    "model_50 = Model([input_a, input_b], distance)\n",
    "rms = RMSprop(learning_rate=0.0001)\n",
    "model_50.compile(loss=contrastive_loss, optimizer=rms)\n",
    "history_50 = model_50.fit([tr_pairs_50[:, 0], tr_pairs_50[:, 1]], tr_y_50, batch_size=64, epochs=50, validation_split=0.3, verbose=False)"
   ]
  },
  {
   "cell_type": "code",
   "execution_count": null,
   "metadata": {
    "colab": {
     "base_uri": "https://localhost:8080/",
     "height": 421
    },
    "collapsed": false,
    "id": "Nwn_wKUZpvEO",
    "outputId": "e8f7ebe5-8a41-4148-c6c8-21675ab6bfa5"
   },
   "outputs": [
    {
     "data": {
      "image/png": "[encoded data removed]",
      "text/plain": [
       "<Figure size 576x432 with 1 Axes>"
      ]
     },
     "metadata": {
      "needs_background": "light",
      "tags": []
     },
     "output_type": "display_data"
    },
    {
     "name": "stdout",
     "output_type": "stream",
     "text": [
      "0.7864680438511448\n"
     ]
    }
   ],
   "source": [
    "plt.rcParams[\"figure.figsize\"] = (8,6)\n",
    "plt.plot(history_50.history['loss'])\n",
    "plt.plot(history_50.history['val_loss'])\n",
    "plt.title('Model loss')\n",
    "plt.ylabel('Loss')\n",
    "plt.xlabel('Epochs')\n",
    "# plt.ylim(0,1.0)\n",
    "plt.legend(['Train', 'Validation'], loc='upper left')\n",
    "plt.show()\n",
    "\n",
    "y_pred = model_50.predict([tr_pairs_50[:,0],tr_pairs_50[:,1]])\n",
    "print(compute_accuracy(tr_y_50, y_pred))"
   ]
  },
  {
   "cell_type": "code",
   "execution_count": null,
   "metadata": {
    "collapsed": true,
    "id": "c32_Z356pz8w"
   },
   "outputs": [],
   "source": [
    "def get_instance(x_ins, prototypes, model_):\n",
    "    n_prototypes = prototypes.shape[0]\n",
    "    outcomes = np.arange(n_prototypes, dtype=float)\n",
    "    for i in range(n_prototypes):\n",
    "        x_test_pair = np.empty([0, 2, x_ins.shape[0], x_ins.shape[1]])\n",
    "        pair = np.array([[x_ins, prototypes[i]]])\n",
    "        x_test_pair = np.append(x_test_pair, pair, axis=0)\n",
    "        outcomes[i] = model_.predict([x_test_pair[:, 0], x_test_pair[:, 1]])\n",
    "    return outcomes\n",
    "\n",
    "def get_bias(x_train,prototypes,model_):\n",
    "    n_prototypes = prototypes.shape[0]\n",
    "    n_instances = x_train.shape[0]\n",
    "    outcomes = np.arange(n_instances*n_prototypes, dtype=float).reshape(n_instances,n_prototypes)\n",
    "    for i in range(n_instances):\n",
    "        outcomes[i,:] = get_instance(x_train[i],prototypes,model_)\n",
    "    \n",
    "    means = np.arange(n_prototypes, dtype=float)\n",
    "    desvs = np.arange(n_prototypes, dtype=float)\n",
    "    for i in range(n_prototypes):\n",
    "        means[i] = np.mean(outcomes[:,i])\n",
    "        desvs[i] = np.std(outcomes[:,i])\n",
    "    return means, desvs, outcomes\n",
    "\n",
    "def get_unbias(outcomes, means):\n",
    "    n_instances = outcomes.shape[0]\n",
    "    n_prototypes = outcomes.shape[1]\n",
    "    outcomes_ = np.arange(n_instances*n_prototypes, dtype=float).reshape(n_instances,n_prototypes)\n",
    "    for i in range(n_instances):\n",
    "        outcomes_[i,:] = outcomes[i,:] - means\n",
    "    return outcomes_"
   ]
  },
  {
   "cell_type": "code",
   "execution_count": null,
   "metadata": {
    "colab": {
     "base_uri": "https://localhost:8080/"
    },
    "collapsed": false,
    "id": "czfJITuQp2UZ",
    "outputId": "efa38da1-2e06-4251-fa59-03caacd396ff"
   },
   "outputs": [
    {
     "name": "stdout",
     "output_type": "stream",
     "text": [
      "(40,) (40,) (894, 40)\n",
      "(40,) (40,) (298, 40)\n",
      "(894, 40) (298, 40)\n",
      "CPU times: user 35min 27s, sys: 35.7 s, total: 36min 3s\n",
      "Wall time: 35min 43s\n"
     ]
    }
   ],
   "source": [
    "%%time\n",
    "means_tr_50, desvs_tr_50, outcomes_tr_50 = get_bias(x_train,prototypes_40,model_50)\n",
    "means_te_50, desvs_te_50, outcomes_te_50 = get_bias(x_test,prototypes_40,model_50)\n",
    "outcomes_tr_un_50 = get_unbias(outcomes_tr_50,means_tr_50)\n",
    "outcomes_te_un_50 = get_unbias(outcomes_te_50,means_tr_50)\n",
    "print(means_tr_50.shape, desvs_tr_50.shape, outcomes_tr_50.shape)\n",
    "print(means_te_50.shape, desvs_te_50.shape, outcomes_te_50.shape)\n",
    "print(outcomes_tr_un_50.shape, outcomes_te_un_50.shape)"
   ]
  },
  {
   "cell_type": "code",
   "execution_count": null,
   "metadata": {
    "collapsed": true,
    "id": "As4CRMIDqIX2"
   },
   "outputs": [],
   "source": [
    "def eval_instance(i,outcomes,y,cidx_,verbose=False):\n",
    "    if verbose: \n",
    "        print(\"GT:\",y[i])\n",
    "        print(\"PR:\",cidx_[np.argmin(outcomes[i,:])], np.argmin(outcomes[i,:]))\n",
    "        print(y[i] == cidx_[np.argmin(outcomes[i,:])])\n",
    "        print(outcomes[i,])\n",
    "    return y[i] == cidx_[np.argmin(outcomes[i,:])]\n",
    "\n",
    "def get_accuracy(outcomes,y,cidx_):\n",
    "    accum = 0\n",
    "    n_instances = outcomes.shape[0]\n",
    "    for i in range(n_instances):\n",
    "        val = eval_instance(i,outcomes,y,cidx_)\n",
    "        if (val == True): accum += 1\n",
    "    return accum/n_instances"
   ]
  },
  {
   "cell_type": "code",
   "execution_count": null,
   "metadata": {
    "colab": {
     "base_uri": "https://localhost:8080/"
    },
    "collapsed": false,
    "id": "mTOc_zyTqLbN",
    "outputId": "c2b8109b-7341-490b-9edf-b2d6453abeee"
   },
   "outputs": [
    {
     "name": "stdout",
     "output_type": "stream",
     "text": [
      "0.46868008948545864\n",
      "0.4429530201342282\n"
     ]
    }
   ],
   "source": [
    "print(get_accuracy(outcomes_tr_un_50,y_train,cidx_40))\n",
    "print(get_accuracy(outcomes_te_un_50,y_test,cidx_40))"
   ]
  },
  {
   "cell_type": "code",
   "execution_count": null,
   "metadata": {
    "collapsed": true,
    "id": "Mv0b9WRyqOL_"
   },
   "outputs": [],
   "source": [
    "def get_ml_set(outcomes):\n",
    "    n_instances = outcomes.shape[0]\n",
    "    n_prototypes = outcomes.shape[1]\n",
    "    outcomes_ = np.arange(n_instances*n_prototypes, dtype=float).reshape(n_instances,n_prototypes)\n",
    "    for i in range(n_instances):\n",
    "        xls = outcomes[i,:]*-1   #Cambiar sentido de la distancia, mientras más cerca mejor\n",
    "        xls = xls - np.min(xls)\n",
    "        xls = xls/np.max(xls)\n",
    "        outcomes_[i,:] = xls    # resultados normalizado\n",
    "    return outcomes_"
   ]
  },
  {
   "cell_type": "code",
   "execution_count": null,
   "metadata": {
    "collapsed": true,
    "id": "I4KPnLDyqOPg"
   },
   "outputs": [],
   "source": [
    "outcomes_training_50 = get_ml_set(outcomes_tr_50)\n",
    "outcomes_testing_50 = get_ml_set(outcomes_te_50)"
   ]
  },
  {
   "cell_type": "code",
   "execution_count": null,
   "metadata": {
    "colab": {
     "base_uri": "https://localhost:8080/"
    },
    "collapsed": false,
    "id": "IHlX4soZqOHT",
    "outputId": "6bd36c32-1cba-456d-9a2e-452127fae0bf"
   },
   "outputs": [
    {
     "data": {
      "text/plain": [
       "MLPClassifier(activation='relu', alpha=1e-05, batch_size='auto', beta_1=0.9,\n",
       "              beta_2=0.999, early_stopping=False, epsilon=1e-08,\n",
       "              hidden_layer_sizes=(32, 4), learning_rate='constant',\n",
       "              learning_rate_init=0.001, max_fun=15000, max_iter=10000,\n",
       "              momentum=0.9, n_iter_no_change=10, nesterovs_momentum=True,\n",
       "              power_t=0.5, random_state=None, shuffle=True, solver='adam',\n",
       "              tol=0.0001, validation_fraction=0.25, verbose=False,\n",
       "              warm_start=False)"
      ]
     },
     "execution_count": 1412,
     "metadata": {
      "tags": []
     },
     "output_type": "execute_result"
    }
   ],
   "source": [
    "from sklearn.neural_network import MLPClassifier\n",
    "\n",
    "clf_50 = MLPClassifier(solver='adam', alpha=1e-5, hidden_layer_sizes=(32,4), random_state=None, validation_fraction=0.25, verbose=False, max_iter=10000)\n",
    "clf_50.fit(outcomes_training_50,y_train)"
   ]
  },
  {
   "cell_type": "code",
   "execution_count": null,
   "metadata": {
    "colab": {
     "base_uri": "https://localhost:8080/"
    },
    "collapsed": false,
    "id": "aV7Vx6XuVL7E",
    "outputId": "8c964d67-7bca-4ee0-c9e9-c8512f8f9ae4"
   },
   "outputs": [
    {
     "name": "stdout",
     "output_type": "stream",
     "text": [
      "0.5346938775510204\n",
      "0.5365853658536586\n",
      "\n",
      "0.5279946263069816\n",
      "0.5303065994161771\n",
      "\n",
      "[0.4940239  0.73846154 0.54320988 0.33628319]\n",
      "[0.57731959 0.69444444 0.51612903 0.33333333]\n"
     ]
    }
   ],
   "source": [
    "print(clf_50.score(outcomes_training_50,y_train))\n",
    "print(clf_50.score(outcomes_testing_50,y_test))\n",
    "print()\n",
    "print(f1_score(clf_50.predict(outcomes_training_50),y_train, average='macro'))\n",
    "print(f1_score(clf_50.predict(outcomes_testing_50),y_test, average='macro'))\n",
    "print()\n",
    "print(f1_score(clf_50.predict(outcomes_training_50),y_train, average=None))\n",
    "print(f1_score(clf_50.predict(outcomes_testing_50),y_test, average=None))"
   ]
  },
  {
   "cell_type": "code",
   "execution_count": null,
   "metadata": {
    "colab": {
     "base_uri": "https://localhost:8080/"
    },
    "collapsed": false,
    "id": "29oPniIK4A3B",
    "outputId": "2b4295d4-1e9c-4b31-99ee-c1696721f9d1"
   },
   "outputs": [
    {
     "name": "stdout",
     "output_type": "stream",
     "text": [
      "0.5693877551020409\n",
      "0.524390243902439\n",
      "\n",
      "0.5472826094861347\n",
      "0.5170529671200884\n",
      "\n",
      "[0.56074766 0.74       0.55677656 0.33160622]\n",
      "[0.56790123 0.65853659 0.53191489 0.30985915]\n"
     ]
    }
   ],
   "source": [
    "print(clf_50.score(outcomes_training_50,y_train))\n",
    "print(clf_50.score(outcomes_testing_50,y_test))\n",
    "print()\n",
    "print(f1_score(clf_50.predict(outcomes_training_50),y_train, average='macro'))\n",
    "print(f1_score(clf_50.predict(outcomes_testing_50),y_test, average='macro'))\n",
    "print()\n",
    "print(f1_score(clf_50.predict(outcomes_training_50),y_train, average=None))\n",
    "print(f1_score(clf_50.predict(outcomes_testing_50),y_test, average=None))"
   ]
  },
  {
   "cell_type": "code",
   "execution_count": null,
   "metadata": {
    "colab": {
     "base_uri": "https://localhost:8080/"
    },
    "collapsed": false,
    "id": "CrCjVFAuC-BB",
    "outputId": "85c9196c-8a03-4697-97ed-0c75e5a27600"
   },
   "outputs": [
    {
     "name": "stdout",
     "output_type": "stream",
     "text": [
      "0.7224489795918367\n",
      "0.49390243902439024\n",
      "\n",
      "0.7098800041531829\n",
      "0.4842978000537448\n",
      "\n",
      "[0.74103586 0.86692015 0.70848708 0.52307692]\n",
      "[0.6185567  0.55696203 0.3902439  0.37142857]\n"
     ]
    }
   ],
   "source": [
    "print(clf_50.score(outcomes_training_50,y_train))\n",
    "print(clf_50.score(outcomes_testing_50,y_test))\n",
    "print()\n",
    "print(f1_score(clf_50.predict(outcomes_training_50),y_train, average='macro'))\n",
    "print(f1_score(clf_50.predict(outcomes_testing_50),y_test, average='macro'))\n",
    "print()\n",
    "print(f1_score(clf_50.predict(outcomes_training_50),y_train, average=None))\n",
    "print(f1_score(clf_50.predict(outcomes_testing_50),y_test, average=None))"
   ]
  },
  {
   "cell_type": "markdown",
   "metadata": {
    "id": "-9CzR8Zx91Jr"
   },
   "source": [
    "### Concatenar TD-RvNN y P-SN"
   ]
  },
  {
   "cell_type": "code",
   "execution_count": null,
   "metadata": {
    "collapsed": true,
    "id": "KwwJtkTdAFeI"
   },
   "outputs": [],
   "source": [
    "news_labels_train"
   ]
  },
  {
   "cell_type": "code",
   "execution_count": null,
   "metadata": {
    "collapsed": true,
    "id": "XaQKrS37qYMC"
   },
   "outputs": [],
   "source": [
    "#Concatenar outputs P-SN y TD-RvNN\n",
    "with open('tw15_3h_4_train.npy', 'rb') as f:\n",
    "    torch_rvnn_train = np.load(f, allow_pickle=True).item()\n",
    "with open('tw15_3h_4_test.npy', 'rb') as f:\n",
    "    torch_rvnn_test = np.load(f, allow_pickle=True).item()"
   ]
  },
  {
   "cell_type": "code",
   "execution_count": null,
   "metadata": {
    "colab": {
     "base_uri": "https://localhost:8080/"
    },
    "collapsed": false,
    "id": "oElCU3TrsFDC",
    "outputId": "69c5fd1c-a81d-430e-db05-ac80f2290171"
   },
   "outputs": [
    {
     "name": "stdout",
     "output_type": "stream",
     "text": [
      "894\n",
      "(894, 40)\n",
      "298\n",
      "(298, 40)\n"
     ]
    }
   ],
   "source": [
    "print(len(torch_rvnn_train))\n",
    "print(outcomes_training_50.shape)\n",
    "print(len(torch_rvnn_test))\n",
    "print(outcomes_testing_50.shape)"
   ]
  },
  {
   "cell_type": "code",
   "execution_count": null,
   "metadata": {
    "collapsed": true,
    "id": "kRFJ1cH-99Gp"
   },
   "outputs": [],
   "source": [
    "#Parear historias\n",
    "def get_concat_set(news_labels, outcomes, torch_rvnn):\n",
    "    outcomes_pairs = []\n",
    "    y_concat = []\n",
    "    for i, (tree_id, label) in enumerate(news_labels.items()):\n",
    "        # print(i, tree_id, label)\n",
    "        # print(outcomes_training_50[i].shape)\n",
    "        # print(torch_rvnn_train[str(tree_id)].shape)\n",
    "        concat = np.concatenate((outcomes[i], torch_rvnn[str(tree_id)]), axis=None)\n",
    "        outcomes_pairs.append(concat)\n",
    "        y_concat.append(label)\n",
    "    return np.array(outcomes_pairs), np.array(y_concat)"
   ]
  },
  {
   "cell_type": "code",
   "execution_count": null,
   "metadata": {
    "colab": {
     "base_uri": "https://localhost:8080/"
    },
    "collapsed": false,
    "id": "jHOB_9rbOkoS",
    "outputId": "8acd8ce9-b74b-4f4d-8de3-4d730c9f14ed"
   },
   "outputs": [
    {
     "name": "stdout",
     "output_type": "stream",
     "text": [
      "(894, 140)\n",
      "(894,)\n"
     ]
    }
   ],
   "source": [
    "outcomes_train_pairs, y_train_concat = get_concat_set(news_labels_train, outcomes_training_50, torch_rvnn_train)\n",
    "print(outcomes_train_pairs.shape)\n",
    "print(y_train_concat.shape)"
   ]
  },
  {
   "cell_type": "code",
   "execution_count": null,
   "metadata": {
    "colab": {
     "base_uri": "https://localhost:8080/"
    },
    "collapsed": false,
    "id": "HmAVbbMTKOAU",
    "outputId": "9f87f379-5eaf-4282-b5e0-b024e46b421e"
   },
   "outputs": [
    {
     "name": "stdout",
     "output_type": "stream",
     "text": [
      "(298, 140)\n",
      "(298,)\n"
     ]
    }
   ],
   "source": [
    "outcomes_test_pairs, y_test_concat = get_concat_set(news_labels_test, outcomes_testing_50, torch_rvnn_test)\n",
    "print(outcomes_test_pairs.shape)\n",
    "print(y_test_concat.shape)"
   ]
  },
  {
   "cell_type": "code",
   "execution_count": null,
   "metadata": {
    "colab": {
     "base_uri": "https://localhost:8080/"
    },
    "collapsed": false,
    "id": "trLa47YrvFZL",
    "outputId": "c4476fcd-0209-420c-8eff-989813c1e18d"
   },
   "outputs": [
    {
     "data": {
      "text/plain": [
       "MLPClassifier(activation='relu', alpha=1e-05, batch_size='auto', beta_1=0.9,\n",
       "              beta_2=0.999, early_stopping=False, epsilon=1e-08,\n",
       "              hidden_layer_sizes=(32, 4), learning_rate='constant',\n",
       "              learning_rate_init=0.001, max_fun=15000, max_iter=10000,\n",
       "              momentum=0.9, n_iter_no_change=10, nesterovs_momentum=True,\n",
       "              power_t=0.5, random_state=None, shuffle=True, solver='adam',\n",
       "              tol=0.0001, validation_fraction=0.25, verbose=False,\n",
       "              warm_start=False)"
      ]
     },
     "execution_count": 1421,
     "metadata": {
      "tags": []
     },
     "output_type": "execute_result"
    }
   ],
   "source": [
    "clf_50_concat = MLPClassifier(solver='adam', alpha=1e-5, hidden_layer_sizes=(32,4), random_state=None, validation_fraction=0.25, verbose=False, max_iter=10000)\n",
    "clf_50_concat.fit(outcomes_train_pairs,y_train_concat)"
   ]
  },
  {
   "cell_type": "code",
   "execution_count": null,
   "metadata": {
    "colab": {
     "base_uri": "https://localhost:8080/"
    },
    "collapsed": false,
    "id": "JVbKRMMBiHal",
    "outputId": "8f75418c-5bb7-4cc0-ee1c-b25023356521"
   },
   "outputs": [
    {
     "name": "stdout",
     "output_type": "stream",
     "text": [
      "0.9836734693877551\n",
      "0.7865853658536586\n",
      "\n",
      "0.9828231606122073\n",
      "0.7907759641670895\n",
      "\n",
      "[0.99607843 1.         0.96969697 0.96551724]\n",
      "[0.93333333 0.79518072 0.72727273 0.70731707]\n"
     ]
    }
   ],
   "source": [
    "#12h\n",
    "print(clf_50_concat.score(outcomes_train_pairs,y_train_concat))\n",
    "print(clf_50_concat.score(outcomes_test_pairs,y_test_concat))\n",
    "print()\n",
    "print(f1_score(clf_50_concat.predict(outcomes_train_pairs),y_train_concat, average='macro'))\n",
    "print(f1_score(clf_50_concat.predict(outcomes_test_pairs),y_test_concat, average='macro'))\n",
    "print()\n",
    "print(f1_score(clf_50_concat.predict(outcomes_train_pairs),y_train_concat, average=None))\n",
    "print(f1_score(clf_50_concat.predict(outcomes_test_pairs),y_test_concat, average=None))"
   ]
  },
  {
   "cell_type": "code",
   "execution_count": null,
   "metadata": {
    "colab": {
     "base_uri": "https://localhost:8080/"
    },
    "collapsed": false,
    "id": "Ip4WHX13VCsP",
    "outputId": "a7710228-3124-4c9c-bdf0-d29a81253be6"
   },
   "outputs": [
    {
     "name": "stdout",
     "output_type": "stream",
     "text": [
      "0.9938775510204082\n",
      "0.7682926829268293\n",
      "\n",
      "0.9935060067095227\n",
      "0.7694364359911299\n",
      "\n",
      "[1.         1.         0.98689956 0.98712446]\n",
      "[0.86842105 0.80952381 0.74157303 0.65822785]\n"
     ]
    }
   ],
   "source": [
    "#24h\n",
    "print(clf_50_concat.score(outcomes_train_pairs,y_train_concat))\n",
    "print(clf_50_concat.score(outcomes_test_pairs,y_test_concat))\n",
    "print()\n",
    "print(f1_score(clf_50_concat.predict(outcomes_train_pairs),y_train_concat, average='macro'))\n",
    "print(f1_score(clf_50_concat.predict(outcomes_test_pairs),y_test_concat, average='macro'))\n",
    "print()\n",
    "print(f1_score(clf_50_concat.predict(outcomes_train_pairs),y_train_concat, average=None))\n",
    "print(f1_score(clf_50_concat.predict(outcomes_test_pairs),y_test_concat, average=None))"
   ]
  },
  {
   "cell_type": "code",
   "execution_count": null,
   "metadata": {
    "colab": {
     "base_uri": "https://localhost:8080/"
    },
    "collapsed": false,
    "id": "Kdg-J8HGR1fh",
    "outputId": "101d867b-959e-4bb3-97fc-f2fc6e939fd2"
   },
   "outputs": [
    {
     "name": "stdout",
     "output_type": "stream",
     "text": [
      "0.9959183673469387\n",
      "0.7317073170731707\n",
      "\n",
      "0.9958982320422473\n",
      "0.7301068818464254\n",
      "\n",
      "[0.99588477 1.         0.99570815 0.992     ]\n",
      "[0.87058824 0.72727273 0.63291139 0.68965517]\n"
     ]
    }
   ],
   "source": [
    "#48h\n",
    "print(clf_50_concat.score(outcomes_train_pairs,y_train_concat))\n",
    "print(clf_50_concat.score(outcomes_test_pairs,y_test_concat))\n",
    "print()\n",
    "print(f1_score(clf_50_concat.predict(outcomes_train_pairs),y_train_concat, average='macro'))\n",
    "print(f1_score(clf_50_concat.predict(outcomes_test_pairs),y_test_concat, average='macro'))\n",
    "print()\n",
    "print(f1_score(clf_50_concat.predict(outcomes_train_pairs),y_train_concat, average=None))\n",
    "print(f1_score(clf_50_concat.predict(outcomes_test_pairs),y_test_concat, average=None))"
   ]
  }
 ],
 "metadata": {
  "colab": {
   "collapsed_sections": [],
   "name": "Untitled",
   "provenance": []
  },
  "kernelspec": {
   "display_name": "Python 3",
   "language": "python",
   "name": "python3"
  },
  "language_info": {
   "codemirror_mode": {
    "name": "ipython",
    "version": 3
   },
   "file_extension": ".py",
   "mimetype": "text/x-python",
   "name": "python",
   "nbconvert_exporter": "python",
   "pygments_lexer": "ipython3",
   "version": "3.6.7"
  }
 },
 "nbformat": 4,
 "nbformat_minor": 0
}
