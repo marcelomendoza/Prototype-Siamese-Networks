{
 "cells": [
  {
   "cell_type": "code",
   "execution_count": null,
   "metadata": {
    "colab": {
     "base_uri": "https://localhost:8080/"
    },
    "collapsed": false,
    "id": "tdGWJwNFGaWj",
    "outputId": "18b821c7-8639-4cd7-d121-c701ef9bb93a"
   },
   "outputs": [
    {
     "name": "stdout",
     "output_type": "stream",
     "text": [
      "Mounted at /content/gdrive/\n"
     ]
    }
   ],
   "source": [
    "from google.colab import drive\n",
    "drive.mount('/content/gdrive/')"
   ]
  },
  {
   "cell_type": "code",
   "execution_count": null,
   "metadata": {
    "colab": {
     "base_uri": "https://localhost:8080/"
    },
    "collapsed": false,
    "id": "90sl9GTlQ6Xn",
    "outputId": "483c20c8-5650-48f2-9d4c-2c9a598c0510"
   },
   "outputs": [
    {
     "name": "stdout",
     "output_type": "stream",
     "text": [
      "TensorFlow 1.x selected.\n",
      "Collecting sacred\n",
      "\u001b[?25l  Downloading https://files.pythonhosted.org/packages/f9/7f/c5679977f1eceac432c59cc92bd1ddb7272c282c3db8eb846d0e1c03b6a0/sacred-0.8.1.tar.gz (90kB)\n",
      "\u001b[K     |████████████████████████████████| 92kB 10.7MB/s \n",
      "\u001b[?25hRequirement already satisfied: docopt<1.0,>=0.3 in /usr/local/lib/python3.6/dist-packages (from sacred) (0.6.2)\n",
      "Collecting jsonpickle<2.0,>=1.2\n",
      "  Downloading https://files.pythonhosted.org/packages/ee/d5/1cc282dc23346a43aab461bf2e8c36593aacd34242bee1a13fa750db0cfe/jsonpickle-1.4.2-py2.py3-none-any.whl\n",
      "Collecting munch<3.0,>=2.0.2\n",
      "  Downloading https://files.pythonhosted.org/packages/cc/ab/85d8da5c9a45e072301beb37ad7f833cd344e04c817d97e0cc75681d248f/munch-2.5.0-py2.py3-none-any.whl\n",
      "Requirement already satisfied: wrapt<2.0,>=1.0 in /usr/local/lib/python3.6/dist-packages (from sacred) (1.12.1)\n",
      "Collecting py-cpuinfo>=4.0\n",
      "\u001b[?25l  Downloading https://files.pythonhosted.org/packages/f6/f5/8e6e85ce2e9f6e05040cf0d4e26f43a4718bcc4bce988b433276d4b1a5c1/py-cpuinfo-7.0.0.tar.gz (95kB)\n",
      "\u001b[K     |████████████████████████████████| 102kB 13.0MB/s \n",
      "\u001b[?25hCollecting colorama>=0.4\n",
      "  Downloading https://files.pythonhosted.org/packages/44/98/5b86278fbbf250d239ae0ecb724f8572af1c91f4a11edf4d36a206189440/colorama-0.4.4-py2.py3-none-any.whl\n",
      "Requirement already satisfied: packaging>=18.0 in /usr/local/lib/python3.6/dist-packages (from sacred) (20.7)\n",
      "Collecting GitPython\n",
      "\u001b[?25l  Downloading https://files.pythonhosted.org/packages/24/d1/a7f8fe3df258549b303415157328bfcc63e9b11d06a7ad7a3327f3d32606/GitPython-3.1.11-py3-none-any.whl (159kB)\n",
      "\u001b[K     |████████████████████████████████| 163kB 51.4MB/s \n",
      "\u001b[?25hRequirement already satisfied: importlib-metadata; python_version < \"3.8\" in /usr/local/lib/python3.6/dist-packages (from jsonpickle<2.0,>=1.2->sacred) (3.1.1)\n",
      "Requirement already satisfied: six in /usr/local/lib/python3.6/dist-packages (from munch<3.0,>=2.0.2->sacred) (1.15.0)\n",
      "Requirement already satisfied: pyparsing>=2.0.2 in /usr/local/lib/python3.6/dist-packages (from packaging>=18.0->sacred) (2.4.7)\n",
      "Collecting gitdb<5,>=4.0.1\n",
      "\u001b[?25l  Downloading https://files.pythonhosted.org/packages/48/11/d1800bca0a3bae820b84b7d813ad1eff15a48a64caea9c823fc8c1b119e8/gitdb-4.0.5-py3-none-any.whl (63kB)\n",
      "\u001b[K     |████████████████████████████████| 71kB 10.2MB/s \n",
      "\u001b[?25hRequirement already satisfied: zipp>=0.5 in /usr/local/lib/python3.6/dist-packages (from importlib-metadata; python_version < \"3.8\"->jsonpickle<2.0,>=1.2->sacred) (3.4.0)\n",
      "Collecting smmap<4,>=3.0.1\n",
      "  Downloading https://files.pythonhosted.org/packages/b0/9a/4d409a6234eb940e6a78dfdfc66156e7522262f5f2fecca07dc55915952d/smmap-3.0.4-py2.py3-none-any.whl\n",
      "Building wheels for collected packages: sacred, py-cpuinfo\n",
      "  Building wheel for sacred (setup.py) ... \u001b[?25l\u001b[?25hdone\n",
      "  Created wheel for sacred: filename=sacred-0.8.1-py2.py3-none-any.whl size=105019 sha256=e1eb875870e77c8a0df1cb04bbd2c62cfe65486c9aab730248f6849ca891925b\n",
      "  Stored in directory: /root/.cache/pip/wheels/11/a8/f6/1d5f073245cb0a221962713adf81e56c1c9608083f85ecac9b\n",
      "  Building wheel for py-cpuinfo (setup.py) ... \u001b[?25l\u001b[?25hdone\n",
      "  Created wheel for py-cpuinfo: filename=py_cpuinfo-7.0.0-cp36-none-any.whl size=20071 sha256=29e21a937a94ff2e993fba892d76d47808a2ef60e845ee7a8274f5eb497b1a6d\n",
      "  Stored in directory: /root/.cache/pip/wheels/f1/93/7b/127daf0c3a5a49feb2fecd468d508067c733fba5192f726ad1\n",
      "Successfully built sacred py-cpuinfo\n",
      "Installing collected packages: jsonpickle, munch, py-cpuinfo, colorama, smmap, gitdb, GitPython, sacred\n",
      "Successfully installed GitPython-3.1.11 colorama-0.4.4 gitdb-4.0.5 jsonpickle-1.4.2 munch-2.5.0 py-cpuinfo-7.0.0 sacred-0.8.1 smmap-3.0.4\n"
     ]
    }
   ],
   "source": [
    "import os\n",
    "import uuid\n",
    "import shutil\n",
    "from glob import glob\n",
    "from datetime import date\n",
    "import functools\n",
    "\n",
    "%tensorflow_version 1.x\n",
    "import tensorflow as tf\n",
    "tf.version\n",
    "\n",
    "import numpy as np\n",
    "import pandas as pd\n",
    "from sklearn.metrics import mean_squared_error\n",
    "from tqdm import tqdm, trange\n",
    "!pip install sacred\n",
    "import sacred\n",
    "from sacred.stflow import LogFileWriter\n",
    "\n",
    "import seaborn as sns\n",
    "import matplotlib.pyplot as plt\n",
    "\n",
    "# from somvae_model import SOMVAE\n",
    "from utils import *"
   ]
  },
  {
   "cell_type": "code",
   "execution_count": null,
   "metadata": {
    "colab": {
     "base_uri": "https://localhost:8080/"
    },
    "collapsed": false,
    "id": "osAb8woDpTCp",
    "outputId": "aeb72762-fd3a-499d-d4e4-b23e7c790c88"
   },
   "outputs": [
    {
     "data": {
      "text/plain": [
       "<module 'tensorflow._api.v1.version' from '/tensorflow-1.15.2/python3.6/tensorflow_core/_api/v1/version/__init__.py'>"
      ]
     },
     "execution_count": 4,
     "metadata": {
      "tags": []
     },
     "output_type": "execute_result"
    }
   ],
   "source": [
    "tf.version"
   ]
  },
  {
   "cell_type": "markdown",
   "metadata": {
    "id": "LvwyYvPXSg6E"
   },
   "source": [
    "# Get time series"
   ]
  },
  {
   "cell_type": "code",
   "execution_count": null,
   "metadata": {
    "collapsed": true,
    "id": "S5xTO7isQ6SE"
   },
   "outputs": [],
   "source": [
    "import get_time_series "
   ]
  },
  {
   "cell_type": "code",
   "execution_count": null,
   "metadata": {
    "collapsed": true,
    "id": "1OhkBkpxLtGA"
   },
   "outputs": [],
   "source": [
    "year_data = 'Twitter15'\n",
    "dest = 'tw15'\n",
    "\n",
    "t = os.path.join('gdrive/My Drive/Master/Data', year_data, 'tree.tar.gz')\n",
    "p = os.path.join('gdrive/My Drive/Master/Data', year_data, 'post.tar.gz')\n",
    "u = os.path.join('gdrive/My Drive/Master/Data', year_data, 'users.tar.gz')\n",
    "l = os.path.join('gdrive/My Drive/Master/Data', year_data, 'label.txt')\n",
    "\n",
    "!mkdir \"$dest\"\n",
    "!tar -xzvf \"$t\" -C \"$dest\"\n",
    "!tar -xzvf \"$p\" -C \"$dest\"\n",
    "!tar -xzvf \"$u\" -C \"$dest\"\n",
    "!cp \"$l\" \"$dest\""
   ]
  },
  {
   "cell_type": "code",
   "execution_count": null,
   "metadata": {
    "collapsed": true,
    "id": "cfEVlhoHL1Ha"
   },
   "outputs": [],
   "source": [
    "class data_process:\n",
    "    def __init__(self, path = './'):\n",
    "        self.news = get_time_series.load_data(path = path)\n",
    "        self.posts = get_time_series.load_data_posts(path = path)\n",
    "        self.users = get_time_series.load_data_users(path = path)"
   ]
  },
  {
   "cell_type": "code",
   "execution_count": null,
   "metadata": {
    "collapsed": true,
    "id": "OiijXVXPL8fr"
   },
   "outputs": [],
   "source": [
    "def ts_div_time_interactions(news, time, window, sliding_window):\n",
    "    nodes_order = news.tree.nodes_order\n",
    "    freq_ret, freq_rep, tic = ([] for i in range(3))\n",
    "    if sliding_window:\n",
    "        step = 1            #avanza de a un minuto, overlap\n",
    "    else: \n",
    "        step = window       #avanza en una ventana de tiempo, disjuntos\n",
    "    for i in np.arange(news.tree.first_time, news.tree.first_time + time, step): # interval lim inf \n",
    "            f_ret = 0\n",
    "            f_rep = 0\n",
    "            j = 0\n",
    "            while j<len(nodes_order):\n",
    "                if round(i,2) <= nodes_order[j].timestamp and nodes_order[j].timestamp <= round(i+window,2):\n",
    "                    if nodes_order[j].retweet:\n",
    "                        f_ret += 1       \n",
    "                    else:\n",
    "                        f_rep += 1\n",
    "                j +=1      \n",
    "            freq_ret.append(f_ret)\n",
    "            freq_rep.append(f_rep)\n",
    "            tic.append(i)\n",
    "            \n",
    "    return np.array(tic), np.array(freq_ret), np.array(freq_rep)\n",
    "\n",
    "def get_interactions(news_dict, window, sliding_window, time):\n",
    "    label_to_idx = {'true': 0, 'non-rumor': 1, 'unverified': 2, 'false': 3}\n",
    "    retweets, posts, labels = ([] for i in range(3))\n",
    "    for id_ in news_dict.keys():\n",
    "        x, y_ret, y_rep = ts_div_time_interactions(news_dict[id_], time, window, sliding_window)\n",
    "        labels.append(label_to_idx[news_dict[id_].label]) \n",
    "        retweets.append(y_ret)\n",
    "        posts.append(y_rep)\n",
    "    \n",
    "    return np.array(labels), np.array(retweets), np.array(posts)"
   ]
  },
  {
   "cell_type": "code",
   "execution_count": null,
   "metadata": {
    "collapsed": true,
    "id": "jsTpAlzY4cNQ"
   },
   "outputs": [],
   "source": [
    "data = data_process('tw15')"
   ]
  },
  {
   "cell_type": "code",
   "execution_count": null,
   "metadata": {
    "collapsed": true,
    "id": "6d0u0qBz4cNX"
   },
   "outputs": [],
   "source": [
    "labels, retweets, posts = get_interactions(data.news, 10, True, 720)\n",
    "interactions = retweets + posts\n",
    "# grad_interactions_1 = np.gradient(interactions, axis=1)\n",
    "# grad_interactions_2 = np.gradient(grad_interactions_1, axis=1)    "
   ]
  },
  {
   "cell_type": "code",
   "execution_count": null,
   "metadata": {
    "colab": {
     "base_uri": "https://localhost:8080/"
    },
    "collapsed": false,
    "id": "7V3K9xhHWL8g",
    "outputId": "2c6699da-bb3b-4646-c604-28482a81cc2d"
   },
   "outputs": [
    {
     "name": "stdout",
     "output_type": "stream",
     "text": [
      "new users\n",
      "followers\n",
      "followings\n"
     ]
    }
   ],
   "source": [
    "window = 10\n",
    "slide_window = True\n",
    "time = 720\n",
    "print('new users')\n",
    "labels, new_users = get_time_series.get_fingerprints(data.news, data.users, data.posts, 'new_users', window, slide_window, time)\n",
    "print('followers')\n",
    "labels, followers = get_time_series.get_fingerprints(data.news, data.users, data.posts, 'followers', window, slide_window, time)\n",
    "print('followings')\n",
    "labels, followings = get_time_series.get_fingerprints(data.news, data.users, data.posts, 'followings', window, slide_window, time)"
   ]
  },
  {
   "cell_type": "code",
   "execution_count": null,
   "metadata": {
    "colab": {
     "base_uri": "https://localhost:8080/"
    },
    "collapsed": false,
    "id": "TjFvdcGcWX01",
    "outputId": "82e9d28d-84bf-4185-8b61-36f3cba3a05f"
   },
   "outputs": [
    {
     "name": "stdout",
     "output_type": "stream",
     "text": [
      "(1490,)\n",
      "(1490, 720)\n",
      "(1490, 720)\n",
      "(1490, 720)\n"
     ]
    }
   ],
   "source": [
    "print(labels.shape)\n",
    "print(new_users.shape)\n",
    "print(followers.shape)\n",
    "print(followings.shape)"
   ]
  },
  {
   "cell_type": "code",
   "execution_count": null,
   "metadata": {
    "colab": {
     "base_uri": "https://localhost:8080/"
    },
    "collapsed": false,
    "id": "5gy2tqpVTvke",
    "outputId": "8e728230-673e-4ae0-892a-20e396f5577d"
   },
   "outputs": [
    {
     "name": "stdout",
     "output_type": "stream",
     "text": [
      "(1490,)\n",
      "(1490, 720)\n",
      "(1490, 720)\n",
      "(1490, 720)\n"
     ]
    }
   ],
   "source": [
    "print(labels.shape)\n",
    "print(retweets.shape)\n",
    "print(posts.shape)\n",
    "print(interactions.shape)\n",
    "# print(grad_interactions_1.shape)\n",
    "# print(grad_interactions_2.shape)"
   ]
  },
  {
   "cell_type": "code",
   "execution_count": null,
   "metadata": {
    "collapsed": true,
    "id": "LrZEH6pN4cNg"
   },
   "outputs": [],
   "source": [
    "def get_multivariate_series(time_series, labels, scale = 1): \n",
    "        paa = PiecewiseAggregateApproximation(n_segments=140) # equals the number of segments and samples!!!\n",
    "        digits = []\n",
    "        for i in range(72):\n",
    "            digits.append(i*10)\n",
    "        digits = np.array(digits)\n",
    "        \n",
    "        if scale == 0:\n",
    "            time_series_scaled = []\n",
    "            for ts in time_series:\n",
    "                scaler = MinMaxScaler()\n",
    "                # scaler = StandardScaler()\n",
    "                scaler.fit(ts)\n",
    "                ts = scaler.transform(ts)\n",
    "                ts = ts.reshape(ts.shape[0],ts.shape[1])\n",
    "                time_series_scaled.append(ts)\n",
    "        elif scale == 1:\n",
    "            time_series_scaled = []\n",
    "            for ts in time_series:\n",
    "                scaler = MinMaxScaler()\n",
    "                scaler.fit(ts)\n",
    "                ts = scaler.transform(ts)\n",
    "                # print('1 ', ts.shape)\n",
    "                ts = ts.reshape(ts.shape[0], ts.shape[1], 1)\n",
    "                ts = paa.inverse_transform(paa.fit_transform(ts))\n",
    "                # print(ts.shape)\n",
    "                ts = ts[:,digits,:]\n",
    "                # print(ts.shape)\n",
    "                ts = ts.reshape(ts.shape[0],ts.shape[1])\n",
    "                # print(ts.shape)\n",
    "                time_series_scaled.append(ts)                \n",
    "        time_series_multi = np.stack(time_series_scaled, axis=-1) # -1\n",
    "        return time_series_multi"
   ]
  },
  {
   "cell_type": "code",
   "execution_count": null,
   "metadata": {
    "collapsed": true,
    "id": "-1X1ldtdh13A"
   },
   "outputs": [],
   "source": [
    "!pip install tslearn\n",
    "from tslearn.piecewise import PiecewiseAggregateApproximation\n",
    "\n",
    "from sklearn.preprocessing import MinMaxScaler, StandardScaler\n",
    "from sklearn.model_selection import train_test_split"
   ]
  },
  {
   "cell_type": "code",
   "execution_count": null,
   "metadata": {
    "collapsed": true,
    "id": "w-dLoS5127CN"
   },
   "outputs": [],
   "source": [
    "time_series = get_multivariate_series(time_series=[posts, retweets, interactions, new_users, followers, followings], labels=labels, scale=1) #posts, retweets, \n",
    "x_train, x_test, y_train, y_test = train_test_split(time_series, labels, test_size=0.2, stratify=labels)"
   ]
  },
  {
   "cell_type": "code",
   "execution_count": null,
   "metadata": {
    "colab": {
     "base_uri": "https://localhost:8080/"
    },
    "collapsed": false,
    "id": "6luE4Xc0mUAs",
    "outputId": "c8c6a6f2-25fb-41a3-9983-dd74ff2a3120"
   },
   "outputs": [
    {
     "name": "stdout",
     "output_type": "stream",
     "text": [
      "(1490, 72, 6)\n",
      "(1490,)\n"
     ]
    }
   ],
   "source": [
    "print(time_series.shape)\n",
    "print(labels.shape)"
   ]
  },
  {
   "cell_type": "code",
   "execution_count": null,
   "metadata": {
    "collapsed": true,
    "id": "LlcRPA03meru"
   },
   "outputs": [],
   "source": [
    "!pip install tsaug"
   ]
  },
  {
   "cell_type": "code",
   "execution_count": null,
   "metadata": {
    "colab": {
     "base_uri": "https://localhost:8080/",
     "height": 51
    },
    "collapsed": false,
    "id": "gTII5nNqmobH",
    "outputId": "989ed689-6f57-4c19-9413-1d58da1551c0"
   },
   "outputs": [
    {
     "name": "stdout",
     "output_type": "stream",
     "text": [
      "(4090, 720, 6)\n",
      "(4090,)\n"
     ]
    }
   ],
   "source": [
    "from tsaug import AddNoise, Pool\n",
    "\n",
    "my_augmenter = (AddNoise(scale=0.01) + \n",
    "                Pool(size=1) + \n",
    "                AddNoise(scale=0.02) + \n",
    "                Pool(size=2) * 5) \n",
    "\n",
    "X_aug = my_augmenter.augment(time_series)\n",
    "Y_aug = np.array([[i]*5 for i in labels]).flatten()\n",
    "print(X_aug.shape)\n",
    "print(Y_aug.shape)\n",
    "x_train, x_test, y_train, y_test = train_test_split(X_aug, Y_aug, test_size=0.2, stratify=Y_aug)"
   ]
  },
  {
   "cell_type": "code",
   "execution_count": null,
   "metadata": {
    "colab": {
     "base_uri": "https://localhost:8080/",
     "height": 34
    },
    "collapsed": false,
    "id": "OyrPj_Rko_qz",
    "outputId": "b6b5cb91-d834-49b7-cbcf-482ed84c0d74"
   },
   "outputs": [
    {
     "data": {
      "text/plain": [
       "array([0, 0, 0, 0, 0, 1, 1, 1, 1, 1, 1, 1, 1, 1, 1, 0, 0, 0, 0, 0])"
      ]
     },
     "execution_count": 55,
     "metadata": {
      "tags": []
     },
     "output_type": "execute_result"
    }
   ],
   "source": [
    "Y_aug[:20]"
   ]
  },
  {
   "cell_type": "code",
   "execution_count": null,
   "metadata": {
    "colab": {
     "base_uri": "https://localhost:8080/"
    },
    "collapsed": false,
    "id": "Tr-mFRcBuU1F",
    "outputId": "ee1d3ffa-6bf3-4244-eb5e-40ceee3f2e3c"
   },
   "outputs": [
    {
     "name": "stdout",
     "output_type": "stream",
     "text": [
      "(1490, 72, 6)\n",
      "(1192, 72, 6)\n",
      "(1192,)\n",
      "(298, 72, 6)\n",
      "(298,)\n"
     ]
    }
   ],
   "source": [
    "print(time_series.shape)\n",
    "print(x_train.shape)\n",
    "print(y_train.shape)\n",
    "print(x_test.shape)\n",
    "print(y_test.shape)"
   ]
  },
  {
   "cell_type": "code",
   "execution_count": null,
   "metadata": {
    "collapsed": true,
    "id": "e43NtZ79Diqu"
   },
   "outputs": [],
   "source": [
    "data_train = np.expand_dims(x_train, axis=3) #x_train\n",
    "data_val = np.expand_dims(x_test, axis=3) #x_test\n",
    "\n",
    "labels_val = y_test\n",
    "labels_train = y_train"
   ]
  },
  {
   "cell_type": "code",
   "execution_count": null,
   "metadata": {
    "colab": {
     "base_uri": "https://localhost:8080/"
    },
    "collapsed": false,
    "id": "HrCSqvmpJof0",
    "outputId": "19511801-d1aa-4af1-c1b8-fe1cd183f000"
   },
   "outputs": [
    {
     "name": "stdout",
     "output_type": "stream",
     "text": [
      "(1192, 72, 6, 1)\n",
      "(1192,)\n",
      "(298, 72, 6, 1)\n",
      "(298,)\n"
     ]
    }
   ],
   "source": [
    "print(data_train.shape)\n",
    "print(labels_train.shape)\n",
    "print(data_val.shape)\n",
    "print(labels_val.shape)"
   ]
  },
  {
   "cell_type": "markdown",
   "metadata": {
    "id": "UxkjB5bGTnK_"
   },
   "source": [
    "# SOM-VAE Clustering"
   ]
  },
  {
   "cell_type": "code",
   "execution_count": null,
   "metadata": {
    "collapsed": true,
    "id": "y6Nt0MTWTmUb"
   },
   "outputs": [],
   "source": [
    "def weight_variable(shape, name):\n",
    "    \"\"\"Creates a TensorFlow Variable with a given shape and name and truncated normal initialization.\"\"\"\n",
    "    initial = tf.truncated_normal(shape, stddev=0.1)\n",
    "    return tf.Variable(initial,name=name)\n",
    "\n",
    "def bias_variable(shape, name):\n",
    "    \"\"\"Creates a TensorFlow Variable with a given shape and name and constant initialization.\"\"\"\n",
    "    initial = tf.constant(0.1, shape=shape)\n",
    "    return tf.Variable(initial, name=name)\n",
    "\n",
    "def conv2d(x, shape, name, strides=[1,1,1,1]):\n",
    "    \"\"\"Creates a 2D convolutional layer with weight and bias variables.\n",
    "    Args:\n",
    "        x (tf.Tensor): Input tensor.\n",
    "        shape (list): Shape of the weight matrix.\n",
    "        name (str): Name of the layer.\n",
    "        strides (list): Strides for the convolution (default: [1,1,1,1]).\n",
    "    Returns:\n",
    "        tf.Tensor: The convolution defined by the weight matrix and the biases with the given strides.\n",
    "    \"\"\"\n",
    "    weight = weight_variable(shape, \"{}_W\".format(name))\n",
    "    bias = bias_variable([shape[-1]], \"{}_b\".format(name))\n",
    "    return tf.nn.conv2d(x, weight, strides=strides, padding='SAME', name=name) + bias\n",
    "\n",
    "def conv2d_transposed(x, shape, outshape, name, strides=[1,1,1,1]):\n",
    "    \"\"\"Creates a transposed convolutional layer simimar to conv2d.\n",
    "    Args:\n",
    "        x (tf.Tensor): Input tensor.\n",
    "        shape (list): Shape of the weight matrix.\n",
    "        name (str): Name of the layer.\n",
    "        strides (list): Strides for the convolution (default: [1,1,1,1]).\n",
    "    Returns:\n",
    "        tf.Tensor: The transposed convolution defined by the weight matrix and the biases with the given strides.\n",
    "    \"\"\"\n",
    "    weight = weight_variable(shape, \"{}_W\".format(name))\n",
    "    bias = bias_variable([shape[-2]], \"{}_b\".format(name))\n",
    "    return tf.nn.conv2d_transpose(x, weight, output_shape=outshape, strides=strides, padding='SAME', name=name) + bias\n",
    "\n",
    "def max_pool_2x2(x):\n",
    "    \"\"\"Creates a 2x2 max-pooling layer.\"\"\"\n",
    "    return tf.nn.max_pool(x, ksize=[1, 2, 2, 1], strides=[1, 2, 2, 1], padding='SAME')\n",
    "\n",
    "def conv1d(x, shape, name, stride=1):\n",
    "    \"\"\"Creates a 1D convolutional layer with weight and bias variables.\n",
    "    Args:\n",
    "        x (tf.Tensor): Input tensor.\n",
    "        shape (list): Shape of the weight matrix.\n",
    "        name (str): Name of the layer.\n",
    "        stride (int): Stride for the convolution (default: 1).\n",
    "    Returns:\n",
    "        tf.Tensor: The convolution defined by the weight matrix and the biases with the given stride.\n",
    "    \"\"\"\n",
    "    weight = weight_variable(shape, \"{}_W\".format(name))\n",
    "    bias = bias_variable([shape[-1]], \"{}_b\".format(name))\n",
    "    return tf.nn.conv1d(x, weight, stride=stride, padding='SAME', name=name) + bias\n",
    "\n",
    "def max_pool_2x1(x):\n",
    "    \"\"\"Creates a 2x1 max-pooling layer.\"\"\"\n",
    "    return tf.layers.max_pooling1d(x, pool_size=2, strides=2, padding='SAME')\n",
    "\n",
    "def lazy_scope(function):\n",
    "    \"\"\"Creates a decorator for methods that makes their return values load lazily.\n",
    "    A method with this decorator will only compute the return value once when called\n",
    "    for the first time. Afterwards, the value will be cached as an object attribute.\n",
    "    Inspired by: https://danijar.com/structuring-your-tensorflow-models\n",
    "    Args:\n",
    "        function (func): Function to be decorated. \n",
    "    Returns:\n",
    "        decorator: Decorator for the function.\n",
    "    \"\"\"\n",
    "    attribute = \"_cache_\" + function.__name__\n",
    "\n",
    "    @property\n",
    "    @functools.wraps(function)\n",
    "    def decorator(self):\n",
    "        if not hasattr(self, attribute):\n",
    "            with tf.variable_scope(function.__name__):\n",
    "                setattr(self, attribute, function(self))\n",
    "        return getattr(self, attribute)\n",
    "    return decorator\n",
    "\n",
    "class SOMVAE:\n",
    "    \"\"\"Class for the SOM-VAE model as described in https://arxiv.org/abs/1806.02199\"\"\"\n",
    "\n",
    "    def __init__(self, inputs, latent_dim=64, som_dim=[8,8], learning_rate=1e-4, decay_factor=0.95, decay_steps=1000,\n",
    "            input_length=28, input_channels=28, alpha=1., beta=1., gamma=1., tau=1., mnist=True):\n",
    "        \"\"\"Initialization method for the SOM-VAE model object.\n",
    "        Args:\n",
    "            inputs (tf.Tensor): The input tensor for the model.\n",
    "            latent_dim (int): The dimensionality of the latent embeddings (default: 64).\n",
    "            som_dim (list): The dimensionality of the self-organizing map (default: [8,8]).\n",
    "            learning_rate (float): The learning rate for the optimization (default: 1e-4).\n",
    "            decay_factor (float): The factor for the learning rate decay (default: 0.95).\n",
    "            decay_steps (int): The number of optimization steps before every learning rate\n",
    "                decay (default: 1000).\n",
    "            input_length (int): The length of the input data points (default: 28).\n",
    "            input_channels (int): The number of channels of the input data points (default: 28).\n",
    "            alpha (float): The weight for the commitment loss (default: 1.).\n",
    "            beta (float): The weight for the SOM loss (default: 1.).\n",
    "            gamma (float): The weight for the transition probability loss (default: 1.).\n",
    "            tau (float): The weight for the smoothness loss (default: 1.).\n",
    "            mnist (bool): Flag that tells the model if we are training in MNIST-like data (default: True).\n",
    "        \"\"\"\n",
    "        self.latent_dim = latent_dim\n",
    "        self.som_dim = som_dim\n",
    "        self.learning_rate = learning_rate\n",
    "        self.decay_factor = decay_factor\n",
    "        self.decay_steps = decay_steps\n",
    "        self.input_length = input_length\n",
    "        self.input_channels = input_channels\n",
    "        self.alpha = alpha\n",
    "        self.beta = beta\n",
    "        self.gamma = gamma\n",
    "        self.tau = tau\n",
    "        self.mnist = mnist\n",
    "        self.inputs = inputs\n",
    "        self.is_training  \n",
    "        self.batch_size\n",
    "        self.embeddings\n",
    "        self.transition_probabilities\n",
    "        self.global_step\n",
    "        self.z_e\n",
    "        self.z_e_old\n",
    "        self.z_dist_flat\n",
    "        self.k\n",
    "        self.z_q\n",
    "        self.z_q_neighbors\n",
    "        self.reconstruction_q\n",
    "        self.reconstruction_e\n",
    "        self.loss_reconstruction\n",
    "        self.loss_commit\n",
    "        self.loss_som\n",
    "        self.loss_probabilities\n",
    "        self.loss_z_prob\n",
    "        self.loss\n",
    "        self.optimize\n",
    "\n",
    "    @lazy_scope\n",
    "    def is_training(self):\n",
    "        is_training = tf.placeholder(tf.bool, shape=[], name=\"is_training\")\n",
    "        return is_training\n",
    "\n",
    "    @lazy_scope\n",
    "    def embeddings(self):\n",
    "        \"\"\"Creates variable for the SOM embeddings.\"\"\"\n",
    "        embeddings = tf.get_variable(\"embeddings\", self.som_dim+[self.latent_dim],\n",
    "                             initializer=tf.truncated_normal_initializer(stddev=0.05))\n",
    "        tf.summary.tensor_summary(\"embeddings\", embeddings)\n",
    "        return embeddings #SOM map with shape som_dim[0], som_dim[1], latent_dim\n",
    "\n",
    "    @lazy_scope\n",
    "    def transition_probabilities(self):\n",
    "        \"\"\"Creates tensor for the transition probabilities.\"\"\"\n",
    "        with tf.variable_scope(\"probabilities\"):\n",
    "            probabilities_raw = tf.Variable(tf.zeros(self.som_dim+self.som_dim), name=\"probabilities_raw\")\n",
    "            probabilities_positive = tf.exp(probabilities_raw)\n",
    "            probabilities_summed = tf.reduce_sum(probabilities_positive, axis=[-1,-2], keepdims=True)\n",
    "            probabilities_normalized = probabilities_positive / probabilities_summed\n",
    "            return probabilities_normalized\n",
    "\n",
    "    @lazy_scope\n",
    "    def global_step(self):\n",
    "        \"\"\"Creates global_step variable for the optimization.\"\"\"\n",
    "        global_step = tf.Variable(0, trainable=False, name=\"global_step\")\n",
    "        return global_step\n",
    "\n",
    "    @lazy_scope\n",
    "    def batch_size(self):\n",
    "        \"\"\"Reads the batch size from the input tensor.\"\"\"\n",
    "        batch_size = tf.shape(self.inputs)[0]\n",
    "        return batch_size\n",
    "\n",
    "    @lazy_scope\n",
    "    def z_e(self):\n",
    "        \"\"\"Computes the latent encodings of the inputs.\"\"\"\n",
    "        if not self.mnist:\n",
    "            with tf.variable_scope(\"encoder\"):\n",
    "                # print('inputs ', self.inputs)\n",
    "                # h_1 = tf.keras.layers.Dense(32, activation=\"relu\")(self.inputs)\n",
    "                # h_2 = tf.keras.layers.Dense(16, activation=\"relu\")(h_1)\n",
    "                # h_3 = tf.keras.layers.Flatten()(h_2)\n",
    "                # z_e = tf.keras.layers.Dense(self.latent_dim, activation=\"relu\")(h_3)#(h_2)\n",
    "                # print('z_e', z_e)\n",
    "                # h_conv1 = tf.nn.relu(conv1d(self.inputs, [], \"conv1\"))\n",
    "                # h_conv1 = tf.nn.relu(tf.nn.conv1d(input = self.inputs, filters = 8.0, stride=3, padding=\"VALID\"))\n",
    "\n",
    "                h_conv1 = tf.nn.relu(tf.keras.layers.Conv2D(8,3)(self.inputs)) #8,3\n",
    "                h_pool1 = tf.keras.layers.Dropout(0.1)(h_conv1) #tf.nn.dropout(h_conv1, 0.9)# 0.1)\n",
    "                print(h_pool1)\n",
    "                h_conv2 = tf.nn.relu(tf.keras.layers.Conv2D(8,3)(h_pool1))  #8,3\n",
    "                h_pool2 = tf.keras.layers.Dropout(0.1)(h_conv2)\n",
    "                print(h_pool2)\n",
    "                # flat_size = 716*8\n",
    "                # h_flat = tf.reshape(h_pool2, [-1, flat_size])\n",
    "                h_flat = tf.keras.layers.Flatten()(h_pool2)\n",
    "                z_e = tf.keras.layers.Dense(self.latent_dim)(h_flat)\n",
    "                print('fin z_e', z_e)\n",
    "\n",
    "                #dense try\n",
    "                # x = tf.keras.layers.Flatten()(self.inputs)\n",
    "                # x = tf.keras.layers.Dense(16, activation='relu')(x)\n",
    "                # x = tf.keras.layers.Dropout(0.1)(x)\n",
    "                # x = tf.keras.layers.Dense(8, activation='relu')(x)\n",
    "                # z_e = x\n",
    "        else:\n",
    "            with tf.variable_scope(\"encoder\"):\n",
    "                h_conv1 = tf.nn.relu(conv2d(self.inputs, [4,4,1,256], \"conv1\"))\n",
    "                h_pool1 = max_pool_2x2(h_conv1)\n",
    "                h_conv2 = tf.nn.relu(conv2d(h_pool1, [4,4,256,256], \"conv2\"))\n",
    "                h_pool2 = max_pool_2x2(h_conv2)\n",
    "                flat_size = 7*7*256\n",
    "                h_flat = tf.reshape(h_pool2, [-1, flat_size])\n",
    "                z_e = tf.keras.layers.Dense(self.latent_dim)(h_flat)\n",
    "        return z_e\n",
    "\n",
    "    @lazy_scope\n",
    "    def z_e_old(self): #no se usa\n",
    "        \"\"\"Aggregates the encodings of the respective previous time steps.\"\"\"\n",
    "        z_e_old = tf.concat([self.z_e[0:1], self.z_e[:-1]], axis=0)\n",
    "        return z_e_old\n",
    "\n",
    "    @lazy_scope\n",
    "    def z_dist_flat(self):\n",
    "        \"\"\"Computes the distances between the encodings and the embeddings.\"\"\"\n",
    "        z_dist = tf.squared_difference(tf.expand_dims(tf.expand_dims(self.z_e, 1), 1), tf.expand_dims(self.embeddings, 0))\n",
    "        z_dist_red = tf.reduce_sum(z_dist, axis=-1)\n",
    "        z_dist_flat = tf.reshape(z_dist_red, [self.batch_size, -1])\n",
    "        return z_dist_flat\n",
    "\n",
    "    @lazy_scope\n",
    "    def k(self):\n",
    "        \"\"\"Picks the index of the closest embedding for every encoding.\"\"\"\n",
    "        k = tf.argmin(self.z_dist_flat, axis=-1, name=\"k\")\n",
    "        tf.summary.histogram(\"clusters\", k)\n",
    "        return k\n",
    "\n",
    "    @lazy_scope\n",
    "    def z_q(self):\n",
    "        \"\"\"Aggregates the respective closest embedding for every encoding.\"\"\"\n",
    "        k_1 = self.k // self.som_dim[1]\n",
    "        k_2 = self.k % self.som_dim[1]\n",
    "        k_stacked = tf.stack([k_1, k_2], axis=1)\n",
    "        z_q = tf.gather_nd(self.embeddings, k_stacked, name=\"z_q\") #de los embeddings agarra los indices k_stacked\n",
    "        return z_q\n",
    "\n",
    "    @lazy_scope\n",
    "    def z_q_neighbors(self):\n",
    "        \"\"\"Aggregates the respective neighbors in the SOM for every embedding in z_q.\"\"\"\n",
    "        k_1 = self.k // self.som_dim[1]\n",
    "        k_2 = self.k % self.som_dim[1]\n",
    "        k_stacked = tf.stack([k_1, k_2], axis=1)\n",
    "\n",
    "        k1_not_top = tf.less(k_1, tf.constant(self.som_dim[0]-1, dtype=tf.int64))\n",
    "        k1_not_bottom = tf.greater(k_1, tf.constant(0, dtype=tf.int64))\n",
    "        k2_not_right = tf.less(k_2, tf.constant(self.som_dim[1]-1, dtype=tf.int64))\n",
    "        k2_not_left = tf.greater(k_2, tf.constant(0, dtype=tf.int64))\n",
    "\n",
    "        k1_up = tf.where(k1_not_top, tf.add(k_1, 1), k_1)\n",
    "        k1_down = tf.where(k1_not_bottom, tf.subtract(k_1, 1), k_1)\n",
    "        k2_right = tf.where(k2_not_right, tf.add(k_2, 1), k_2)\n",
    "        k2_left = tf.where(k2_not_left, tf.subtract(k_2, 1), k_2)\n",
    "\n",
    "        z_q_up = tf.where(k1_not_top, tf.gather_nd(self.embeddings, tf.stack([k1_up, k_2], axis=1)),\n",
    "                          tf.zeros([self.batch_size, self.latent_dim]))\n",
    "        z_q_down = tf.where(k1_not_bottom, tf.gather_nd(self.embeddings, tf.stack([k1_down, k_2], axis=1)),\n",
    "                          tf.zeros([self.batch_size, self.latent_dim]))\n",
    "        z_q_right = tf.where(k2_not_right, tf.gather_nd(self.embeddings, tf.stack([k_1, k2_right], axis=1)),\n",
    "                          tf.zeros([self.batch_size, self.latent_dim]))\n",
    "        z_q_left = tf.where(k2_not_left, tf.gather_nd(self.embeddings, tf.stack([k_1, k2_left], axis=1)),\n",
    "                          tf.zeros([self.batch_size, self.latent_dim]))\n",
    "\n",
    "        z_q_neighbors = tf.stack([self.z_q, z_q_up, z_q_down, z_q_right, z_q_left], axis=1)\n",
    "        return z_q_neighbors\n",
    "\n",
    "    @lazy_scope\n",
    "    def reconstruction_q(self):\n",
    "        \"\"\"Reconstructs the input from the embeddings.\"\"\"\n",
    "        with tf.variable_scope(\"decoder\", reuse=tf.AUTO_REUSE):\n",
    "            z_p = tf.placeholder(tf.float32, shape=[None, self.latent_dim], name=\"z_q\")\n",
    "            z_q = tf.cond(self.is_training, lambda: self.z_q, lambda: z_p)\n",
    "            if not self.mnist:\n",
    "                # h_3 = tf.keras.layers.Dense(128, activation=\"relu\")(z_q)\n",
    "                # h_4 = tf.keras.layers.Dense(256, activation=\"relu\")(h_3)\n",
    "                # x_hat = tf.keras.layers.Dense(self.input_channels, activation=\"sigmoid\")(h_4)\n",
    "\n",
    "                # h_conv1 = tf.nn.relu(tf.keras.layers.Conv1D(8,3)(self.inputs))\n",
    "                # h_pool1 = tf.keras.layers.Dropout(0.1)(h_conv1) #tf.nn.dropout(h_conv1, 0.9)# 0.1)\n",
    "                # print(h_pool1)\n",
    "                # h_conv2 = tf.nn.relu(tf.keras.layers.Conv1D(8,3)(h_pool1))\n",
    "                # h_pool2 = tf.keras.layers.Dropout(0.1)(h_conv2)\n",
    "                # print(h_pool2)\n",
    "                # flat_size = 716*8\n",
    "                # h_flat = tf.reshape(h_pool2, [-1, flat_size])\n",
    "                # # h_flat = tf.keras.layers.Flatten()(h_pool2)\n",
    "                # z_e = tf.keras.layers.Dense(self.latent_dim)(h_flat)\n",
    "\n",
    "                # flat_size = 32*8*2\n",
    "                flat_size = 68*8*2\n",
    "                # flat_size = 716*8*2\n",
    "                print('init rec q ', z_q)\n",
    "                h_flat_dec = tf.keras.layers.Dense(flat_size)(z_q)\n",
    "                # h_reshaped = tf.reshape(h_flat_dec, [-1, 32, 2, 8])\n",
    "                h_reshaped = tf.reshape(h_flat_dec, [-1, 68, 2, 8]) #[-1, 68, 2, 8]\n",
    "                # h_reshaped = tf.reshape(h_flat_dec, [-1, 716, 2, 8])\n",
    "                print(h_reshaped)\n",
    "                h_deconv1 = tf.keras.layers.Conv2DTranspose(8,3)(h_reshaped)  #8,3\n",
    "                print(h_deconv1)\n",
    "                h_deconv2 = tf.keras.layers.Conv2DTranspose(1,3)(h_deconv1)  #1,3\n",
    "                # print('output rec q ', h_deconv2)\n",
    "                # h_unpool1 = tf.keras.layers.UpSampling2D((2,2))(h_reshaped)\n",
    "                # h_deconv1 = tf.nn.relu(tf.nn.conv1d(h_reshaped, [ 718,8], \"deconv1\"))\n",
    "                # h_unpool2 = tf.keras.layers.UpSampling2D((2,2))(h_deconv1)\n",
    "                # h_deconv2 = tf.nn.sigmoid(conv1d(h_deconv1, [720, 5], \"deconv2\"))\n",
    "                x_hat = h_deconv2\n",
    "                print(x_hat)\n",
    "\n",
    "                #dense try\n",
    "                # x = tf.keras.layers.Dense(8, activation='relu')(z_q)\n",
    "                # # x = tf.keras.layers.Dropout(0.1)(x)\n",
    "                # x = tf.keras.layers.Dense(16, activation='relu')(x)\n",
    "                # x = tf.reshape(x, [-1, 720, 5])\n",
    "                # x_hat = x\n",
    "            else:\n",
    "                flat_size = 7*7*256\n",
    "                h_flat_dec = tf.keras.layers.Dense(flat_size)(z_q)\n",
    "                h_reshaped = tf.reshape(h_flat_dec, [-1, 7, 7, 256])\n",
    "                h_unpool1 = tf.keras.layers.UpSampling2D((2,2))(h_reshaped)\n",
    "                h_deconv1 = tf.nn.relu(conv2d(h_unpool1, [4,4,256,256], \"deconv1\"))\n",
    "                h_unpool2 = tf.keras.layers.UpSampling2D((2,2))(h_deconv1)\n",
    "                h_deconv2 = tf.nn.sigmoid(conv2d(h_unpool2, [4,4,256,1], \"deconv2\"))\n",
    "                x_hat = h_deconv2\n",
    "        return x_hat\n",
    "\n",
    "    @lazy_scope\n",
    "    def reconstruction_e(self):\n",
    "        \"\"\"Reconstructs the input from the encodings.\"\"\"\n",
    "        with tf.variable_scope(\"decoder\", reuse=tf.AUTO_REUSE):\n",
    "            # z_p = tf.placeholder(tf.float32, shape=[None, self.latent_dim], name=\"z_e\")\n",
    "            # z_e = tf.cond(self.is_training, lambda: self.z_e, lambda: z_p)\n",
    "            if not self.mnist:\n",
    "                # h_3 = tf.keras.layers.Dense(128, activation=\"relu\")(self.z_e)\n",
    "                # h_4 = tf.keras.layers.Dense(256, activation=\"relu\")(h_3)\n",
    "                # x_hat = tf.keras.layers.Dense(self.input_channels, activation=\"sigmoid\")(h_4)\n",
    "\n",
    "                # print('on reconstruction e', self.z_e)\n",
    "                # flat_size = 32*8*2\n",
    "                flat_size = 68*8*2\n",
    "                # flat_size = 716*8*2\n",
    "                print('init rec e ', self.z_e)\n",
    "                h_flat_dec = tf.keras.layers.Dense(flat_size)(self.z_e)\n",
    "                # h_reshaped = tf.reshape(h_flat_dec, [-1, 32, 2, 8])\n",
    "                h_reshaped = tf.reshape(h_flat_dec, [-1, 68, 2, 8]) #[-1, 68, 2, 8]\n",
    "                # h_reshaped = tf.reshape(h_flat_dec, [-1, 716, 2, 8])\n",
    "                print(h_reshaped)\n",
    "                h_deconv1 = tf.keras.layers.Conv2DTranspose(8,3)(h_reshaped)   #8,3\n",
    "                print(h_deconv1)\n",
    "                h_deconv2 = tf.keras.layers.Conv2DTranspose(1,3)(h_deconv1)   #1,3\n",
    "                # print('output rec e ', h_deconv2)\n",
    "                # h_unpool1 = tf.keras.layers.UpSampling2D((2,2))(h_reshaped)\n",
    "                # h_deconv1 = tf.nn.relu(tf.nn.conv1d(h_reshaped, [ 718,8], \"deconv1\"))\n",
    "                # h_unpool2 = tf.keras.layers.UpSampling2D((2,2))(h_deconv1)\n",
    "                # h_deconv2 = tf.nn.sigmoid(conv1d(h_deconv1, [720, 5], \"deconv2\"))\n",
    "                x_hat = h_deconv2\n",
    "                print(x_hat)\n",
    "\n",
    "                # #dense try\n",
    "                # x = tf.keras.layers.Dense(8, activation='relu')(self.z_e)\n",
    "                # # x = tf.keras.layers.Dropout(0.1)(x)\n",
    "                # x = tf.keras.layers.Dense(16, activation='relu')(x)\n",
    "                # print('x ', x)\n",
    "                # x = tf.reshape(x, [-1, 720, 5])\n",
    "                # x_hat = x\n",
    "            else:\n",
    "                flat_size = 7*7*256\n",
    "                h_flat_dec = tf.keras.layers.Dense(flat_size)(self.z_e)\n",
    "                h_reshaped = tf.reshape(h_flat_dec, [-1, 7, 7, 256])\n",
    "                h_unpool1 = tf.keras.layers.UpSampling2D((2,2))(h_reshaped)\n",
    "                h_deconv1 = tf.nn.relu(conv2d(h_unpool1, [4,4,256,256], \"deconv1\"))\n",
    "                h_unpool2 = tf.keras.layers.UpSampling2D((2,2))(h_deconv1)\n",
    "                h_deconv2 = tf.nn.sigmoid(conv2d(h_unpool2, [4,4,256,1], \"deconv2\"))\n",
    "                x_hat = h_deconv2\n",
    "        return x_hat\n",
    "\n",
    "    @lazy_scope\n",
    "    def loss_reconstruction(self):\n",
    "        \"\"\"Computes the combined reconstruction loss for both reconstructions.\"\"\"\n",
    "        print('inputs ', self.inputs)\n",
    "        print('rec q ', self.reconstruction_q)\n",
    "        loss_rec_mse_zq = tf.losses.mean_squared_error(self.inputs, self.reconstruction_q)\n",
    "        print('loss rec zq', loss_rec_mse_zq)\n",
    "        print('rec e ', self.reconstruction_e)\n",
    "        loss_rec_mse_ze = tf.losses.mean_squared_error(self.inputs, self.reconstruction_e)\n",
    "        print('loss rec ze', loss_rec_mse_ze)\n",
    "        loss_rec_mse = loss_rec_mse_zq + loss_rec_mse_ze\n",
    "        print('loss rec ', loss_rec_mse)\n",
    "        tf.summary.scalar(\"loss_reconstruction\", loss_rec_mse)\n",
    "        return loss_rec_mse\n",
    "\n",
    "    @lazy_scope\n",
    "    def loss_commit(self):\n",
    "        \"\"\"Computes the commitment loss.\"\"\"\n",
    "        loss_commit = tf.reduce_mean(tf.squared_difference(self.z_e, self.z_q))\n",
    "        tf.summary.scalar(\"loss_commit\", loss_commit)\n",
    "        return loss_commit\n",
    "\n",
    "    @lazy_scope\n",
    "    def loss_som(self):\n",
    "        \"\"\"Computes the SOM loss.\"\"\"\n",
    "        loss_som = tf.reduce_mean(tf.squared_difference(tf.expand_dims(tf.stop_gradient(self.z_e), axis=1), self.z_q_neighbors))\n",
    "        tf.summary.scalar(\"loss_som\", loss_som)\n",
    "        return loss_som\n",
    "\n",
    "    @lazy_scope\n",
    "    def loss_probabilities(self):\n",
    "        \"\"\"Computes the negative log likelihood loss for the transition probabilities.\"\"\"\n",
    "        k_1 = self.k // self.som_dim[1]\n",
    "        k_2 = self.k % self.som_dim[1]\n",
    "        k_1_old = tf.concat([k_1[0:1], k_1[:-1]], axis=0)\n",
    "        k_2_old = tf.concat([k_2[0:1], k_2[:-1]], axis=0)\n",
    "        k_stacked = tf.stack([k_1_old, k_2_old, k_1, k_2], axis=1)\n",
    "        transitions_all = tf.gather_nd(self.transition_probabilities, k_stacked)\n",
    "        loss_probabilities = -self.gamma * tf.reduce_mean(tf.log(transitions_all))\n",
    "        return loss_probabilities\n",
    "\n",
    "    @lazy_scope\n",
    "    def loss_z_prob(self):\n",
    "        \"\"\"Computes the smoothness loss for the transitions given their probabilities.\"\"\"\n",
    "        k_1 = self.k // self.som_dim[1]\n",
    "        k_2 = self.k % self.som_dim[1]\n",
    "        k_1_old = tf.concat([k_1[0:1], k_1[:-1]], axis=0)\n",
    "        k_2_old = tf.concat([k_2[0:1], k_2[:-1]], axis=0)\n",
    "        k_stacked_old = tf.stack([k_1_old, k_2_old], axis=1)\n",
    "        out_probabilities_old = tf.gather_nd(self.transition_probabilities, k_stacked_old)\n",
    "        out_probabilities_flat = tf.reshape(out_probabilities_old, [self.batch_size, -1])\n",
    "        weighted_z_dist_prob = tf.multiply(self.z_dist_flat, out_probabilities_flat)\n",
    "        loss_z_prob = tf.reduce_mean(weighted_z_dist_prob)\n",
    "        return loss_z_prob\n",
    "\n",
    "    @lazy_scope\n",
    "    def loss(self):\n",
    "        \"\"\"Aggregates the loss terms into the total loss.\"\"\"\n",
    "        loss = (self.loss_reconstruction + self.alpha*self.loss_commit + self.beta*self.loss_som\n",
    "                + self.gamma*self.loss_probabilities + self.tau*self.loss_z_prob)\n",
    "        tf.summary.scalar(\"loss\", loss)\n",
    "        return loss\n",
    "\n",
    "    @lazy_scope\n",
    "    def optimize(self):\n",
    "        \"\"\"Optimizes the model's loss using Adam with exponential learning rate decay.\"\"\"\n",
    "        lr_decay = tf.train.exponential_decay(self.learning_rate, self.global_step, self.decay_steps, self.decay_factor, staircase=True)\n",
    "        optimizer = tf.train.AdamOptimizer(lr_decay)\n",
    "        train_step = optimizer.minimize(self.loss, global_step=self.global_step)\n",
    "        train_step_prob = optimizer.minimize(self.loss_probabilities, global_step=self.global_step)\n",
    "        return train_step, train_step_prob"
   ]
  },
  {
   "cell_type": "code",
   "execution_count": null,
   "metadata": {
    "collapsed": true,
    "id": "E1liPVHnQ6LN"
   },
   "outputs": [],
   "source": [
    "ex = sacred.Experiment(\"hyperopt\", interactive=True)\n",
    "ex.observers.append(sacred.observers.FileStorageObserver.create(\"sacred_runs\"))\n",
    "ex.captured_out_filter = sacred.utils.apply_backspaces_and_linefeeds\n",
    "\n",
    "@ex.config\n",
    "def ex_config():\n",
    "    \"\"\"Sacred configuration for the experiment.\n",
    "    Params:\n",
    "        num_epochs (int): Number of training epochs.\n",
    "        patience (int): Patience for the early stopping.\n",
    "        batch_size (int): Batch size for the training.\n",
    "        latent_dim (int): Dimensionality of the SOM-VAE's latent space.\n",
    "        som_dim (list): Dimensionality of the self-organizing map.\n",
    "        learning_rate (float): Learning rate for the optimization.\n",
    "        alpha (float): Weight for the commitment loss.\n",
    "        beta (float): Weight for the SOM loss.\n",
    "        gamma (float): Weight for the transition probability loss.\n",
    "        tau (float): Weight for the smoothness loss.\n",
    "        decay_factor (float): Factor for the learning rate decay.\n",
    "        name (string): Name of the experiment.\n",
    "        ex_name (string): Unique name of this particular run.\n",
    "        logdir (path): Directory for the experiment logs.\n",
    "        modelpath (path): Path for the model checkpoints.\n",
    "        interactive (bool): Indicator if there should be an interactive progress bar for the training.\n",
    "        data_set (string): Data set for the training.\n",
    "        save_model (bool): Indicator if the model checkpoints should be kept after training and evaluation.\n",
    "        time_series (bool): Indicator if the model should be trained on linearly interpolated\n",
    "            MNIST time series.\n",
    "        mnist (bool): Indicator if the model is trained on MNIST-like data.\n",
    "    \"\"\"\n",
    "    num_epochs = 20\n",
    "    patience = 100\n",
    "    batch_size = 32\n",
    "    latent_dim = 8\n",
    "    som_dim = [5,4]  #K\n",
    "    learning_rate = 0.0005\n",
    "    alpha = 1.0\n",
    "    beta = 0.9\n",
    "    gamma = 1.8\n",
    "    tau = 1.4\n",
    "    decay_factor = 0.9\n",
    "    name = ex.get_experiment_info()[\"name\"]\n",
    "    ex_name = \"{}_{}_{}-{}_{}_{}\".format(name, latent_dim, som_dim[0], som_dim[1], str(date.today()), uuid.uuid4().hex[:5])\n",
    "    logdir = \"./logs/{}\".format(ex_name)\n",
    "    modelpath = \"./models/{}/{}.ckpt\".format(ex_name, ex_name)\n",
    "    interactive = True #si muestra barra de estado en el entrenamiento\n",
    "    # data_set = \"MNIST_data\"\n",
    "    save_model = True\n",
    "    time_series = True \n",
    "    mnist = False\n",
    "\n",
    "@ex.capture\n",
    "def get_data_generator(time_series):\n",
    "    \"\"\"Creates a data generator for the training.    \n",
    "    Args:\n",
    "        time_series (bool): Indicates whether or not we want interpolated MNIST time series or just\n",
    "            normal MNIST batches.\n",
    "    Returns:\n",
    "        generator: Data generator for the batches.\"\"\"\n",
    "\n",
    "    def batch_generator(mode=\"train\", batch_size=100):\n",
    "        \"\"\"Generator for the data batches.\n",
    "        Args:\n",
    "            mode (str): Mode in ['train', 'val'] that decides which data set the generator\n",
    "                samples from (default: 'train').\n",
    "            batch_size (int): The size of the batches (default: 100).\n",
    "        Yields:\n",
    "            np.array: Data batch.\n",
    "        \"\"\"\n",
    "        assert mode in [\"train\", \"val\"], \"The mode should be in {train, val}.\"\n",
    "        if mode==\"train\":\n",
    "            images = data_train.copy()\n",
    "            labels = labels_train.copy()\n",
    "        elif mode==\"val\":\n",
    "            images = data_val.copy()\n",
    "            labels = labels_val.copy()\n",
    "        \n",
    "        while True:\n",
    "            indices = np.random.permutation(np.arange(len(images)))\n",
    "            images = images[indices]\n",
    "            labels = labels[indices]\n",
    "\n",
    "            if time_series:\n",
    "                for i, image in enumerate(images):\n",
    "                    start_image = image\n",
    "                    # print('labels: ', labels[i])\n",
    "                    # print('where: ', np.where(labels == (labels[i]) % 10))\n",
    "                    # print('choice: ', np.random.choice(np.where(labels == (labels[i]) % 10)[0]))\n",
    "                    end_image = images[np.random.choice(np.where(labels == (labels[i]) % 10)[0])]\n",
    "                    # print('start: ', start_image.shape)\n",
    "                    # print('end: ', end_image.shape)\n",
    "                    # print('batch: ', batch_size)\n",
    "                    interpolation = interpolate_arrays(start_image, end_image, batch_size)\n",
    "                    yield interpolation + np.random.normal(scale=0.01, size=interpolation.shape)\n",
    "            else:\n",
    "                for i in range(len(images)//batch_size):\n",
    "                    yield images[i*batch_size:(i+1)*batch_size]\n",
    "\n",
    "    return batch_generator\n",
    "\n",
    "@ex.capture\n",
    "def train_model(model, x, lr_val, num_epochs, patience, batch_size, logdir,\n",
    "        modelpath, learning_rate, interactive, generator, latent_dim):\n",
    "    \"\"\"Trains the SOM-VAE model.    \n",
    "    Args:\n",
    "        model (SOM-VAE): SOM-VAE model to train.\n",
    "        x (tf.Tensor): Input tensor or placeholder.\n",
    "        lr_val (tf.Tensor): Placeholder for the learning rate value.\n",
    "        num_epochs (int): Number of epochs to train.\n",
    "        patience (int): Patience parameter for the early stopping.\n",
    "        batch_size (int): Batch size for the training generator.\n",
    "        logdir (path): Directory for saving the logs.\n",
    "        modelpath (path): Path for saving the model checkpoints.\n",
    "        learning_rate (float): Learning rate for the optimization.\n",
    "        interactive (bool): Indicator if we want to have an interactive\n",
    "            progress bar for training.\n",
    "        generator (generator): Generator for the data batches.\n",
    "    \"\"\"\n",
    "    train_gen = generator(\"train\", batch_size)\n",
    "    val_gen = generator(\"val\", batch_size)\n",
    "\n",
    "    num_batches = len(data_train)//batch_size\n",
    "\n",
    "    saver = tf.train.Saver(keep_checkpoint_every_n_hours=2.)\n",
    "    summaries = tf.summary.merge_all() #tf.summary.merge_all()\n",
    "    # print('asd')\n",
    "    with tf.Session() as sess:\n",
    "        sess.run(tf.global_variables_initializer())\n",
    "        patience_count = 0\n",
    "        test_losses = []\n",
    "        with LogFileWriter(ex):\n",
    "            train_writer = tf.summary.FileWriter(logdir+\"/train\", sess.graph)\n",
    "            test_writer = tf.summary.FileWriter(logdir+\"/test\", sess.graph)\n",
    "        print(\"Training...\")\n",
    "        train_step_SOMVAE, train_step_prob = model.optimize\n",
    "        # print('is trainng...')\n",
    "        is_training = model.is_training\n",
    "        graph = tf.get_default_graph()\n",
    "        z_p = graph.get_tensor_by_name(\"reconstruction_q/decoder/z_q:0\")\n",
    "        try:\n",
    "            print('try')\n",
    "            if interactive:\n",
    "                pbar = tqdm(total=num_epochs*(num_batches)) \n",
    "            for epoch in range(num_epochs):\n",
    "                batch_val = next(val_gen)\n",
    "                # print('batch data ',  batch_val.shape)\n",
    "                # print('epoch...')\n",
    "                test_loss, summary = sess.run([model.loss, summaries], feed_dict={x: batch_val, is_training: True, z_p: np.zeros((batch_size, latent_dim))})\n",
    "                # print('loss...')\n",
    "                test_losses.append(test_loss)\n",
    "                test_writer.add_summary(summary, tf.train.global_step(sess, model.global_step))\n",
    "                # print('summary')\n",
    "                if test_losses[-1] == min(test_losses):\n",
    "                    saver.save(sess, modelpath, global_step=epoch)\n",
    "                    patience_count = 0\n",
    "                else:\n",
    "                    patience_count += 1\n",
    "                if patience_count >= patience:\n",
    "                    break\n",
    "                # print('for....')\n",
    "                for i in range(num_batches):\n",
    "                    # print('batch...')\n",
    "                    batch_data = next(train_gen)\n",
    "                    # print('batch data ',  batch_data.shape)\n",
    "                    if i%100 == 0:\n",
    "                        # print('if...')\n",
    "                        train_loss, summary = sess.run([model.loss, summaries], feed_dict={x: batch_data, is_training: True, z_p: np.zeros((batch_size, latent_dim))})\n",
    "                        # print('if2...')\n",
    "                        train_writer.add_summary(summary, tf.train.global_step(sess, model.global_step))\n",
    "                    # print('asdasd')\n",
    "                    train_step_SOMVAE.run(feed_dict={x: batch_data, lr_val:learning_rate, is_training: True, z_p: np.zeros((batch_size, latent_dim))})\n",
    "                    # print('asdasd2')\n",
    "                    train_step_prob.run(feed_dict={x: batch_data, lr_val:learning_rate*100})\n",
    "                    # print('asdasd3')\n",
    "                    if interactive:\n",
    "                        pbar.set_postfix(epoch=epoch, train_loss=train_loss, test_loss=test_loss, refresh=False)\n",
    "                        pbar.update(1)\n",
    "        except KeyboardInterrupt:\n",
    "            pass\n",
    "        finally:\n",
    "            saver.save(sess, modelpath)\n",
    "            if interactive:\n",
    "                pbar.close()\n",
    "\n",
    "@ex.capture\n",
    "def evaluate_model(model, x, modelpath, batch_size, latent_dim):\n",
    "    \"\"\"Evaluates the performance of the trained model in terms of normalized\n",
    "    mutual information, purity and mean squared error.\n",
    "    Args:\n",
    "        model (SOM-VAE): Trained SOM-VAE model to evaluate.\n",
    "        x (tf.Tensor): Input tensor or placeholder.\n",
    "        modelpath (path): Path from which to restore the model.\n",
    "        batch_size (int): Batch size for the evaluation.\n",
    "        \n",
    "    Returns:\n",
    "        dict: Dictionary of evaluation results (NMI, Purity, MSE).\n",
    "    \"\"\"\n",
    "    saver = tf.train.Saver(keep_checkpoint_every_n_hours=2.)\n",
    "\n",
    "    num_batches = len(data_val)//batch_size\n",
    "\n",
    "    is_training = model.is_training\n",
    "    graph = tf.get_default_graph()\n",
    "    z_p = graph.get_tensor_by_name(\"reconstruction_q/decoder/z_q:0\")\n",
    "\n",
    "    with tf.Session() as sess:\n",
    "        sess.run(tf.global_variables_initializer())\n",
    "        saver.restore(sess, modelpath)\n",
    "\n",
    "        test_k_all = []\n",
    "        test_rec_all = []\n",
    "        test_mse_all = []\n",
    "        print(\"Evaluation...\")\n",
    "        print(num_batches)\n",
    "        for i in range(num_batches):\n",
    "            batch_data = data_val[i*batch_size:(i+1)*batch_size]\n",
    "            # print(batch_data.shape)\n",
    "            # print('eval1')\n",
    "            test_k_all.extend(sess.run(model.k, feed_dict={x: batch_data, is_training: False, z_p: np.zeros((batch_size, latent_dim))}))\n",
    "            # print('eval2')\n",
    "            test_rec = sess.run(model.reconstruction_q, feed_dict={x: batch_data, is_training: False, z_p: np.zeros((batch_size, latent_dim))})\n",
    "            test_rec_all.extend(test_rec)\n",
    "            test_mse_all.append(mean_squared_error(test_rec.flatten(), batch_data.flatten()))\n",
    "            # print('eval3')\n",
    "        print('test k all', test_k_all)\n",
    "        print(labels_val[:len(test_k_all)])\n",
    "        test_nmi = compute_NMI(test_k_all, labels_val[:len(test_k_all)])\n",
    "        test_purity = compute_purity(test_k_all, labels_val[:len(test_k_all)])\n",
    "        test_mse = np.mean(test_mse_all)\n",
    "    results = {}\n",
    "    results[\"NMI\"] = test_nmi\n",
    "    results[\"Purity\"] = test_purity\n",
    "    results[\"MSE\"] = test_mse\n",
    "    return results\n",
    "\n",
    "# @ex.automain\n",
    "@ex.main\n",
    "def main(latent_dim, som_dim, learning_rate, decay_factor, alpha, beta, gamma, tau, modelpath, save_model, mnist):\n",
    "    \"\"\"Main method to build a model, train it and evaluate it.\n",
    "    Args:\n",
    "        latent_dim (int): Dimensionality of the SOM-VAE's latent space.\n",
    "        som_dim (list): Dimensionality of the SOM.\n",
    "        learning_rate (float): Learning rate for the training.\n",
    "        decay_factor (float): Factor for the learning rate decay.\n",
    "        alpha (float): Weight for the commitment loss.\n",
    "        beta (float): Weight for the SOM loss.\n",
    "        gamma (float): Weight for the transition probability loss.\n",
    "        tau (float): Weight for the smoothness loss.\n",
    "        modelpath (path): Path for the model checkpoints.\n",
    "        save_model (bool): Indicates if the model should be saved after training and evaluation.\n",
    "    Returns:\n",
    "        dict: Results of the evaluation (NMI, Purity, MSE).\n",
    "    \"\"\"    \n",
    "    # Dimensions for time series data\n",
    "    input_length = 72\n",
    "    input_channels = 6 #n_features\n",
    "    x = tf.placeholder(tf.float32, shape=[None, 72, 6, 1])\n",
    "    # x = tf.placeholder(tf.float32, shape=[None, 36, 6, 1])\n",
    "    # print('data generator')\n",
    "    data_generator = get_data_generator()\n",
    "    # print(data_generator)\n",
    "\n",
    "    # print('crear modelo')\n",
    "    lr_val = tf.placeholder_with_default(learning_rate, [])\n",
    "    model = SOMVAE(inputs=x, latent_dim=latent_dim, som_dim=som_dim, learning_rate=lr_val, decay_factor=decay_factor,\n",
    "            input_length=input_length, input_channels=input_channels, alpha=alpha, beta=beta, gamma=gamma,\n",
    "            tau=tau, mnist=mnist)\n",
    "    # model.summary()\n",
    "    # print('training...')}\n",
    "    train_model(model, x, lr_val, generator=data_generator)\n",
    "    # print('evaluar...')\n",
    "    result = evaluate_model(model, x)\n",
    "\n",
    "    if not save_model:\n",
    "        shutil.rmtree(os.path.dirname(modelpath))\n",
    "    return result, model, data_generator"
   ]
  },
  {
   "cell_type": "code",
   "execution_count": null,
   "metadata": {
    "collapsed": true,
    "id": "wKUosx0YTgpV"
   },
   "outputs": [],
   "source": [
    "!mkdir logs\n",
    "!mkdir models"
   ]
  },
  {
   "cell_type": "code",
   "execution_count": null,
   "metadata": {
    "colab": {
     "base_uri": "https://localhost:8080/"
    },
    "collapsed": false,
    "id": "8qlbB4IDTglZ",
    "outputId": "307bcdbc-a54e-4d20-f58b-4b9e8d59e23e"
   },
   "outputs": [
    {
     "name": "stderr",
     "output_type": "stream",
     "text": [
      "INFO - hyperopt - Running command 'main'\n",
      "INFO - hyperopt - Started run with ID \"28\"\n"
     ]
    },
    {
     "name": "stdout",
     "output_type": "stream",
     "text": [
      "Tensor(\"z_e/encoder/dropout/cond/Merge:0\", shape=(?, 70, 4, 8), dtype=float32)\n",
      "Tensor(\"z_e/encoder/dropout_1/cond/Merge:0\", shape=(?, 68, 2, 8), dtype=float32)\n",
      "fin z_e Tensor(\"z_e/encoder/dense/BiasAdd:0\", shape=(?, 8), dtype=float32)\n",
      "init rec q  Tensor(\"reconstruction_q/decoder/cond/Merge:0\", shape=(?, 8), dtype=float32)\n",
      "Tensor(\"reconstruction_q/decoder/Reshape:0\", shape=(?, 68, 2, 8), dtype=float32)\n",
      "Tensor(\"reconstruction_q/decoder/conv2d_transpose/BiasAdd:0\", shape=(?, 70, 4, 8), dtype=float32)\n",
      "Tensor(\"reconstruction_q/decoder/conv2d_transpose_1/BiasAdd:0\", shape=(?, 72, 6, 1), dtype=float32)\n",
      "init rec e  Tensor(\"z_e/encoder/dense/BiasAdd:0\", shape=(?, 8), dtype=float32)\n",
      "Tensor(\"reconstruction_e/decoder/Reshape:0\", shape=(?, 68, 2, 8), dtype=float32)\n",
      "Tensor(\"reconstruction_e/decoder/conv2d_transpose_2/BiasAdd:0\", shape=(?, 70, 4, 8), dtype=float32)\n",
      "Tensor(\"reconstruction_e/decoder/conv2d_transpose_3/BiasAdd:0\", shape=(?, 72, 6, 1), dtype=float32)\n",
      "inputs  Tensor(\"Placeholder:0\", shape=(?, 72, 6, 1), dtype=float32)\n",
      "rec q  Tensor(\"reconstruction_q/decoder/conv2d_transpose_1/BiasAdd:0\", shape=(?, 72, 6, 1), dtype=float32)\n",
      "loss rec zq Tensor(\"loss_reconstruction/mean_squared_error/value:0\", shape=(), dtype=float32)\n",
      "rec e  Tensor(\"reconstruction_e/decoder/conv2d_transpose_3/BiasAdd:0\", shape=(?, 72, 6, 1), dtype=float32)\n",
      "loss rec ze Tensor(\"loss_reconstruction/mean_squared_error_1/value:0\", shape=(), dtype=float32)\n",
      "loss rec  Tensor(\"loss_reconstruction/add:0\", shape=(), dtype=float32)\n"
     ]
    },
    {
     "name": "stderr",
     "output_type": "stream",
     "text": [
      "\r",
      "  0%|          | 0/740 [00:00<?, ?it/s]"
     ]
    },
    {
     "name": "stdout",
     "output_type": "stream",
     "text": [
      "Training...\n",
      "try\n"
     ]
    },
    {
     "name": "stderr",
     "output_type": "stream",
     "text": [
      "100%|██████████| 740/740 [00:07<00:00, 93.84it/s, epoch=19, test_loss=3.24, train_loss=2.71] \n"
     ]
    },
    {
     "name": "stdout",
     "output_type": "stream",
     "text": [
      "INFO:tensorflow:Restoring parameters from ./models/hyperopt_8_5-4_2020-12-11_294f3/hyperopt_8_5-4_2020-12-11_294f3.ckpt\n"
     ]
    },
    {
     "name": "stderr",
     "output_type": "stream",
     "text": [
      "INFO - tensorflow - Restoring parameters from ./models/hyperopt_8_5-4_2020-12-11_294f3/hyperopt_8_5-4_2020-12-11_294f3.ckpt\n"
     ]
    },
    {
     "name": "stdout",
     "output_type": "stream",
     "text": [
      "Evaluation...\n",
      "9\n",
      "test k all [10, 17, 14, 10, 19, 10, 10, 19, 16, 10, 19, 17, 13, 10, 10, 17, 10, 19, 17, 3, 13, 10, 10, 12, 17, 19, 10, 10, 10, 10, 10, 10, 10, 14, 14, 17, 10, 9, 3, 10, 16, 10, 11, 12, 13, 10, 12, 19, 10, 10, 10, 12, 19, 10, 3, 9, 10, 14, 16, 19, 19, 12, 19, 10, 19, 10, 13, 13, 1, 10, 10, 12, 14, 8, 10, 10, 17, 10, 9, 17, 10, 16, 19, 10, 13, 9, 10, 12, 18, 10, 10, 17, 12, 2, 10, 13, 10, 9, 10, 5, 19, 10, 13, 10, 10, 9, 4, 4, 16, 8, 18, 12, 10, 10, 10, 10, 0, 10, 14, 14, 19, 14, 10, 8, 17, 14, 8, 10, 10, 10, 10, 19, 10, 10, 10, 14, 1, 10, 10, 10, 19, 14, 16, 10, 0, 12, 10, 10, 12, 10, 10, 17, 10, 19, 10, 16, 17, 10, 10, 15, 14, 10, 14, 18, 10, 19, 10, 10, 10, 17, 17, 12, 10, 19, 17, 6, 10, 10, 13, 10, 10, 17, 10, 10, 14, 10, 10, 10, 14, 16, 10, 10, 10, 10, 13, 0, 17, 19, 10, 19, 16, 14, 14, 19, 10, 10, 1, 6, 1, 5, 14, 16, 12, 14, 10, 10, 10, 10, 12, 14, 10, 10, 12, 17, 3, 14, 10, 12, 19, 17, 10, 10, 10, 8, 10, 10, 10, 10, 2, 10, 9, 10, 10, 4, 10, 10, 19, 13, 10, 10, 10, 10, 9, 13, 19, 0, 9, 10, 3, 10, 2, 10, 10, 1, 17, 4, 19, 19, 17, 10, 13, 2, 13, 14, 9, 13, 10, 12, 8, 7, 6, 12, 16, 10, 10, 17, 10, 12]\n",
      "[2 2 1 3 0 2 3 3 0 0 3 3 0 2 3 1 0 2 2 3 3 0 0 1 2 2 0 2 1 0 3 0 3 0 2 3 0\n",
      " 0 1 0 0 2 3 1 1 0 1 0 2 3 1 0 0 3 1 2 3 3 2 2 0 3 2 2 2 2 3 1 1 1 2 1 1 1\n",
      " 3 2 1 0 0 1 3 3 0 3 2 1 0 1 2 2 0 1 0 1 2 0 3 0 0 3 3 0 1 0 2 0 1 1 1 1 3\n",
      " 1 0 2 0 2 2 3 3 3 1 1 3 2 1 3 0 3 1 3 1 2 3 3 3 1 1 3 3 2 2 0 1 2 1 1 3 1\n",
      " 1 2 3 1 0 1 0 3 1 3 3 2 1 2 3 3 1 2 2 0 2 3 0 1 3 0 1 3 0 3 1 0 2 2 2 3 1\n",
      " 0 0 2 0 1 2 3 2 3 3 1 1 0 2 2 0 1 2 2 2 0 1 1 0 2 2 1 1 0 2 0 0 2 3 0 2 3\n",
      " 2 1 1 1 1 1 0 3 2 0 2 1 3 3 3 0 1 0 1 0 0 0 2 0 2 3 2 0 0 3 1 2 2 0 3 2 2\n",
      " 0 1 3 0 3 0 0 3 2 3 3 2 3 1 2 0 1 2 0 1 1 2 3 3 0 0 1 1 1]\n"
     ]
    },
    {
     "name": "stderr",
     "output_type": "stream",
     "text": [
      "INFO - hyperopt - Result: ({'NMI': 0.11378484952232708, 'Purity': 0.4270833333333333, 'MSE': 0.003966046476403234}, <__main__.SOMVAE object at 0x7fcbba4da4a8>, <function get_data_generator.<locals>.batch_generator at 0x7fcbb84a3158>)\n",
      "INFO - hyperopt - Completed after 0:00:10\n",
      "WARNING - hyperopt - An error ocurred in the '<sacred.observers.file_storage.FileStorageObserver object at 0x7fcbc05b4780>' observer: numpy() is only available when eager execution is enabled.\n",
      "ERROR - hyperopt - Traceback (most recent call last):\n",
      "  File \"/usr/local/lib/python3.6/dist-packages/sacred/run.py\", line 429, in _final_call\n",
      "    getattr(observer, method)(**kwargs)\n",
      "  File \"/usr/local/lib/python3.6/dist-packages/sacred/observers/file_storage.py\", line 245, in completed_event\n",
      "    self.save_json(self.run_entry, \"run.json\")\n",
      "  File \"/usr/local/lib/python3.6/dist-packages/sacred/observers/file_storage.py\", line 194, in save_json\n",
      "    json.dump(flatten(obj), f, sort_keys=True, indent=2)\n",
      "  File \"/usr/local/lib/python3.6/dist-packages/sacred/serializer.py\", line 29, in flatten\n",
      "    return _json.loads(json.encode(obj, keys=True))\n",
      "  File \"/usr/local/lib/python3.6/dist-packages/jsonpickle/pickler.py\", line 129, in encode\n",
      "    context.flatten(value, reset=reset), indent=indent, separators=separators\n",
      "  File \"/usr/local/lib/python3.6/dist-packages/jsonpickle/pickler.py\", line 252, in flatten\n",
      "    return self._flatten(obj)\n",
      "  File \"/usr/local/lib/python3.6/dist-packages/jsonpickle/pickler.py\", line 274, in _flatten\n",
      "    return self._pop(self._flatten_obj(obj))\n",
      "  File \"/usr/local/lib/python3.6/dist-packages/jsonpickle/pickler.py\", line 303, in _flatten_obj\n",
      "    raise e\n",
      "  File \"/usr/local/lib/python3.6/dist-packages/jsonpickle/pickler.py\", line 297, in _flatten_obj\n",
      "    return flatten_func(obj)\n",
      "  File \"/usr/local/lib/python3.6/dist-packages/jsonpickle/pickler.py\", line 568, in _flatten_dict_obj\n",
      "    flatten(k, v, data)\n",
      "  File \"/usr/local/lib/python3.6/dist-packages/jsonpickle/pickler.py\", line 685, in _flatten_string_key_value_pair\n",
      "    data[k] = self._flatten(v)\n",
      "  File \"/usr/local/lib/python3.6/dist-packages/jsonpickle/pickler.py\", line 274, in _flatten\n",
      "    return self._pop(self._flatten_obj(obj))\n",
      "  File \"/usr/local/lib/python3.6/dist-packages/jsonpickle/pickler.py\", line 303, in _flatten_obj\n",
      "    raise e\n",
      "  File \"/usr/local/lib/python3.6/dist-packages/jsonpickle/pickler.py\", line 297, in _flatten_obj\n",
      "    return flatten_func(obj)\n",
      "  File \"/usr/local/lib/python3.6/dist-packages/jsonpickle/pickler.py\", line 325, in <lambda>\n",
      "    return lambda obj: {tags.TUPLE: [self._flatten(v) for v in obj]}\n",
      "  File \"/usr/local/lib/python3.6/dist-packages/jsonpickle/pickler.py\", line 325, in <listcomp>\n",
      "    return lambda obj: {tags.TUPLE: [self._flatten(v) for v in obj]}\n",
      "  File \"/usr/local/lib/python3.6/dist-packages/jsonpickle/pickler.py\", line 274, in _flatten\n",
      "    return self._pop(self._flatten_obj(obj))\n",
      "  File \"/usr/local/lib/python3.6/dist-packages/jsonpickle/pickler.py\", line 303, in _flatten_obj\n",
      "    raise e\n",
      "  File \"/usr/local/lib/python3.6/dist-packages/jsonpickle/pickler.py\", line 297, in _flatten_obj\n",
      "    return flatten_func(obj)\n",
      "  File \"/usr/local/lib/python3.6/dist-packages/jsonpickle/pickler.py\", line 354, in _ref_obj_instance\n",
      "    return self._flatten_obj_instance(obj)\n",
      "  File \"/usr/local/lib/python3.6/dist-packages/jsonpickle/pickler.py\", line 536, in _flatten_obj_instance\n",
      "    return self._flatten_dict_obj(obj.__dict__, data)\n",
      "  File \"/usr/local/lib/python3.6/dist-packages/jsonpickle/pickler.py\", line 568, in _flatten_dict_obj\n",
      "    flatten(k, v, data)\n",
      "  File \"/usr/local/lib/python3.6/dist-packages/jsonpickle/pickler.py\", line 685, in _flatten_string_key_value_pair\n",
      "    data[k] = self._flatten(v)\n",
      "  File \"/usr/local/lib/python3.6/dist-packages/jsonpickle/pickler.py\", line 274, in _flatten\n",
      "    return self._pop(self._flatten_obj(obj))\n",
      "  File \"/usr/local/lib/python3.6/dist-packages/jsonpickle/pickler.py\", line 303, in _flatten_obj\n",
      "    raise e\n",
      "  File \"/usr/local/lib/python3.6/dist-packages/jsonpickle/pickler.py\", line 297, in _flatten_obj\n",
      "    return flatten_func(obj)\n",
      "  File \"/usr/local/lib/python3.6/dist-packages/jsonpickle/pickler.py\", line 354, in _ref_obj_instance\n",
      "    return self._flatten_obj_instance(obj)\n",
      "  File \"/usr/local/lib/python3.6/dist-packages/jsonpickle/pickler.py\", line 536, in _flatten_obj_instance\n",
      "    return self._flatten_dict_obj(obj.__dict__, data)\n",
      "  File \"/usr/local/lib/python3.6/dist-packages/jsonpickle/pickler.py\", line 568, in _flatten_dict_obj\n",
      "    flatten(k, v, data)\n",
      "  File \"/usr/local/lib/python3.6/dist-packages/jsonpickle/pickler.py\", line 685, in _flatten_string_key_value_pair\n",
      "    data[k] = self._flatten(v)\n",
      "  File \"/usr/local/lib/python3.6/dist-packages/jsonpickle/pickler.py\", line 274, in _flatten\n",
      "    return self._pop(self._flatten_obj(obj))\n",
      "  File \"/usr/local/lib/python3.6/dist-packages/jsonpickle/pickler.py\", line 303, in _flatten_obj\n",
      "    raise e\n",
      "  File \"/usr/local/lib/python3.6/dist-packages/jsonpickle/pickler.py\", line 297, in _flatten_obj\n",
      "    return flatten_func(obj)\n",
      "  File \"/usr/local/lib/python3.6/dist-packages/jsonpickle/pickler.py\", line 354, in _ref_obj_instance\n",
      "    return self._flatten_obj_instance(obj)\n",
      "  File \"/usr/local/lib/python3.6/dist-packages/jsonpickle/pickler.py\", line 536, in _flatten_obj_instance\n",
      "    return self._flatten_dict_obj(obj.__dict__, data)\n",
      "  File \"/usr/local/lib/python3.6/dist-packages/jsonpickle/pickler.py\", line 568, in _flatten_dict_obj\n",
      "    flatten(k, v, data)\n",
      "  File \"/usr/local/lib/python3.6/dist-packages/jsonpickle/pickler.py\", line 685, in _flatten_string_key_value_pair\n",
      "    data[k] = self._flatten(v)\n",
      "  File \"/usr/local/lib/python3.6/dist-packages/jsonpickle/pickler.py\", line 274, in _flatten\n",
      "    return self._pop(self._flatten_obj(obj))\n",
      "  File \"/usr/local/lib/python3.6/dist-packages/jsonpickle/pickler.py\", line 303, in _flatten_obj\n",
      "    raise e\n",
      "  File \"/usr/local/lib/python3.6/dist-packages/jsonpickle/pickler.py\", line 297, in _flatten_obj\n",
      "    return flatten_func(obj)\n",
      "  File \"/usr/local/lib/python3.6/dist-packages/jsonpickle/pickler.py\", line 354, in _ref_obj_instance\n",
      "    return self._flatten_obj_instance(obj)\n",
      "  File \"/usr/local/lib/python3.6/dist-packages/jsonpickle/pickler.py\", line 536, in _flatten_obj_instance\n",
      "    return self._flatten_dict_obj(obj.__dict__, data)\n",
      "  File \"/usr/local/lib/python3.6/dist-packages/jsonpickle/pickler.py\", line 568, in _flatten_dict_obj\n",
      "    flatten(k, v, data)\n",
      "  File \"/usr/local/lib/python3.6/dist-packages/jsonpickle/pickler.py\", line 685, in _flatten_string_key_value_pair\n",
      "    data[k] = self._flatten(v)\n",
      "  File \"/usr/local/lib/python3.6/dist-packages/jsonpickle/pickler.py\", line 274, in _flatten\n",
      "    return self._pop(self._flatten_obj(obj))\n",
      "  File \"/usr/local/lib/python3.6/dist-packages/jsonpickle/pickler.py\", line 303, in _flatten_obj\n",
      "    raise e\n",
      "  File \"/usr/local/lib/python3.6/dist-packages/jsonpickle/pickler.py\", line 297, in _flatten_obj\n",
      "    return flatten_func(obj)\n",
      "  File \"/usr/local/lib/python3.6/dist-packages/jsonpickle/pickler.py\", line 568, in _flatten_dict_obj\n",
      "    flatten(k, v, data)\n",
      "  File \"/usr/local/lib/python3.6/dist-packages/jsonpickle/pickler.py\", line 685, in _flatten_string_key_value_pair\n",
      "    data[k] = self._flatten(v)\n",
      "  File \"/usr/local/lib/python3.6/dist-packages/jsonpickle/pickler.py\", line 274, in _flatten\n",
      "    return self._pop(self._flatten_obj(obj))\n",
      "  File \"/usr/local/lib/python3.6/dist-packages/jsonpickle/pickler.py\", line 303, in _flatten_obj\n",
      "    raise e\n",
      "  File \"/usr/local/lib/python3.6/dist-packages/jsonpickle/pickler.py\", line 297, in _flatten_obj\n",
      "    return flatten_func(obj)\n",
      "  File \"/usr/local/lib/python3.6/dist-packages/jsonpickle/pickler.py\", line 308, in _list_recurse\n",
      "    return [self._flatten(v) for v in obj]\n",
      "  File \"/usr/local/lib/python3.6/dist-packages/jsonpickle/pickler.py\", line 308, in <listcomp>\n",
      "    return [self._flatten(v) for v in obj]\n",
      "  File \"/usr/local/lib/python3.6/dist-packages/jsonpickle/pickler.py\", line 274, in _flatten\n",
      "    return self._pop(self._flatten_obj(obj))\n",
      "  File \"/usr/local/lib/python3.6/dist-packages/jsonpickle/pickler.py\", line 303, in _flatten_obj\n",
      "    raise e\n",
      "  File \"/usr/local/lib/python3.6/dist-packages/jsonpickle/pickler.py\", line 297, in _flatten_obj\n",
      "    return flatten_func(obj)\n",
      "  File \"/usr/local/lib/python3.6/dist-packages/jsonpickle/pickler.py\", line 354, in _ref_obj_instance\n",
      "    return self._flatten_obj_instance(obj)\n",
      "  File \"/usr/local/lib/python3.6/dist-packages/jsonpickle/pickler.py\", line 418, in _flatten_obj_instance\n",
      "    reduce_val = obj.__reduce__()\n",
      "  File \"/tensorflow-1.15.2/python3.6/tensorflow_core/python/ops/resource_variable_ops.py\", line 825, in __reduce__\n",
      "    initial_value=self.numpy(),\n",
      "  File \"/tensorflow-1.15.2/python3.6/tensorflow_core/python/ops/resource_variable_ops.py\", line 579, in numpy\n",
      "    \"numpy() is only available when eager execution is enabled.\")\n",
      "NotImplementedError: numpy() is only available when eager execution is enabled.\n",
      "\n",
      "WARNING - hyperopt - The observer '<sacred.observers.file_storage.FileStorageObserver object at 0x7fcbc05b4780>' failed at some point during the run.\n"
     ]
    }
   ],
   "source": [
    "tf.reset_default_graph()\n",
    "r = ex.run()"
   ]
  },
  {
   "cell_type": "code",
   "execution_count": null,
   "metadata": {
    "colab": {
     "base_uri": "https://localhost:8080/"
    },
    "collapsed": false,
    "id": "c-ZSE0V3M3aj",
    "outputId": "124df7f3-a49f-4db1-b689-18e76103e599"
   },
   "outputs": [
    {
     "data": {
      "text/plain": [
       "({'MSE': 0.003966046476403234,\n",
       "  'NMI': 0.11378484952232708,\n",
       "  'Purity': 0.4270833333333333},\n",
       " <__main__.SOMVAE at 0x7fcbba4da4a8>,\n",
       " <function __main__.get_data_generator.<locals>.batch_generator>)"
      ]
     },
     "execution_count": 299,
     "metadata": {
      "tags": []
     },
     "output_type": "execute_result"
    }
   ],
   "source": [
    "r.result"
   ]
  },
  {
   "cell_type": "code",
   "execution_count": null,
   "metadata": {
    "colab": {
     "base_uri": "https://localhost:8080/"
    },
    "collapsed": false,
    "id": "pbJaU7PrM3d8",
    "outputId": "2eb5bc2c-2463-4b3a-8067-39d2f93d7e2f",
    "scrolled": true
   },
   "outputs": [],
   "source": [
    "som_dim=r.config['som_dim']\n",
    "modelpath = r.config['modelpath']\n",
    "\n",
    "data_val_ = data_val#[:3000]\n",
    "with tf.Session() as sess:\n",
    "    sess.run(tf.global_variables_initializer())\n",
    "    saver = tf.train.import_meta_graph(modelpath+\".meta\")\n",
    "    saver.restore(sess, modelpath)\n",
    "    graph = tf.get_default_graph()\n",
    "\n",
    "    is_t = graph.get_tensor_by_name(\"is_training/is_training:0\")\n",
    "    z_p = graph.get_tensor_by_name(\"reconstruction_q/decoder/z_q:0\")\n",
    "    x_hat = graph.get_tensor_by_name(\"reconstruction_q/decoder/conv2d_transpose_1/BiasAdd:0\")\n",
    "    k = graph.get_tensor_by_name(\"k/k:0\")\n",
    "    z_q = graph.get_tensor_by_name(\"z_q/z_q:0\")\n",
    "    x = graph.get_tensor_by_name(\"Placeholder:0\")\n",
    "    embeddings = graph.get_tensor_by_name(\"embeddings/embeddings:0\")\n",
    "\n",
    "    print(\"Evaluation...\")\n",
    "    \n",
    "    z_q_all = sess.run(z_q, feed_dict={x: data_val_})\n",
    "    k_all = sess.run(k, feed_dict={x: data_val_})\n",
    "    k_train = sess.run(k, feed_dict={x: data_train})\n",
    "\n",
    "    embeddings_e = sess.run(embeddings, feed_dict={x: data_val_})\n",
    "    x_hat_all = np.zeros((som_dim[0],som_dim[1], 72, 6))\n",
    "    for i in range(som_dim[0]):\n",
    "        for j in range(som_dim[1]):\n",
    "            x_hat_o = sess.run(tf.sigmoid(x_hat), feed_dict={is_t: False, x: np.zeros((1, 72, 6, 1)), z_p: np.expand_dims(embeddings_e[i,j], 0)})\n",
    "            x_hat_all[i,j] = np.reshape(x_hat_o, (72, 6))"
   ]
  },
  {
   "cell_type": "code",
   "execution_count": null,
   "metadata": {
    "colab": {
     "base_uri": "https://localhost:8080/"
    },
    "collapsed": false,
    "id": "QEw_7u-O6Cgf",
    "outputId": "2c391a39-015c-4284-b195-c38cc4bd7f11"
   },
   "outputs": [
    {
     "data": {
      "text/plain": [
       "(20,)"
      ]
     },
     "execution_count": 302,
     "metadata": {
      "tags": []
     },
     "output_type": "execute_result"
    }
   ],
   "source": [
    "np.unique(k_train).shape"
   ]
  },
  {
   "cell_type": "code",
   "execution_count": null,
   "metadata": {
    "colab": {
     "base_uri": "https://localhost:8080/",
     "height": 265
    },
    "collapsed": false,
    "id": "4PwW4ImvM3XS",
    "outputId": "34a2b8a4-5178-495d-b4c7-0e583674a7a8"
   },
   "outputs": [
    {
     "data": {
      "image/png": "[encoded data removed]",
      "text/plain": [
       "<Figure size 432x288 with 2 Axes>"
      ]
     },
     "metadata": {
      "needs_background": "light",
      "tags": []
     },
     "output_type": "display_data"
    }
   ],
   "source": [
    "# labels = labels_val[:3000]\n",
    "# labels = labels_train\n",
    "# ones = np.ones((len(np.reshape(k_all, (-1)))))\n",
    "ones = np.ones((len(np.reshape(k_train, (-1)))))\n",
    "clust_matr1 = np.zeros(som_dim[0]*som_dim[1])\n",
    "for i in range(som_dim[0]*som_dim[1]):\n",
    "    s1 = len(labels_train[np.where(np.reshape(k_all, (-1))==i)])# / np.sum(ones[np.where(np.reshape(k_all, (-1))==i)])\n",
    "    s1 = len(labels_train[np.where(np.reshape(k_train, (-1))==i)])\n",
    "    # print(i, s1)\n",
    "    clust_matr1[i] = s1\n",
    "clust_matr1 = np.reshape(clust_matr1, (som_dim[0],som_dim[1]))\n",
    "ax = sns.heatmap(clust_matr1, cmap=\"YlGnBu\", vmin=0,vmax=170, annot=True, fmt=\".0f\")\n",
    "plt.show()"
   ]
  },
  {
   "cell_type": "markdown",
   "metadata": {
    "id": "M2gtaIoYVVSj"
   },
   "source": [
    "### Get Prototypes\n",
    "\n",
    "k -> indica a que cluster pertenece cada ejemplo\n"
   ]
  },
  {
   "cell_type": "code",
   "execution_count": null,
   "metadata": {
    "colab": {
     "base_uri": "https://localhost:8080/"
    },
    "collapsed": false,
    "id": "MpzVlATrVQGF",
    "outputId": "ebef5fbe-9c13-4e08-b9eb-857b88ddc699"
   },
   "outputs": [
    {
     "name": "stdout",
     "output_type": "stream",
     "text": [
      "(1192, 72, 6)\n",
      "(1192,)\n",
      "(1192,)\n",
      "[ 0  1  2  3  4  5  6  7  8  9 10 11 12 13 14 15 16 17 18 19]\n",
      "[   1  100  139  284  496  545  590  650  872  983 1014 1050]\n"
     ]
    }
   ],
   "source": [
    "x_train = np.squeeze(data_train, axis=3)\n",
    "print(x_train.shape)\n",
    "print(labels_train.shape)\n",
    "print(k_train.shape)\n",
    "print(np.unique(k_train))\n",
    "print(np.where(k_train == np.unique(k_train)[0])[0])"
   ]
  },
  {
   "cell_type": "code",
   "execution_count": null,
   "metadata": {
    "collapsed": true,
    "id": "1sW0jpHkZ_DW"
   },
   "outputs": [],
   "source": [
    "def confusion_matrix(y_train, y_clus, n_prototypes):\n",
    "    n_classes = np.unique(y_train).shape[0]\n",
    "    conf = np.zeros((n_classes,n_prototypes), dtype=int)\n",
    "    n_instances = y_clus.shape[0]\n",
    "    for k in range(n_instances):\n",
    "        i = y_train[k]\n",
    "        j = y_clus[k]\n",
    "        conf[i][j] += 1 \n",
    "    return conf"
   ]
  },
  {
   "cell_type": "code",
   "execution_count": null,
   "metadata": {
    "collapsed": true,
    "id": "WyBBdR3uaCoT"
   },
   "outputs": [],
   "source": [
    "conf = confusion_matrix(labels_train, k_train, som_dim[0]*som_dim[1])"
   ]
  },
  {
   "cell_type": "code",
   "execution_count": null,
   "metadata": {
    "collapsed": true,
    "id": "7pyNIncliA_U"
   },
   "outputs": [],
   "source": [
    "def matprint(mat, fmt=\"g\"): #print confusion matrix\n",
    "    col_maxes = [max([len((\"{:\"+fmt+\"}\").format(x)) for x in col]) for col in mat.T] \n",
    "    # print(col_maxes)\n",
    "    for x in mat:\n",
    "        # print(x)\n",
    "        for i, y in enumerate(x):\n",
    "            print((\"{:\"+str(col_maxes[i])+fmt+\"}\").format(y), end=\"  \")\n",
    "        print(\"\")"
   ]
  },
  {
   "cell_type": "code",
   "execution_count": null,
   "metadata": {
    "colab": {
     "base_uri": "https://localhost:8080/"
    },
    "collapsed": false,
    "id": "lKBRh4EBhE9H",
    "outputId": "9d1d7e84-e63d-48a6-b934-813ff9f10803"
   },
   "outputs": [
    {
     "name": "stdout",
     "output_type": "stream",
     "text": [
      "2   3   3  8  5  1  1  1   3   9  159  2   9   7  27  2  14  12  1  29  \n",
      "5  10  12  9  8  1  2  4  16  23   19  9  42  27  38  0  41  31  1   1  \n",
      "2   2   1  3  2  2  2  1   6  13  159  5   9   6  19  6  15   8  4  34  \n",
      "3   2   5  7  5  2  3  1   2  14  147  8   8  11  26  3  10  14  2  23  \n"
     ]
    }
   ],
   "source": [
    "matprint(conf)"
   ]
  },
  {
   "cell_type": "code",
   "execution_count": null,
   "metadata": {
    "collapsed": true,
    "id": "J-O_GMdXZwxb"
   },
   "outputs": [],
   "source": [
    "def get_cidx_(conf_):\n",
    "    cidx_ = dict()\n",
    "    for j in range(conf_.shape[1]):\n",
    "        cl = np.argmax(conf_[:,j])\n",
    "        cidx_[j] = cl  #Clase (0,1,2,3) a la que pertece cada cluster\n",
    "    return cidx_"
   ]
  },
  {
   "cell_type": "code",
   "execution_count": null,
   "metadata": {
    "collapsed": true,
    "id": "7bJ74c_JbHkW"
   },
   "outputs": [],
   "source": [
    "cidx = {i:get_cidx_(conf)[i] for i in np.unique(k_train)}"
   ]
  },
  {
   "cell_type": "code",
   "execution_count": null,
   "metadata": {
    "colab": {
     "base_uri": "https://localhost:8080/"
    },
    "collapsed": false,
    "id": "lzK2vrMzDd3u",
    "outputId": "78297f35-e60e-4634-89ab-aba6a1597ef8"
   },
   "outputs": [
    {
     "name": "stdout",
     "output_type": "stream",
     "text": [
      "{0: 1, 1: 1, 2: 1, 3: 1, 4: 1, 5: 2, 6: 3, 7: 1, 8: 1, 9: 1, 10: 0, 11: 1, 12: 1, 13: 1, 14: 1, 15: 2, 16: 1, 17: 1, 18: 2, 19: 2}\n"
     ]
    }
   ],
   "source": [
    "print(cidx)"
   ]
  },
  {
   "cell_type": "code",
   "execution_count": null,
   "metadata": {
    "collapsed": true,
    "id": "-Yg30gQScIe3"
   },
   "outputs": [],
   "source": [
    "from tslearn.barycenters import dtw_barycenter_averaging"
   ]
  },
  {
   "cell_type": "code",
   "execution_count": null,
   "metadata": {
    "collapsed": true,
    "id": "vIkBqVLXYjFS"
   },
   "outputs": [],
   "source": [
    "n_instances = x_train.shape[0]\n",
    "n_clusters = np.unique(k_train)\n",
    "# n_prototypes = len(np.unique(k_train))\n",
    "prototypes = []\n",
    "for i in n_clusters:\n",
    "    digits = np.where(k_train == i)[0]\n",
    "    cls = cidx[i]\n",
    "    x_ = x_train[digits,:,:] #datos agrupados en el i-ésimo cluster \n",
    "    y_ = labels_train[digits]\n",
    "    digits_ = np.where(y_ == cls)[0] #ids de datos en que coincide la clase real y la del cluster\n",
    "    ba = dtw_barycenter_averaging(x_[digits_,:,:]) #obtener el prototipo\n",
    "    prototypes.append(ba)\n",
    "prototypes = np.array(prototypes) "
   ]
  },
  {
   "cell_type": "code",
   "execution_count": null,
   "metadata": {
    "colab": {
     "base_uri": "https://localhost:8080/"
    },
    "collapsed": false,
    "id": "81gID5l0c1Hi",
    "outputId": "45cabc0a-a971-4aa7-af63-46b48ddeb576"
   },
   "outputs": [
    {
     "name": "stdout",
     "output_type": "stream",
     "text": [
      "(20, 72, 6)\n",
      "{0: 1, 1: 1, 2: 1, 3: 1, 4: 1, 5: 2, 6: 3, 7: 1, 8: 1, 9: 1, 10: 0, 11: 1, 12: 1, 13: 1, 14: 1, 15: 2, 16: 1, 17: 1, 18: 2, 19: 2}\n",
      "[0 1 2 3]\n"
     ]
    }
   ],
   "source": [
    "print(prototypes.shape)\n",
    "print(cidx)\n",
    "print(np.unique(list(cidx.values())))"
   ]
  },
  {
   "cell_type": "code",
   "execution_count": null,
   "metadata": {
    "colab": {
     "base_uri": "https://localhost:8080/"
    },
    "collapsed": false,
    "id": "3oRVmF3bfkwZ",
    "outputId": "fc77155e-c7db-48cb-a355-ff4e5b8f9cec"
   },
   "outputs": [
    {
     "name": "stdout",
     "output_type": "stream",
     "text": [
      "{0: 0, 1: 0, 2: 3, 3: 1, 4: 1, 5: 1, 6: 3, 7: 2, 8: 1, 9: 0, 10: 1, 11: 1, 12: 0, 13: 2, 14: 0, 15: 0, 16: 0, 17: 0, 18: 3, 19: 1, 20: 0, 21: 2, 22: 2, 23: 2, 24: 1, 25: 2, 26: 0, 27: 1, 28: 0, 29: 3, 30: 3, 31: 3, 32: 0, 33: 1, 34: 0, 35: 3, 36: 1, 37: 0, 38: 0, 39: 0, 40: 2, 41: 3, 42: 0}\n"
     ]
    }
   ],
   "source": [
    "for i in range(len(cidx)):\n",
    "    cidx[i] = cidx.pop(np.unique(k_train)[i])\n",
    "\n",
    "print(cidx)"
   ]
  },
  {
   "cell_type": "code",
   "execution_count": null,
   "metadata": {
    "colab": {
     "base_uri": "https://localhost:8080/",
     "height": 410
    },
    "collapsed": false,
    "id": "oY9bbqGXd3r0",
    "outputId": "56fa081c-6e48-42f3-c2c7-824e4089d5ce"
   },
   "outputs": [
    {
     "data": {
      "image/png": "[encoded data removed]",
      "text/plain": [
       "<Figure size 1728x720 with 49 Axes>"
      ]
     },
     "metadata": {
      "needs_background": "light",
      "tags": []
     },
     "output_type": "display_data"
    }
   ],
   "source": [
    "prototypes = prototypes\n",
    "h_clus = np.unique(k_train)\n",
    "plt.rcParams[\"figure.figsize\"] = (24,10)\n",
    "plt.rcParams.update({'font.size': 8})\n",
    "plt.figure()\n",
    "for i in range(len(prototypes)):\n",
    "        plt.subplot(5, 10, i+1)\n",
    "        for xx in x_train[k_train == np.unique(k_train)[i]]:\n",
    "            plt.plot(xx[:,1].ravel(), \"k-\", alpha=.1)\n",
    "            #plt.ylim(0,1)\n",
    "        plt.plot(prototypes[i][:,1].ravel(), \"r-\")"
   ]
  },
  {
   "cell_type": "code",
   "execution_count": null,
   "metadata": {
    "colab": {
     "base_uri": "https://localhost:8080/"
    },
    "collapsed": false,
    "id": "OEwCoGn9kWtS",
    "outputId": "07f7a4e7-52d9-4c33-efd4-8b24bf0f2a45"
   },
   "outputs": [
    {
     "data": {
      "text/plain": [
       "(20, 72, 6)"
      ]
     },
     "execution_count": 314,
     "metadata": {
      "tags": []
     },
     "output_type": "execute_result"
    }
   ],
   "source": [
    "prototypes.shape"
   ]
  },
  {
   "cell_type": "code",
   "execution_count": null,
   "metadata": {
    "collapsed": true,
    "id": "Yq69m0-Jg_Wo"
   },
   "outputs": [],
   "source": [
    "import pickle\n",
    "# for_save = {'labels':list(cidx.values()), 'prototypes':prototypes, 'h_clus':k_train}\n",
    "for_save = {'labels':cidx, 'prototypes':prototypes, 'h_clus':k_train}\n",
    "with open(\"prototypes_som_20_minmax_6st.data\", \"wb\") as txt_file:\n",
    "    pickle.dump(for_save, txt_file)"
   ]
  },
  {
   "cell_type": "code",
   "execution_count": null,
   "metadata": {
    "collapsed": true,
    "id": "H-W6rURqmdp1"
   },
   "outputs": [],
   "source": [
    "with open(\"prototypes_som_50_minmax_tsaug_6st.data\", \"rb\") as txt_file:\n",
    "    new_data = pickle.load(txt_file)"
   ]
  },
  {
   "cell_type": "code",
   "execution_count": null,
   "metadata": {
    "colab": {
     "base_uri": "https://localhost:8080/",
     "height": 88
    },
    "collapsed": false,
    "id": "dGK_s8X0m3MU",
    "outputId": "a945f7ce-26a3-44ec-f6c8-a4ccf0a7bf42"
   },
   "outputs": [
    {
     "name": "stdout",
     "output_type": "stream",
     "text": [
      "{0: 2, 1: 1, 2: 1, 3: 3, 4: 1, 5: 1, 6: 1, 7: 1, 8: 3, 9: 3, 10: 0, 11: 0, 12: 1, 13: 0, 14: 1, 15: 2, 16: 1, 17: 3, 18: 1, 19: 1, 21: 0, 22: 0, 23: 1, 24: 1, 25: 1, 26: 1, 27: 3, 28: 2, 29: 3, 30: 3, 31: 3, 32: 1, 33: 3, 34: 1, 35: 1, 36: 0, 37: 1, 38: 1, 39: 0, 40: 2, 41: 3, 42: 3, 43: 1, 44: 1, 45: 3, 46: 0, 47: 0, 48: 1, 49: 3}\n",
      "(49, 720, 6)\n",
      "[41 12  0 ... 43 41  2]\n"
     ]
    }
   ],
   "source": [
    "print(new_data['labels'])\n",
    "print(new_data['prototypes'].shape)\n",
    "print(new_data['h_clus'])"
   ]
  },
  {
   "cell_type": "markdown",
   "metadata": {
    "id": "fj4Wg5GxM4AY"
   },
   "source": [
    "# Original"
   ]
  },
  {
   "cell_type": "code",
   "execution_count": null,
   "metadata": {
    "collapsed": true,
    "id": "nCwqxvCQM7cJ"
   },
   "outputs": [],
   "source": [
    "import functools\n",
    "import numpy as np\n",
    "%tensorflow_version 1.x\n",
    "import tensorflow as tf\n",
    "tf.version\n",
    "\n",
    "def weight_variable(shape, name):\n",
    "    \"\"\"Creates a TensorFlow Variable with a given shape and name and truncated normal initialization.\"\"\"\n",
    "    initial = tf.truncated_normal(shape, stddev=0.1)\n",
    "    return tf.Variable(initial,name=name)\n",
    "\n",
    "\n",
    "def bias_variable(shape, name):\n",
    "    \"\"\"Creates a TensorFlow Variable with a given shape and name and constant initialization.\"\"\"\n",
    "    initial = tf.constant(0.1, shape=shape)\n",
    "    return tf.Variable(initial, name=name)\n",
    "\n",
    "\n",
    "def conv2d(x, shape, name, strides=[1,1,1,1]):\n",
    "    \"\"\"Creates a 2D convolutional layer with weight and bias variables.\n",
    "    \n",
    "    Args:\n",
    "        x (tf.Tensor): Input tensor.\n",
    "        shape (list): Shape of the weight matrix.\n",
    "        name (str): Name of the layer.\n",
    "        strides (list): Strides for the convolution (default: [1,1,1,1]).\n",
    "    Returns:\n",
    "        tf.Tensor: The convolution defined by the weight matrix and the biases with the given strides.\n",
    "    \"\"\"\n",
    "    weight = weight_variable(shape, \"{}_W\".format(name))\n",
    "    bias = bias_variable([shape[-1]], \"{}_b\".format(name))\n",
    "    return tf.nn.conv2d(x, weight, strides=strides, padding='SAME', name=name) + bias\n",
    "\n",
    "\n",
    "def conv2d_transposed(x, shape, outshape, name, strides=[1,1,1,1]):\n",
    "    \"\"\"Creates a transposed convolutional layer simimar to conv2d.\n",
    "    \n",
    "    Args:\n",
    "        x (tf.Tensor): Input tensor.\n",
    "        shape (list): Shape of the weight matrix.\n",
    "        name (str): Name of the layer.\n",
    "        strides (list): Strides for the convolution (default: [1,1,1,1]).\n",
    "    Returns:\n",
    "        tf.Tensor: The transposed convolution defined by the weight matrix and the biases with the given strides.\n",
    "    \"\"\"\n",
    "    weight = weight_variable(shape, \"{}_W\".format(name))\n",
    "    bias = bias_variable([shape[-2]], \"{}_b\".format(name))\n",
    "    return tf.nn.conv2d_transpose(x, weight, output_shape=outshape, strides=strides, padding='SAME', name=name) + bias\n",
    "\n",
    "\n",
    "def max_pool_2x2(x):\n",
    "    \"\"\"Creates a 2x2 max-pooling layer.\"\"\"\n",
    "    return tf.nn.max_pool(x, ksize=[1, 2, 2, 1], strides=[1, 2, 2, 1], padding='SAME')\n",
    "\n",
    "\n",
    "def conv1d(x, shape, name, stride=1):\n",
    "    \"\"\"Creates a 1D convolutional layer with weight and bias variables.\n",
    "    \n",
    "    Args:\n",
    "        x (tf.Tensor): Input tensor.\n",
    "        shape (list): Shape of the weight matrix.\n",
    "        name (str): Name of the layer.\n",
    "        stride (int): Stride for the convolution (default: 1).\n",
    "    Returns:\n",
    "        tf.Tensor: The convolution defined by the weight matrix and the biases with the given stride.\n",
    "    \"\"\"\n",
    "    weight = weight_variable(shape, \"{}_W\".format(name))\n",
    "    bias = bias_variable([shape[-1]], \"{}_b\".format(name))\n",
    "    return tf.nn.conv1d(x, weight, stride=stride, padding='SAME', name=name) + bias\n",
    "\n",
    "\n",
    "def max_pool_2x1(x):\n",
    "    \"\"\"Creates a 2x1 max-pooling layer.\"\"\"\n",
    "    return tf.layers.max_pooling1d(x, pool_size=2, strides=2, padding='SAME')\n",
    "\n",
    "\n",
    "def lazy_scope(function):\n",
    "    \"\"\"Creates a decorator for methods that makes their return values load lazily.\n",
    "    \n",
    "    A method with this decorator will only compute the return value once when called\n",
    "    for the first time. Afterwards, the value will be cached as an object attribute.\n",
    "    Inspired by: https://danijar.com/structuring-your-tensorflow-models\n",
    "    \n",
    "    Args:\n",
    "        function (func): Function to be decorated.\n",
    "        \n",
    "    Returns:\n",
    "        decorator: Decorator for the function.\n",
    "    \"\"\"\n",
    "    attribute = \"_cache_\" + function.__name__\n",
    "\n",
    "    @property\n",
    "    @functools.wraps(function)\n",
    "    def decorator(self):\n",
    "        if not hasattr(self, attribute):\n",
    "            with tf.variable_scope(function.__name__):\n",
    "                setattr(self, attribute, function(self))\n",
    "        return getattr(self, attribute)\n",
    "    return decorator\n",
    "\n",
    "\n",
    "class SOMVAE:\n",
    "    \"\"\"Class for the SOM-VAE model as described in https://arxiv.org/abs/1806.02199\"\"\"\n",
    "\n",
    "    def __init__(self, inputs, latent_dim=64, som_dim=[8,8], learning_rate=1e-4, decay_factor=0.95, decay_steps=1000,\n",
    "            input_length=28, input_channels=28, alpha=1., beta=1., gamma=1., tau=1., mnist=True):\n",
    "        \"\"\"Initialization method for the SOM-VAE model object.\n",
    "        \n",
    "        Args:\n",
    "            inputs (tf.Tensor): The input tensor for the model.\n",
    "            latent_dim (int): The dimensionality of the latent embeddings (default: 64).\n",
    "            som_dim (list): The dimensionality of the self-organizing map (default: [8,8]).\n",
    "            learning_rate (float): The learning rate for the optimization (default: 1e-4).\n",
    "            decay_factor (float): The factor for the learning rate decay (default: 0.95).\n",
    "            decay_steps (int): The number of optimization steps before every learning rate\n",
    "                decay (default: 1000).\n",
    "            input_length (int): The length of the input data points (default: 28).\n",
    "            input_channels (int): The number of channels of the input data points (default: 28).\n",
    "            alpha (float): The weight for the commitment loss (default: 1.).\n",
    "            beta (float): The weight for the SOM loss (default: 1.).\n",
    "            gamma (float): The weight for the transition probability loss (default: 1.).\n",
    "            tau (float): The weight for the smoothness loss (default: 1.).\n",
    "            mnist (bool): Flag that tells the model if we are training in MNIST-like data (default: True).\n",
    "        \"\"\"\n",
    "        self.inputs = inputs\n",
    "        self.latent_dim = latent_dim\n",
    "        self.som_dim = som_dim\n",
    "        self.learning_rate = learning_rate\n",
    "        self.decay_factor = decay_factor\n",
    "        self.decay_steps = decay_steps\n",
    "        self.input_length = input_length\n",
    "        self.input_channels = input_channels\n",
    "        self.alpha = alpha\n",
    "        self.beta = beta\n",
    "        self.gamma = gamma\n",
    "        self.tau = tau\n",
    "        self.mnist = mnist\n",
    "        self.batch_size\n",
    "        self.embeddings\n",
    "        self.transition_probabilities\n",
    "        self.global_step\n",
    "        self.z_e\n",
    "        self.z_e_old\n",
    "        self.z_dist_flat\n",
    "        self.k\n",
    "        self.z_q\n",
    "        self.z_q_neighbors\n",
    "        self.reconstruction_q\n",
    "        self.reconstruction_e\n",
    "        self.loss_reconstruction\n",
    "        self.loss_commit\n",
    "        self.loss_som\n",
    "        self.loss_probabilities\n",
    "        self.loss_z_prob\n",
    "        self.loss\n",
    "        self.optimize\n",
    "\n",
    "\n",
    "    @lazy_scope\n",
    "    def embeddings(self):\n",
    "        \"\"\"Creates variable for the SOM embeddings.\"\"\"\n",
    "        embeddings = tf.get_variable(\"embeddings\", self.som_dim+[self.latent_dim],\n",
    "                             initializer=tf.truncated_normal_initializer(stddev=0.05))\n",
    "        tf.summary.tensor_summary(\"embeddings\", embeddings)\n",
    "        return embeddings #SOM map with shape som_dim[0], som_dim[1], latent_dim\n",
    "\n",
    "\n",
    "    @lazy_scope\n",
    "    def transition_probabilities(self):\n",
    "        \"\"\"Creates tensor for the transition probabilities.\"\"\"\n",
    "        with tf.variable_scope(\"probabilities\"):\n",
    "            probabilities_raw = tf.Variable(tf.zeros(self.som_dim+self.som_dim), name=\"probabilities_raw\")\n",
    "            probabilities_positive = tf.exp(probabilities_raw)\n",
    "            probabilities_summed = tf.reduce_sum(probabilities_positive, axis=[-1,-2], keepdims=True)\n",
    "            probabilities_normalized = probabilities_positive / probabilities_summed\n",
    "            return probabilities_normalized\n",
    "\n",
    "\n",
    "    @lazy_scope\n",
    "    def global_step(self):\n",
    "        \"\"\"Creates global_step variable for the optimization.\"\"\"\n",
    "        global_step = tf.Variable(0, trainable=False, name=\"global_step\")\n",
    "        return global_step\n",
    "\n",
    "\n",
    "    @lazy_scope\n",
    "    def batch_size(self):\n",
    "        \"\"\"Reads the batch size from the input tensor.\"\"\"\n",
    "        batch_size = tf.shape(self.inputs)[0]\n",
    "        return batch_size\n",
    "\n",
    "\n",
    "    @lazy_scope\n",
    "    def z_e(self):\n",
    "        \"\"\"Computes the latent encodings of the inputs.\"\"\"\n",
    "        if not self.mnist:\n",
    "            with tf.variable_scope(\"encoder\"):\n",
    "                print('inputs ', self.inputs.shape)\n",
    "                h_1 = tf.keras.layers.Dense(256, activation=\"relu\")(self.inputs)\n",
    "                h_2 = tf.keras.layers.Dense(128, activation=\"relu\")(h_1)\n",
    "                h_3 = tf.keras.layers.Flatten()(h_2)\n",
    "                z_e = tf.keras.layers.Dense(self.latent_dim, activation=\"relu\")(h_3)#(h_2)\n",
    "                print('z_e', z_e)\n",
    "        else:\n",
    "            with tf.variable_scope(\"encoder\"):\n",
    "                h_conv1 = tf.nn.relu(conv2d(self.inputs, [4,4,1,256], \"conv1\"))\n",
    "                h_pool1 = max_pool_2x2(h_conv1)\n",
    "                h_conv2 = tf.nn.relu(conv2d(h_pool1, [4,4,256,256], \"conv2\"))\n",
    "                h_pool2 = max_pool_2x2(h_conv2)\n",
    "                flat_size = 7*7*256\n",
    "                h_flat = tf.reshape(h_pool2, [-1, flat_size])\n",
    "                z_e = tf.keras.layers.Dense(self.latent_dim)(h_flat)\n",
    "        return z_e\n",
    "\n",
    "\n",
    "    @lazy_scope\n",
    "    def z_e_old(self): #no se usa\n",
    "        \"\"\"Aggregates the encodings of the respective previous time steps.\"\"\"\n",
    "        z_e_old = tf.concat([self.z_e[0:1], self.z_e[:-1]], axis=0)\n",
    "        return z_e_old\n",
    "\n",
    "\n",
    "    @lazy_scope\n",
    "    def z_dist_flat(self):\n",
    "        \"\"\"Computes the distances between the encodings and the embeddings.\"\"\"\n",
    "        print('z_dist_flat z_e', self.z_e)\n",
    "        print('z_dist_flat z_e', tf.expand_dims(tf.expand_dims(self.z_e, 1), 1))\n",
    "        print('z_dist_flat embeddings', self.embeddings)\n",
    "        print('z_dist_flat embeddings', tf.expand_dims(self.embeddings, 0))\n",
    "        z_dist = tf.squared_difference(tf.expand_dims(tf.expand_dims(self.z_e, 1), 1), tf.expand_dims(self.embeddings, 0))\n",
    "        z_dist_red = tf.reduce_sum(z_dist, axis=-1)\n",
    "        z_dist_flat = tf.reshape(z_dist_red, [self.batch_size, -1])\n",
    "        return z_dist_flat\n",
    "\n",
    "\n",
    "    @lazy_scope\n",
    "    def k(self):\n",
    "        \"\"\"Picks the index of the closest embedding for every encoding.\"\"\"\n",
    "        k = tf.argmin(self.z_dist_flat, axis=-1)\n",
    "        tf.summary.histogram(\"clusters\", k)\n",
    "        return k\n",
    "\n",
    "\n",
    "    @lazy_scope\n",
    "    def z_q(self):\n",
    "        \"\"\"Aggregates the respective closest embedding for every encoding.\"\"\"\n",
    "        k_1 = self.k // self.som_dim[1]\n",
    "        k_2 = self.k % self.som_dim[1]\n",
    "        k_stacked = tf.stack([k_1, k_2], axis=1)\n",
    "        z_q = tf.gather_nd(self.embeddings, k_stacked) #de los embeddings agarra los indices k_stacked\n",
    "        return z_q\n",
    "\n",
    "\n",
    "    @lazy_scope\n",
    "    def z_q_neighbors(self):\n",
    "        \"\"\"Aggregates the respective neighbors in the SOM for every embedding in z_q.\"\"\"\n",
    "        k_1 = self.k // self.som_dim[1]\n",
    "        k_2 = self.k % self.som_dim[1]\n",
    "        k_stacked = tf.stack([k_1, k_2], axis=1)\n",
    "\n",
    "        k1_not_top = tf.less(k_1, tf.constant(self.som_dim[0]-1, dtype=tf.int64))\n",
    "        k1_not_bottom = tf.greater(k_1, tf.constant(0, dtype=tf.int64))\n",
    "        k2_not_right = tf.less(k_2, tf.constant(self.som_dim[1]-1, dtype=tf.int64))\n",
    "        k2_not_left = tf.greater(k_2, tf.constant(0, dtype=tf.int64))\n",
    "\n",
    "        k1_up = tf.where(k1_not_top, tf.add(k_1, 1), k_1)\n",
    "        k1_down = tf.where(k1_not_bottom, tf.subtract(k_1, 1), k_1)\n",
    "        k2_right = tf.where(k2_not_right, tf.add(k_2, 1), k_2)\n",
    "        k2_left = tf.where(k2_not_left, tf.subtract(k_2, 1), k_2)\n",
    "\n",
    "        z_q_up = tf.where(k1_not_top, tf.gather_nd(self.embeddings, tf.stack([k1_up, k_2], axis=1)),\n",
    "                          tf.zeros([self.batch_size, self.latent_dim]))\n",
    "        z_q_down = tf.where(k1_not_bottom, tf.gather_nd(self.embeddings, tf.stack([k1_down, k_2], axis=1)),\n",
    "                          tf.zeros([self.batch_size, self.latent_dim]))\n",
    "        z_q_right = tf.where(k2_not_right, tf.gather_nd(self.embeddings, tf.stack([k_1, k2_right], axis=1)),\n",
    "                          tf.zeros([self.batch_size, self.latent_dim]))\n",
    "        z_q_left = tf.where(k2_not_left, tf.gather_nd(self.embeddings, tf.stack([k_1, k2_left], axis=1)),\n",
    "                          tf.zeros([self.batch_size, self.latent_dim]))\n",
    "\n",
    "        z_q_neighbors = tf.stack([self.z_q, z_q_up, z_q_down, z_q_right, z_q_left], axis=1)\n",
    "        return z_q_neighbors\n",
    "\n",
    "\n",
    "    @lazy_scope\n",
    "    def reconstruction_q(self):\n",
    "        \"\"\"Reconstructs the input from the embeddings.\"\"\"\n",
    "        if not self.mnist:\n",
    "            with tf.variable_scope(\"decoder\", reuse=tf.AUTO_REUSE):\n",
    "                # h_1 = tf.keras.layers.Dense(256, activation=\"relu\")(self.inputs)\n",
    "                # h_2 = tf.keras.layers.Dense(128, activation=\"relu\")(h_1)\n",
    "                # h_3 = tf.keras.layers.Flatten()(h_2)\n",
    "                # z_e = tf.keras.layers.Dense(self.latent_dim, activation=\"relu\")(h_3)#(h_2)\n",
    "\n",
    "                print('reconstruction q', self.z_q)\n",
    "                flat_size = self.inputs.shape[1]*self.inputs.shape[2]*self.inputs.shape[3] # self.input_channels*self.input_length*self.latent_dim\n",
    "                h_4 = tf.keras.layers.Dense(flat_size, activation=\"relu\")(self.z_q)\n",
    "                h_reshaped = tf.reshape(h_4, [-1, self.inputs.shape[1],self.inputs.shape[2],self.inputs.shape[3]])\n",
    "                h_4 = tf.keras.layers.Dense(128, activation=\"relu\")(h_reshaped)\n",
    "                h_5 = tf.keras.layers.Dense(256, activation=\"relu\")(h_4)\n",
    "                x_hat = tf.keras.layers.Dense(self.inputs.shape[-1], activation=\"sigmoid\")(h_5)\n",
    "                print('reconstruction q x_hat ', x_hat)\n",
    "        else:\n",
    "            with tf.variable_scope(\"decoder\", reuse=tf.AUTO_REUSE):\n",
    "                # h_conv1 = tf.nn.relu(conv2d(self.inputs, [4,4,1,256], \"conv1\"))\n",
    "                # h_pool1 = max_pool_2x2(h_conv1)\n",
    "                # h_conv2 = tf.nn.relu(conv2d(h_pool1, [4,4,256,256], \"conv2\"))\n",
    "                # h_pool2 = max_pool_2x2(h_conv2)\n",
    "                # flat_size = 7*7*256\n",
    "                # h_flat = tf.reshape(h_pool2, [-1, flat_size])\n",
    "                # z_e = tf.keras.layers.Dense(self.latent_dim)(h_flat)\n",
    "\n",
    "\n",
    "                flat_size = 7*7*256\n",
    "                h_flat_dec = tf.keras.layers.Dense(flat_size)(self.z_q)\n",
    "                h_reshaped = tf.reshape(h_flat_dec, [-1, 7, 7, 256])\n",
    "                h_unpool1 = tf.keras.layers.UpSampling2D((2,2))(h_reshaped)\n",
    "                h_deconv1 = tf.nn.relu(conv2d(h_unpool1, [4,4,256,256], \"deconv1\"))\n",
    "                h_unpool2 = tf.keras.layers.UpSampling2D((2,2))(h_deconv1)\n",
    "                h_deconv2 = tf.nn.sigmoid(conv2d(h_unpool2, [4,4,256,1], \"deconv2\"))\n",
    "                x_hat = h_deconv2\n",
    "        return x_hat\n",
    "\n",
    "\n",
    "    @lazy_scope\n",
    "    def reconstruction_e(self):\n",
    "        \"\"\"Reconstructs the input from the encodings.\"\"\"\n",
    "        if not self.mnist:\n",
    "            with tf.variable_scope(\"decoder\", reuse=tf.AUTO_REUSE):\n",
    "                # h_3 = tf.keras.layers.Dense(128, activation=\"relu\")(self.z_e)\n",
    "                # h_4 = tf.keras.layers.Dense(256, activation=\"relu\")(h_3)\n",
    "                # x_hat = tf.keras.layers.Dense(self.input_channels, activation=\"sigmoid\")(h_4)\n",
    "\n",
    "                print('reconstruction e', self.z_e)\n",
    "                flat_size = self.inputs.shape[1]*self.inputs.shape[2]*self.inputs.shape[3] #self.input_channels*self.input_length*self.latent_dim\n",
    "                h_4 = tf.keras.layers.Dense(flat_size, activation=\"relu\")(self.z_e)\n",
    "                h_reshaped = tf.reshape(h_4, [-1, self.inputs.shape[1],self.inputs.shape[2],self.inputs.shape[3]])\n",
    "                h_4 = tf.keras.layers.Dense(128, activation=\"relu\")(h_reshaped)\n",
    "                h_5 = tf.keras.layers.Dense(256, activation=\"relu\")(h_4)\n",
    "                x_hat = tf.keras.layers.Dense(self.inputs.shape[-1], activation=\"sigmoid\")(h_5)\n",
    "                print('reconstruction e x_hat ', x_hat)\n",
    "        else:\n",
    "            with tf.variable_scope(\"decoder\", reuse=tf.AUTO_REUSE):\n",
    "                flat_size = 7*7*256\n",
    "                h_flat_dec = tf.keras.layers.Dense(flat_size)(self.z_e)\n",
    "                h_reshaped = tf.reshape(h_flat_dec, [-1, 7, 7, 256])\n",
    "                h_unpool1 = tf.keras.layers.UpSampling2D((2,2))(h_reshaped)\n",
    "                h_deconv1 = tf.nn.relu(conv2d(h_unpool1, [4,4,256,256], \"deconv1\"))\n",
    "                h_unpool2 = tf.keras.layers.UpSampling2D((2,2))(h_deconv1)\n",
    "                h_deconv2 = tf.nn.sigmoid(conv2d(h_unpool2, [4,4,256,1], \"deconv2\"))\n",
    "                x_hat = h_deconv2\n",
    "        return x_hat\n",
    "\n",
    "\n",
    "    @lazy_scope\n",
    "    def loss_reconstruction(self):\n",
    "        \"\"\"Computes the combined reconstruction loss for both reconstructions.\"\"\"\n",
    "        loss_rec_mse_zq = tf.losses.mean_squared_error(self.inputs, self.reconstruction_q)\n",
    "        loss_rec_mse_ze = tf.losses.mean_squared_error(self.inputs, self.reconstruction_e)\n",
    "        loss_rec_mse = loss_rec_mse_zq + loss_rec_mse_ze\n",
    "        tf.summary.scalar(\"loss_reconstruction\", loss_rec_mse)\n",
    "        return loss_rec_mse\n",
    "\n",
    "\n",
    "    @lazy_scope\n",
    "    def loss_commit(self):\n",
    "        \"\"\"Computes the commitment loss.\"\"\"\n",
    "        loss_commit = tf.reduce_mean(tf.squared_difference(self.z_e, self.z_q))\n",
    "        tf.summary.scalar(\"loss_commit\", loss_commit)\n",
    "        return loss_commit\n",
    "\n",
    "\n",
    "    @lazy_scope\n",
    "    def loss_som(self):\n",
    "        \"\"\"Computes the SOM loss.\"\"\"\n",
    "        loss_som = tf.reduce_mean(tf.squared_difference(tf.expand_dims(tf.stop_gradient(self.z_e), axis=1), self.z_q_neighbors))\n",
    "        tf.summary.scalar(\"loss_som\", loss_som)\n",
    "        return loss_som\n",
    "\n",
    "\n",
    "    @lazy_scope\n",
    "    def loss_probabilities(self):\n",
    "        \"\"\"Computes the negative log likelihood loss for the transition probabilities.\"\"\"\n",
    "        k_1 = self.k // self.som_dim[1]\n",
    "        k_2 = self.k % self.som_dim[1]\n",
    "        k_1_old = tf.concat([k_1[0:1], k_1[:-1]], axis=0)\n",
    "        k_2_old = tf.concat([k_2[0:1], k_2[:-1]], axis=0)\n",
    "        k_stacked = tf.stack([k_1_old, k_2_old, k_1, k_2], axis=1)\n",
    "        transitions_all = tf.gather_nd(self.transition_probabilities, k_stacked)\n",
    "        loss_probabilities = -self.gamma * tf.reduce_mean(tf.log(transitions_all))\n",
    "        return loss_probabilities\n",
    "\n",
    "\n",
    "    @lazy_scope\n",
    "    def loss_z_prob(self):\n",
    "        \"\"\"Computes the smoothness loss for the transitions given their probabilities.\"\"\"\n",
    "        k_1 = self.k // self.som_dim[1]\n",
    "        k_2 = self.k % self.som_dim[1]\n",
    "        k_1_old = tf.concat([k_1[0:1], k_1[:-1]], axis=0)\n",
    "        k_2_old = tf.concat([k_2[0:1], k_2[:-1]], axis=0)\n",
    "        k_stacked_old = tf.stack([k_1_old, k_2_old], axis=1)\n",
    "        out_probabilities_old = tf.gather_nd(self.transition_probabilities, k_stacked_old)\n",
    "        out_probabilities_flat = tf.reshape(out_probabilities_old, [self.batch_size, -1])\n",
    "        weighted_z_dist_prob = tf.multiply(self.z_dist_flat, out_probabilities_flat)\n",
    "        loss_z_prob = tf.reduce_mean(weighted_z_dist_prob)\n",
    "        return loss_z_prob\n",
    "\n",
    "\n",
    "    @lazy_scope\n",
    "    def loss(self):\n",
    "        \"\"\"Aggregates the loss terms into the total loss.\"\"\"\n",
    "        loss = (self.loss_reconstruction + self.alpha*self.loss_commit + self.beta*self.loss_som\n",
    "                + self.gamma*self.loss_probabilities + self.tau*self.loss_z_prob)\n",
    "        tf.summary.scalar(\"loss\", loss)\n",
    "        return loss\n",
    "\n",
    "\n",
    "    @lazy_scope\n",
    "    def optimize(self):\n",
    "        \"\"\"Optimizes the model's loss using Adam with exponential learning rate decay.\"\"\"\n",
    "        lr_decay = tf.train.exponential_decay(self.learning_rate, self.global_step, self.decay_steps, self.decay_factor, staircase=True)\n",
    "        optimizer = tf.train.AdamOptimizer(lr_decay)\n",
    "        train_step = optimizer.minimize(self.loss, global_step=self.global_step)\n",
    "        train_step_prob = optimizer.minimize(self.loss_probabilities, global_step=self.global_step)\n",
    "        return train_step, train_step_prob\n"
   ]
  },
  {
   "cell_type": "code",
   "execution_count": null,
   "metadata": {
    "collapsed": true,
    "id": "Xl_CICSHM7ET"
   },
   "outputs": [],
   "source": [
    "import os\n",
    "import uuid\n",
    "import shutil\n",
    "from glob import glob\n",
    "from datetime import date\n",
    "\n",
    "import numpy as np\n",
    "import tensorflow as tf\n",
    "# from tensorflow.examples.tutorials.mnist import input_data\n",
    "import pandas as pd\n",
    "from sklearn.metrics import mean_squared_error\n",
    "from tqdm import tqdm, trange\n",
    "# !pip install sacred \n",
    "import sacred\n",
    "from sacred.stflow import LogFileWriter\n",
    "\n",
    "# from labwatch.assistant import LabAssistant\n",
    "# from labwatch.optimizers.random_search import RandomSearch\n",
    "# from labwatch.optimizers.smac_wrapper import SMAC\n",
    "# from labwatch.optimizers.bayesian_optimization import BayesianOptimization\n",
    "# from labwatch import hyperparameters as hyper\n",
    "\n",
    "# from somvae_model import SOMVAE\n",
    "from utils import *\n",
    "\n",
    "ex = sacred.Experiment(\"time_serie\", interactive=True)\n",
    "ex.observers.append(sacred.observers.FileStorageObserver.create(\"./sacred_runs\"))\n",
    "ex.captured_out_filter = sacred.utils.apply_backspaces_and_linefeeds\n",
    "\n",
    "# ex.observers.append(sacred.observers.MongoObserver.create(db_name=\"somvae_hyperopt\"))\n",
    "\n",
    "# assistant = LabAssistant(ex, \"somvae_hyperopt\", optimizer=SMAC, url=\"localhost:{}\".format(db_port))\n",
    "\n",
    "\n",
    "@ex.config\n",
    "def ex_config():\n",
    "    \"\"\"Sacred configuration for the experiment.\n",
    "    \n",
    "    Params:\n",
    "        num_epochs (int): Number of training epochs.\n",
    "        patience (int): Patience for the early stopping.\n",
    "        batch_size (int): Batch size for the training.\n",
    "        latent_dim (int): Dimensionality of the SOM-VAE's latent space.\n",
    "        som_dim (list): Dimensionality of the self-organizing map.\n",
    "        learning_rate (float): Learning rate for the optimization.\n",
    "        alpha (float): Weight for the commitment loss.\n",
    "        beta (float): Weight for the SOM loss.\n",
    "        gamma (float): Weight for the transition probability loss.\n",
    "        tau (float): Weight for the smoothness loss.\n",
    "        decay_factor (float): Factor for the learning rate decay.\n",
    "        name (string): Name of the experiment.\n",
    "        ex_name (string): Unique name of this particular run.\n",
    "        logdir (path): Directory for the experiment logs.\n",
    "        modelpath (path): Path for the model checkpoints.\n",
    "        interactive (bool): Indicator if there should be an interactive progress bar for the training.\n",
    "        data_set (string): Data set for the training.\n",
    "        save_model (bool): Indicator if the model checkpoints should be kept after training and evaluation.\n",
    "        time_series (bool): Indicator if the model should be trained on linearly interpolated\n",
    "            MNIST time series.\n",
    "        mnist (bool): Indicator if the model is trained on MNIST-like data.\n",
    "    \"\"\"\n",
    "    num_epochs = 20\n",
    "    patience = 100\n",
    "    batch_size = 32\n",
    "    latent_dim = 64\n",
    "    som_dim = [8,8]\n",
    "    learning_rate = 0.0005\n",
    "    alpha = 1.0\n",
    "    beta = 0.9\n",
    "    gamma = 1.8\n",
    "    tau = 1.4\n",
    "    decay_factor = 0.9\n",
    "    name = ex.get_experiment_info()[\"name\"]\n",
    "    ex_name = \"{}_{}_{}-{}_{}_{}\".format(name, latent_dim, som_dim[0], som_dim[1], str(date.today()), uuid.uuid4().hex[:5])\n",
    "    logdir = \"./logs/{}\".format(ex_name)\n",
    "    modelpath = \"./models/{}/{}.ckpt\".format(ex_name, ex_name)\n",
    "    interactive = True\n",
    "    data_set = \"MNIST_data\"\n",
    "    save_model = False\n",
    "    time_series = True\n",
    "    mnist = False # True\n",
    "\n",
    "\n",
    "# @assistant.search_space\n",
    "# def search_space():\n",
    "#     num_epochs = 20\n",
    "#     patience = 20\n",
    "#     batch_size = 32\n",
    "#     latent_dim = hyper.UniformInt(lower=64, upper=256, log_scale=True)\n",
    "#     som_dim = [8,8]\n",
    "#     learning_rate = hyper.UniformFloat(lower=0.0001, upper=0.01, log_scale=True)\n",
    "#     alpha = hyper.UniformFloat(lower=0., upper=2.)\n",
    "#     beta = hyper.UniformFloat(lower=0., upper=2.)\n",
    "#     gamma = hyper.UniformFloat(lower=0., upper=2.)\n",
    "#     tau = hyper.UniformFloat(lower=0., upper=2.)\n",
    "#     decay_factor = hyper.UniformFloat(lower=0.8, upper=1.)\n",
    "#     interactive = False\n",
    "\n",
    "# mnist = input_data.read_data_sets(f\"../data/{ex_config()['data_set']}\")\n",
    "# (x_train, y_train), (x_test, y_test) = tf.keras.datasets.mnist.load_data()\n",
    "\n",
    "# data_train = np.reshape(x_train, [-1,28,28,1])\n",
    "# labels_train = y_train\n",
    "# data_val = data_train[45000:]\n",
    "# labels_val = labels_train[45000:]\n",
    "# data_train = data_train[:45000]\n",
    "# labels_train = labels_train[:45000]\n",
    "\n",
    "\n",
    "@ex.capture\n",
    "def get_data_generator(time_series):\n",
    "    \"\"\"Creates a data generator for the training.\n",
    "    \n",
    "    Args:\n",
    "        time_series (bool): Indicates whether or not we want interpolated MNIST time series or just\n",
    "            normal MNIST batches.\n",
    "    \n",
    "    Returns:\n",
    "        generator: Data generator for the batches.\"\"\"\n",
    "\n",
    "    def batch_generator(mode=\"train\", batch_size=100):\n",
    "        \"\"\"Generator for the data batches.\n",
    "        \n",
    "        Args:\n",
    "            mode (str): Mode in ['train', 'val'] that decides which data set the generator\n",
    "                samples from (default: 'train').\n",
    "            batch_size (int): The size of the batches (default: 100).\n",
    "            \n",
    "        Yields:\n",
    "            np.array: Data batch.\n",
    "        \"\"\"\n",
    "        assert mode in [\"train\", \"val\"], \"The mode should be in {train, val}.\"\n",
    "        if mode==\"train\":\n",
    "            images = data_train.copy()\n",
    "            labels = labels_train.copy()\n",
    "        elif mode==\"val\":\n",
    "            images = data_val.copy()\n",
    "            labels = labels_val.copy()\n",
    "        \n",
    "        while True:\n",
    "            indices = np.random.permutation(np.arange(len(images)))\n",
    "            images = images[indices]\n",
    "            labels = labels[indices]\n",
    "\n",
    "            if time_series:\n",
    "                for i, image in enumerate(images):\n",
    "                    start_image = image\n",
    "                    # print('labels: ', labels[i])\n",
    "                    # print('where: ', np.where(labels == (labels[i]) % 10))\n",
    "                    # print('choice: ', np.random.choice(np.where(labels == (labels[i]) % 10)[0]))\n",
    "                    end_image = images[np.random.choice(np.where(labels == (labels[i]) % 10)[0])]\n",
    "                    interpolation = interpolate_arrays(start_image, end_image, batch_size)\n",
    "                    yield interpolation + np.random.normal(scale=0.01, size=interpolation.shape)\n",
    "            else:\n",
    "                for i in range(len(images)//batch_size):\n",
    "                    yield images[i*batch_size:(i+1)*batch_size]\n",
    "\n",
    "    return batch_generator\n",
    "\n",
    "\n",
    "@ex.capture\n",
    "def train_model(model, x, lr_val, num_epochs, patience, batch_size, logdir,\n",
    "        modelpath, learning_rate, interactive, generator):\n",
    "    \"\"\"Trains the SOM-VAE model.\n",
    "    \n",
    "    Args:\n",
    "        model (SOM-VAE): SOM-VAE model to train.\n",
    "        x (tf.Tensor): Input tensor or placeholder.\n",
    "        lr_val (tf.Tensor): Placeholder for the learning rate value.\n",
    "        num_epochs (int): Number of epochs to train.\n",
    "        patience (int): Patience parameter for the early stopping.\n",
    "        batch_size (int): Batch size for the training generator.\n",
    "        logdir (path): Directory for saving the logs.\n",
    "        modelpath (path): Path for saving the model checkpoints.\n",
    "        learning_rate (float): Learning rate for the optimization.\n",
    "        interactive (bool): Indicator if we want to have an interactive\n",
    "            progress bar for training.\n",
    "        generator (generator): Generator for the data batches.\n",
    "    \"\"\"\n",
    "    train_gen = generator(\"train\", batch_size)\n",
    "    val_gen = generator(\"val\", batch_size)\n",
    "\n",
    "    num_batches = len(data_train)//batch_size\n",
    "\n",
    "    saver = tf.train.Saver(keep_checkpoint_every_n_hours=2.)\n",
    "    summaries = tf.summary.merge_all()\n",
    "\n",
    "    with tf.Session() as sess:\n",
    "        sess.run(tf.global_variables_initializer())\n",
    "        patience_count = 0\n",
    "        test_losses = []\n",
    "        with LogFileWriter(ex):\n",
    "            train_writer = tf.summary.FileWriter(logdir+\"/train\", sess.graph)\n",
    "            test_writer = tf.summary.FileWriter(logdir+\"/test\", sess.graph)\n",
    "        print(\"Training...\")\n",
    "        train_step_SOMVAE, train_step_prob = model.optimize\n",
    "        try:\n",
    "            if interactive:\n",
    "                pbar = tqdm(total=num_epochs*(num_batches)) \n",
    "            for epoch in range(num_epochs):\n",
    "                batch_val = next(val_gen)\n",
    "                test_loss, summary = sess.run([model.loss, summaries], feed_dict={x: batch_val})\n",
    "                test_losses.append(test_loss)\n",
    "                test_writer.add_summary(summary, tf.train.global_step(sess, model.global_step))\n",
    "                if test_losses[-1] == min(test_losses):\n",
    "                    saver.save(sess, modelpath, global_step=epoch)\n",
    "                    patience_count = 0\n",
    "                else:\n",
    "                    patience_count += 1\n",
    "                if patience_count >= patience:\n",
    "                    break\n",
    "                for i in range(num_batches):\n",
    "                    batch_data = next(train_gen)\n",
    "                    if i%100 == 0:\n",
    "                        train_loss, summary = sess.run([model.loss, summaries], feed_dict={x: batch_data})\n",
    "                        train_writer.add_summary(summary, tf.train.global_step(sess, model.global_step))\n",
    "                    train_step_SOMVAE.run(feed_dict={x: batch_data, lr_val:learning_rate})\n",
    "                    train_step_prob.run(feed_dict={x: batch_data, lr_val:learning_rate*100})\n",
    "                    if interactive:\n",
    "                        pbar.set_postfix(epoch=epoch, train_loss=train_loss, test_loss=test_loss, refresh=False)\n",
    "                        pbar.update(1)\n",
    "\n",
    "        except KeyboardInterrupt:\n",
    "            pass\n",
    "        finally:\n",
    "            saver.save(sess, modelpath)\n",
    "            if interactive:\n",
    "                pbar.close()\n",
    "\n",
    "\n",
    "\n",
    "@ex.capture\n",
    "def evaluate_model(model, x, modelpath, batch_size):\n",
    "    \"\"\"Evaluates the performance of the trained model in terms of normalized\n",
    "    mutual information, purity and mean squared error.\n",
    "    \n",
    "    Args:\n",
    "        model (SOM-VAE): Trained SOM-VAE model to evaluate.\n",
    "        x (tf.Tensor): Input tensor or placeholder.\n",
    "        modelpath (path): Path from which to restore the model.\n",
    "        batch_size (int): Batch size for the evaluation.\n",
    "        \n",
    "    Returns:\n",
    "        dict: Dictionary of evaluation results (NMI, Purity, MSE).\n",
    "    \"\"\"\n",
    "    saver = tf.train.Saver(keep_checkpoint_every_n_hours=2.)\n",
    "\n",
    "    num_batches = len(data_val)//batch_size\n",
    "\n",
    "    with tf.Session() as sess:\n",
    "        sess.run(tf.global_variables_initializer())\n",
    "        saver.restore(sess, modelpath)\n",
    "\n",
    "        test_k_all = []\n",
    "        test_rec_all = []\n",
    "        test_mse_all = []\n",
    "        print(\"Evaluation...\")\n",
    "        for i in range(num_batches):\n",
    "            batch_data = data_val[i*batch_size:(i+1)*batch_size]\n",
    "            test_k_all.extend(sess.run(model.k, feed_dict={x: batch_data}))\n",
    "            test_rec = sess.run(model.reconstruction_q, feed_dict={x: batch_data})\n",
    "            test_rec_all.extend(test_rec)\n",
    "            test_mse_all.append(mean_squared_error(test_rec.flatten(), batch_data.flatten()))\n",
    "\n",
    "        test_nmi = compute_NMI(test_k_all, labels_val[:len(test_k_all)])\n",
    "        test_purity = compute_purity(test_k_all, labels_val[:len(test_k_all)])\n",
    "        test_mse = np.mean(test_mse_all)\n",
    "\n",
    "    results = {}\n",
    "    results[\"NMI\"] = test_nmi\n",
    "    results[\"Purity\"] = test_purity\n",
    "    results[\"MSE\"] = test_mse\n",
    "#    results[\"optimization_target\"] = 1 - test_nmi\n",
    "\n",
    "    return results\n",
    " \n",
    "\n",
    "@ex.main\n",
    "def main(latent_dim, som_dim, learning_rate, decay_factor, alpha, beta, gamma, tau, modelpath, save_model, mnist):\n",
    "    \"\"\"Main method to build a model, train it and evaluate it.\n",
    "    \n",
    "    Args:\n",
    "        latent_dim (int): Dimensionality of the SOM-VAE's latent space.\n",
    "        som_dim (list): Dimensionality of the SOM.\n",
    "        learning_rate (float): Learning rate for the training.\n",
    "        decay_factor (float): Factor for the learning rate decay.\n",
    "        alpha (float): Weight for the commitment loss.\n",
    "        beta (float): Weight for the SOM loss.\n",
    "        gamma (float): Weight for the transition probability loss.\n",
    "        tau (float): Weight for the smoothness loss.\n",
    "        modelpath (path): Path for the model checkpoints.\n",
    "        save_model (bool): Indicates if the model should be saved after training and evaluation.\n",
    "        \n",
    "    Returns:\n",
    "        dict: Results of the evaluation (NMI, Purity, MSE).\n",
    "    \"\"\"\n",
    "    # Dimensions for MNIST-like data\n",
    "    # input_length = 28\n",
    "    # input_channels = 28 #n_features\n",
    "    # x = tf.placeholder(tf.float32, shape=[None, 28, 28, 1])\n",
    " \n",
    "    input_length = 720\n",
    "    input_channels = 5  #n_features\n",
    "    x = tf.placeholder(tf.float32, shape=[None, 720, 5, 1])\n",
    "\n",
    "    data_generator = get_data_generator()\n",
    "\n",
    "    lr_val = tf.placeholder_with_default(learning_rate, [])\n",
    "\n",
    "    model = SOMVAE(inputs=x, latent_dim=latent_dim, som_dim=som_dim, learning_rate=lr_val, decay_factor=decay_factor,\n",
    "            input_length=input_length, input_channels=input_channels, alpha=alpha, beta=beta, gamma=gamma,\n",
    "            tau=tau, mnist=mnist)\n",
    "\n",
    "    train_model(model, x, lr_val, generator=data_generator)\n",
    "\n",
    "    result = evaluate_model(model, x)\n",
    "\n",
    "    if not save_model:\n",
    "        shutil.rmtree(os.path.dirname(modelpath))\n",
    "\n",
    "    return result"
   ]
  },
  {
   "cell_type": "code",
   "execution_count": null,
   "metadata": {
    "colab": {
     "base_uri": "https://localhost:8080/",
     "height": 34
    },
    "collapsed": false,
    "id": "SLoD8t5PkePJ",
    "outputId": "7ed41cdb-98f7-4cc5-a013-f6c218ce787c"
   },
   "outputs": [
    {
     "data": {
      "text/plain": [
       "(654, 720, 5, 1)"
      ]
     },
     "execution_count": 46,
     "metadata": {
      "tags": []
     },
     "output_type": "execute_result"
    }
   ],
   "source": [
    "data_train.shape"
   ]
  },
  {
   "cell_type": "code",
   "execution_count": null,
   "metadata": {
    "colab": {
     "base_uri": "https://localhost:8080/",
     "height": 34
    },
    "collapsed": false,
    "id": "qzVWCyL9lzYu",
    "outputId": "b549ec14-ea9e-4b54-ee9b-52cdb9ce53bb"
   },
   "outputs": [
    {
     "data": {
      "text/plain": [
       "(654,)"
      ]
     },
     "execution_count": 47,
     "metadata": {
      "tags": []
     },
     "output_type": "execute_result"
    }
   ],
   "source": [
    "labels_train.shape"
   ]
  },
  {
   "cell_type": "code",
   "execution_count": null,
   "metadata": {
    "colab": {
     "base_uri": "https://localhost:8080/",
     "height": 462
    },
    "collapsed": false,
    "id": "FCeu6w_o_EYH",
    "outputId": "a153792f-548e-4a65-efec-4f3bdc969fab"
   },
   "outputs": [
    {
     "name": "stderr",
     "output_type": "stream",
     "text": [
      "INFO - time_serie - Running command 'main'\n",
      "INFO - time_serie - Started run with ID \"3\"\n"
     ]
    },
    {
     "name": "stdout",
     "output_type": "stream",
     "text": [
      "inputs  (?, 720, 5, 1)\n",
      "z_e Tensor(\"z_e/encoder/dense_2/Relu:0\", shape=(?, 64), dtype=float32)\n",
      "z_dist_flat z_e Tensor(\"z_e/encoder/dense_2/Relu:0\", shape=(?, 64), dtype=float32)\n",
      "z_dist_flat z_e Tensor(\"z_dist_flat/ExpandDims_1:0\", shape=(?, 1, 1, 64), dtype=float32)\n",
      "z_dist_flat embeddings <tf.Variable 'embeddings/embeddings:0' shape=(8, 8, 64) dtype=float32_ref>\n",
      "z_dist_flat embeddings Tensor(\"z_dist_flat/ExpandDims_2:0\", shape=(1, 8, 8, 64), dtype=float32)\n",
      "reconstruction q Tensor(\"z_q/GatherNd:0\", shape=(?, 64), dtype=float32)\n",
      "reconstruction q x_hat  Tensor(\"reconstruction_q/decoder/dense_6/Sigmoid:0\", shape=(?, 720, 5, 1), dtype=float32)\n",
      "reconstruction e Tensor(\"z_e/encoder/dense_2/Relu:0\", shape=(?, 64), dtype=float32)\n",
      "reconstruction e x_hat  Tensor(\"reconstruction_e/decoder/dense_10/Sigmoid:0\", shape=(?, 720, 5, 1), dtype=float32)\n"
     ]
    },
    {
     "name": "stderr",
     "output_type": "stream",
     "text": [
      "\r",
      "  0%|          | 0/400 [00:00<?, ?it/s]"
     ]
    },
    {
     "name": "stdout",
     "output_type": "stream",
     "text": [
      "Training...\n"
     ]
    },
    {
     "name": "stderr",
     "output_type": "stream",
     "text": [
      " 55%|█████▌    | 220/400 [00:28<00:17, 10.29it/s, epoch=10, test_loss=3.41, train_loss=3.41]"
     ]
    },
    {
     "name": "stdout",
     "output_type": "stream",
     "text": [
      "WARNING:tensorflow:From /tensorflow-1.15.2/python3.6/tensorflow_core/python/training/saver.py:963: remove_checkpoint (from tensorflow.python.training.checkpoint_management) is deprecated and will be removed in a future version.\n",
      "Instructions for updating:\n",
      "Use standard file APIs to delete files with this prefix.\n"
     ]
    },
    {
     "name": "stderr",
     "output_type": "stream",
     "text": [
      "WARNING - tensorflow - From /tensorflow-1.15.2/python3.6/tensorflow_core/python/training/saver.py:963: remove_checkpoint (from tensorflow.python.training.checkpoint_management) is deprecated and will be removed in a future version.\n",
      "Instructions for updating:\n",
      "Use standard file APIs to delete files with this prefix.\n",
      "100%|██████████| 400/400 [01:22<00:00,  4.87it/s, epoch=19, test_loss=0.0686, train_loss=0.0595]\n"
     ]
    },
    {
     "name": "stdout",
     "output_type": "stream",
     "text": [
      "INFO:tensorflow:Restoring parameters from ./models/time_serie_64_8-8_2020-09-25_ce79a/time_serie_64_8-8_2020-09-25_ce79a.ckpt\n"
     ]
    },
    {
     "name": "stderr",
     "output_type": "stream",
     "text": [
      "INFO - tensorflow - Restoring parameters from ./models/time_serie_64_8-8_2020-09-25_ce79a/time_serie_64_8-8_2020-09-25_ce79a.ckpt\n"
     ]
    },
    {
     "name": "stdout",
     "output_type": "stream",
     "text": [
      "Evaluation...\n"
     ]
    },
    {
     "name": "stderr",
     "output_type": "stream",
     "text": [
      "INFO - time_serie - Result: {'NMI': 0.0, 'Purity': 0.25625, 'MSE': 0.01220927305029034}\n",
      "INFO - time_serie - Completed after 0:01:30\n"
     ]
    }
   ],
   "source": [
    "tf.reset_default_graph()\n",
    "r = ex.run()"
   ]
  },
  {
   "cell_type": "code",
   "execution_count": null,
   "metadata": {
    "colab": {
     "base_uri": "https://localhost:8080/",
     "height": 34
    },
    "collapsed": false,
    "id": "gd-8qp0lGA5J",
    "outputId": "fc9f767b-48b3-414f-c9ac-e9b66c93ba7c"
   },
   "outputs": [
    {
     "data": {
      "text/plain": [
       "{'MSE': 0.012611609235261343, 'NMI': 0.0, 'Purity': 0.25625}"
      ]
     },
     "execution_count": 55,
     "metadata": {
      "tags": []
     },
     "output_type": "execute_result"
    }
   ],
   "source": [
    "r.result"
   ]
  },
  {
   "cell_type": "code",
   "execution_count": null,
   "metadata": {
    "colab": {
     "base_uri": "https://localhost:8080/",
     "height": 1000
    },
    "collapsed": false,
    "id": "kUAtvcP0M57o",
    "outputId": "04387eef-c3b3-4455-b66a-9d1956e4bdfe"
   },
   "outputs": [
    {
     "name": "stderr",
     "output_type": "stream",
     "text": [
      "INFO - time_serie - Running command 'main'\n",
      "INFO - time_serie - Started run with ID \"1\"\n"
     ]
    },
    {
     "name": "stdout",
     "output_type": "stream",
     "text": [
      "WARNING:tensorflow:From /tensorflow-1.15.2/python3.6/tensorflow_core/python/ops/resource_variable_ops.py:1630: calling BaseResourceVariable.__init__ (from tensorflow.python.ops.resource_variable_ops) with constraint is deprecated and will be removed in a future version.\n",
      "Instructions for updating:\n",
      "If using Keras pass *_constraint arguments to layers.\n"
     ]
    },
    {
     "name": "stderr",
     "output_type": "stream",
     "text": [
      "WARNING - tensorflow - From /tensorflow-1.15.2/python3.6/tensorflow_core/python/ops/resource_variable_ops.py:1630: calling BaseResourceVariable.__init__ (from tensorflow.python.ops.resource_variable_ops) with constraint is deprecated and will be removed in a future version.\n",
      "Instructions for updating:\n",
      "If using Keras pass *_constraint arguments to layers.\n"
     ]
    },
    {
     "name": "stdout",
     "output_type": "stream",
     "text": [
      "z_e Tensor(\"z_e/encoder/dense_2/Relu:0\", shape=(?, 720, 5, 64), dtype=float32)\n",
      "z_dist_flat Tensor(\"z_e/encoder/dense_2/Relu:0\", shape=(?, 720, 5, 64), dtype=float32)\n"
     ]
    },
    {
     "name": "stderr",
     "output_type": "stream",
     "text": [
      "ERROR - time_serie - Failed after 0:00:00!\n"
     ]
    },
    {
     "ename": "ValueError",
     "evalue": "ignored",
     "output_type": "error",
     "traceback": [
      "\u001b[0;31m---------------------------------------------------------------------------\u001b[0m",
      "\u001b[0;31mInvalidArgumentError\u001b[0m                      Traceback (most recent call last)",
      "\u001b[0;32m/tensorflow-1.15.2/python3.6/tensorflow_core/python/framework/ops.py\u001b[0m in \u001b[0;36m_create_c_op\u001b[0;34m(graph, node_def, inputs, control_inputs)\u001b[0m\n\u001b[1;32m   1606\u001b[0m   \u001b[0;32mtry\u001b[0m\u001b[0;34m:\u001b[0m\u001b[0;34m\u001b[0m\u001b[0;34m\u001b[0m\u001b[0m\n\u001b[0;32m-> 1607\u001b[0;31m     \u001b[0mc_op\u001b[0m \u001b[0;34m=\u001b[0m \u001b[0mc_api\u001b[0m\u001b[0;34m.\u001b[0m\u001b[0mTF_FinishOperation\u001b[0m\u001b[0;34m(\u001b[0m\u001b[0mop_desc\u001b[0m\u001b[0;34m)\u001b[0m\u001b[0;34m\u001b[0m\u001b[0;34m\u001b[0m\u001b[0m\n\u001b[0m\u001b[1;32m   1608\u001b[0m   \u001b[0;32mexcept\u001b[0m \u001b[0merrors\u001b[0m\u001b[0;34m.\u001b[0m\u001b[0mInvalidArgumentError\u001b[0m \u001b[0;32mas\u001b[0m \u001b[0me\u001b[0m\u001b[0;34m:\u001b[0m\u001b[0;34m\u001b[0m\u001b[0;34m\u001b[0m\u001b[0m\n",
      "\u001b[0;31mInvalidArgumentError\u001b[0m: Dimensions must be equal, but are 720 and 8 for 'z_dist_flat/SquaredDifference' (op: 'SquaredDifference') with input shapes: [?,1,720,5,64], [1,8,8,64].",
      "\nDuring handling of the above exception, another exception occurred:\n",
      "\u001b[0;31mValueError\u001b[0m                                Traceback (most recent call last)",
      "\u001b[0;32m<ipython-input-21-0629970d20ed>\u001b[0m in \u001b[0;36m<module>\u001b[0;34m()\u001b[0m\n\u001b[1;32m      1\u001b[0m \u001b[0mtf\u001b[0m\u001b[0;34m.\u001b[0m\u001b[0mreset_default_graph\u001b[0m\u001b[0;34m(\u001b[0m\u001b[0;34m)\u001b[0m\u001b[0;34m\u001b[0m\u001b[0;34m\u001b[0m\u001b[0m\n\u001b[0;32m----> 2\u001b[0;31m \u001b[0mr\u001b[0m \u001b[0;34m=\u001b[0m \u001b[0mex\u001b[0m\u001b[0;34m.\u001b[0m\u001b[0mrun\u001b[0m\u001b[0;34m(\u001b[0m\u001b[0;34m)\u001b[0m\u001b[0;34m\u001b[0m\u001b[0;34m\u001b[0m\u001b[0m\n\u001b[0m",
      "\u001b[0;32m/usr/local/lib/python3.6/dist-packages/sacred/experiment.py\u001b[0m in \u001b[0;36mrun\u001b[0;34m(self, command_name, config_updates, named_configs, info, meta_info, options)\u001b[0m\n\u001b[1;32m    274\u001b[0m             \u001b[0mcommand_name\u001b[0m\u001b[0;34m,\u001b[0m \u001b[0mconfig_updates\u001b[0m\u001b[0;34m,\u001b[0m \u001b[0mnamed_configs\u001b[0m\u001b[0;34m,\u001b[0m \u001b[0minfo\u001b[0m\u001b[0;34m,\u001b[0m \u001b[0mmeta_info\u001b[0m\u001b[0;34m,\u001b[0m \u001b[0moptions\u001b[0m\u001b[0;34m\u001b[0m\u001b[0;34m\u001b[0m\u001b[0m\n\u001b[1;32m    275\u001b[0m         )\n\u001b[0;32m--> 276\u001b[0;31m         \u001b[0mrun\u001b[0m\u001b[0;34m(\u001b[0m\u001b[0;34m)\u001b[0m\u001b[0;34m\u001b[0m\u001b[0;34m\u001b[0m\u001b[0m\n\u001b[0m\u001b[1;32m    277\u001b[0m         \u001b[0;32mreturn\u001b[0m \u001b[0mrun\u001b[0m\u001b[0;34m\u001b[0m\u001b[0;34m\u001b[0m\u001b[0m\n\u001b[1;32m    278\u001b[0m \u001b[0;34m\u001b[0m\u001b[0m\n",
      "\u001b[0;32m/usr/local/lib/python3.6/dist-packages/sacred/run.py\u001b[0m in \u001b[0;36m__call__\u001b[0;34m(self, *args)\u001b[0m\n\u001b[1;32m    236\u001b[0m                 \u001b[0mself\u001b[0m\u001b[0;34m.\u001b[0m\u001b[0m_start_heartbeat\u001b[0m\u001b[0;34m(\u001b[0m\u001b[0;34m)\u001b[0m\u001b[0;34m\u001b[0m\u001b[0;34m\u001b[0m\u001b[0m\n\u001b[1;32m    237\u001b[0m                 \u001b[0mself\u001b[0m\u001b[0;34m.\u001b[0m\u001b[0m_execute_pre_run_hooks\u001b[0m\u001b[0;34m(\u001b[0m\u001b[0;34m)\u001b[0m\u001b[0;34m\u001b[0m\u001b[0;34m\u001b[0m\u001b[0m\n\u001b[0;32m--> 238\u001b[0;31m                 \u001b[0mself\u001b[0m\u001b[0;34m.\u001b[0m\u001b[0mresult\u001b[0m \u001b[0;34m=\u001b[0m \u001b[0mself\u001b[0m\u001b[0;34m.\u001b[0m\u001b[0mmain_function\u001b[0m\u001b[0;34m(\u001b[0m\u001b[0;34m*\u001b[0m\u001b[0margs\u001b[0m\u001b[0;34m)\u001b[0m\u001b[0;34m\u001b[0m\u001b[0;34m\u001b[0m\u001b[0m\n\u001b[0m\u001b[1;32m    239\u001b[0m                 \u001b[0mself\u001b[0m\u001b[0;34m.\u001b[0m\u001b[0m_execute_post_run_hooks\u001b[0m\u001b[0;34m(\u001b[0m\u001b[0;34m)\u001b[0m\u001b[0;34m\u001b[0m\u001b[0;34m\u001b[0m\u001b[0m\n\u001b[1;32m    240\u001b[0m                 \u001b[0;32mif\u001b[0m \u001b[0mself\u001b[0m\u001b[0;34m.\u001b[0m\u001b[0mresult\u001b[0m \u001b[0;32mis\u001b[0m \u001b[0;32mnot\u001b[0m \u001b[0;32mNone\u001b[0m\u001b[0;34m:\u001b[0m\u001b[0;34m\u001b[0m\u001b[0;34m\u001b[0m\u001b[0m\n",
      "\u001b[0;32m/usr/local/lib/python3.6/dist-packages/sacred/config/captured_function.py\u001b[0m in \u001b[0;36mcaptured_function\u001b[0;34m(wrapped, instance, args, kwargs)\u001b[0m\n\u001b[1;32m     40\u001b[0m     \u001b[0;31m# =================== run actual function =================================\u001b[0m\u001b[0;34m\u001b[0m\u001b[0;34m\u001b[0m\u001b[0;34m\u001b[0m\u001b[0m\n\u001b[1;32m     41\u001b[0m     \u001b[0;32mwith\u001b[0m \u001b[0mConfigError\u001b[0m\u001b[0;34m.\u001b[0m\u001b[0mtrack\u001b[0m\u001b[0;34m(\u001b[0m\u001b[0mwrapped\u001b[0m\u001b[0;34m)\u001b[0m\u001b[0;34m:\u001b[0m\u001b[0;34m\u001b[0m\u001b[0;34m\u001b[0m\u001b[0m\n\u001b[0;32m---> 42\u001b[0;31m         \u001b[0mresult\u001b[0m \u001b[0;34m=\u001b[0m \u001b[0mwrapped\u001b[0m\u001b[0;34m(\u001b[0m\u001b[0;34m*\u001b[0m\u001b[0margs\u001b[0m\u001b[0;34m,\u001b[0m \u001b[0;34m**\u001b[0m\u001b[0mkwargs\u001b[0m\u001b[0;34m)\u001b[0m\u001b[0;34m\u001b[0m\u001b[0;34m\u001b[0m\u001b[0m\n\u001b[0m\u001b[1;32m     43\u001b[0m     \u001b[0;31m# =========================================================================\u001b[0m\u001b[0;34m\u001b[0m\u001b[0;34m\u001b[0m\u001b[0;34m\u001b[0m\u001b[0m\n\u001b[1;32m     44\u001b[0m     \u001b[0;32mif\u001b[0m \u001b[0mwrapped\u001b[0m\u001b[0;34m.\u001b[0m\u001b[0mlogger\u001b[0m \u001b[0;32mis\u001b[0m \u001b[0;32mnot\u001b[0m \u001b[0;32mNone\u001b[0m\u001b[0;34m:\u001b[0m\u001b[0;34m\u001b[0m\u001b[0;34m\u001b[0m\u001b[0m\n",
      "\u001b[0;32m<ipython-input-18-f05b86722f8b>\u001b[0m in \u001b[0;36mmain\u001b[0;34m(latent_dim, som_dim, learning_rate, decay_factor, alpha, beta, gamma, tau, modelpath, save_model, mnist)\u001b[0m\n\u001b[1;32m    303\u001b[0m     model = SOMVAE(inputs=x, latent_dim=latent_dim, som_dim=som_dim, learning_rate=lr_val, decay_factor=decay_factor,\n\u001b[1;32m    304\u001b[0m             \u001b[0minput_length\u001b[0m\u001b[0;34m=\u001b[0m\u001b[0minput_length\u001b[0m\u001b[0;34m,\u001b[0m \u001b[0minput_channels\u001b[0m\u001b[0;34m=\u001b[0m\u001b[0minput_channels\u001b[0m\u001b[0;34m,\u001b[0m \u001b[0malpha\u001b[0m\u001b[0;34m=\u001b[0m\u001b[0malpha\u001b[0m\u001b[0;34m,\u001b[0m \u001b[0mbeta\u001b[0m\u001b[0;34m=\u001b[0m\u001b[0mbeta\u001b[0m\u001b[0;34m,\u001b[0m \u001b[0mgamma\u001b[0m\u001b[0;34m=\u001b[0m\u001b[0mgamma\u001b[0m\u001b[0;34m,\u001b[0m\u001b[0;34m\u001b[0m\u001b[0;34m\u001b[0m\u001b[0m\n\u001b[0;32m--> 305\u001b[0;31m             tau=tau, mnist=mnist)\n\u001b[0m\u001b[1;32m    306\u001b[0m \u001b[0;34m\u001b[0m\u001b[0m\n\u001b[1;32m    307\u001b[0m     \u001b[0mtrain_model\u001b[0m\u001b[0;34m(\u001b[0m\u001b[0mmodel\u001b[0m\u001b[0;34m,\u001b[0m \u001b[0mx\u001b[0m\u001b[0;34m,\u001b[0m \u001b[0mlr_val\u001b[0m\u001b[0;34m,\u001b[0m \u001b[0mgenerator\u001b[0m\u001b[0;34m=\u001b[0m\u001b[0mdata_generator\u001b[0m\u001b[0;34m)\u001b[0m\u001b[0;34m\u001b[0m\u001b[0;34m\u001b[0m\u001b[0m\n",
      "\u001b[0;32m<ipython-input-17-697476a078f6>\u001b[0m in \u001b[0;36m__init__\u001b[0;34m(self, inputs, latent_dim, som_dim, learning_rate, decay_factor, decay_steps, input_length, input_channels, alpha, beta, gamma, tau, mnist)\u001b[0m\n\u001b[1;32m    142\u001b[0m         \u001b[0mself\u001b[0m\u001b[0;34m.\u001b[0m\u001b[0mz_e\u001b[0m\u001b[0;34m\u001b[0m\u001b[0;34m\u001b[0m\u001b[0m\n\u001b[1;32m    143\u001b[0m         \u001b[0mself\u001b[0m\u001b[0;34m.\u001b[0m\u001b[0mz_e_old\u001b[0m\u001b[0;34m\u001b[0m\u001b[0;34m\u001b[0m\u001b[0m\n\u001b[0;32m--> 144\u001b[0;31m         \u001b[0mself\u001b[0m\u001b[0;34m.\u001b[0m\u001b[0mz_dist_flat\u001b[0m\u001b[0;34m\u001b[0m\u001b[0;34m\u001b[0m\u001b[0m\n\u001b[0m\u001b[1;32m    145\u001b[0m         \u001b[0mself\u001b[0m\u001b[0;34m.\u001b[0m\u001b[0mk\u001b[0m\u001b[0;34m\u001b[0m\u001b[0;34m\u001b[0m\u001b[0m\n\u001b[1;32m    146\u001b[0m         \u001b[0mself\u001b[0m\u001b[0;34m.\u001b[0m\u001b[0mz_q\u001b[0m\u001b[0;34m\u001b[0m\u001b[0;34m\u001b[0m\u001b[0m\n",
      "\u001b[0;32m<ipython-input-17-697476a078f6>\u001b[0m in \u001b[0;36mdecorator\u001b[0;34m(self)\u001b[0m\n\u001b[1;32m     95\u001b[0m         \u001b[0;32mif\u001b[0m \u001b[0;32mnot\u001b[0m \u001b[0mhasattr\u001b[0m\u001b[0;34m(\u001b[0m\u001b[0mself\u001b[0m\u001b[0;34m,\u001b[0m \u001b[0mattribute\u001b[0m\u001b[0;34m)\u001b[0m\u001b[0;34m:\u001b[0m\u001b[0;34m\u001b[0m\u001b[0;34m\u001b[0m\u001b[0m\n\u001b[1;32m     96\u001b[0m             \u001b[0;32mwith\u001b[0m \u001b[0mtf\u001b[0m\u001b[0;34m.\u001b[0m\u001b[0mvariable_scope\u001b[0m\u001b[0;34m(\u001b[0m\u001b[0mfunction\u001b[0m\u001b[0;34m.\u001b[0m\u001b[0m__name__\u001b[0m\u001b[0;34m)\u001b[0m\u001b[0;34m:\u001b[0m\u001b[0;34m\u001b[0m\u001b[0;34m\u001b[0m\u001b[0m\n\u001b[0;32m---> 97\u001b[0;31m                 \u001b[0msetattr\u001b[0m\u001b[0;34m(\u001b[0m\u001b[0mself\u001b[0m\u001b[0;34m,\u001b[0m \u001b[0mattribute\u001b[0m\u001b[0;34m,\u001b[0m \u001b[0mfunction\u001b[0m\u001b[0;34m(\u001b[0m\u001b[0mself\u001b[0m\u001b[0;34m)\u001b[0m\u001b[0;34m)\u001b[0m\u001b[0;34m\u001b[0m\u001b[0;34m\u001b[0m\u001b[0m\n\u001b[0m\u001b[1;32m     98\u001b[0m         \u001b[0;32mreturn\u001b[0m \u001b[0mgetattr\u001b[0m\u001b[0;34m(\u001b[0m\u001b[0mself\u001b[0m\u001b[0;34m,\u001b[0m \u001b[0mattribute\u001b[0m\u001b[0;34m)\u001b[0m\u001b[0;34m\u001b[0m\u001b[0;34m\u001b[0m\u001b[0m\n\u001b[1;32m     99\u001b[0m     \u001b[0;32mreturn\u001b[0m \u001b[0mdecorator\u001b[0m\u001b[0;34m\u001b[0m\u001b[0;34m\u001b[0m\u001b[0m\n",
      "\u001b[0;32m<ipython-input-17-697476a078f6>\u001b[0m in \u001b[0;36mz_dist_flat\u001b[0;34m(self)\u001b[0m\n\u001b[1;32m    225\u001b[0m         \u001b[0mprint\u001b[0m\u001b[0;34m(\u001b[0m\u001b[0;34m'z_dist_flat'\u001b[0m\u001b[0;34m,\u001b[0m \u001b[0mself\u001b[0m\u001b[0;34m.\u001b[0m\u001b[0mz_e\u001b[0m\u001b[0;34m)\u001b[0m\u001b[0;34m\u001b[0m\u001b[0;34m\u001b[0m\u001b[0m\n\u001b[1;32m    226\u001b[0m         \u001b[0;31m# z_dist = tf.squared_difference(tf.expand_dims(tf.expand_dims(self.z_e, 1), 1), tf.expand_dims(self.embeddings, 0))\u001b[0m\u001b[0;34m\u001b[0m\u001b[0;34m\u001b[0m\u001b[0;34m\u001b[0m\u001b[0m\n\u001b[0;32m--> 227\u001b[0;31m         \u001b[0mz_dist\u001b[0m \u001b[0;34m=\u001b[0m \u001b[0mtf\u001b[0m\u001b[0;34m.\u001b[0m\u001b[0msquared_difference\u001b[0m\u001b[0;34m(\u001b[0m\u001b[0mtf\u001b[0m\u001b[0;34m.\u001b[0m\u001b[0mexpand_dims\u001b[0m\u001b[0;34m(\u001b[0m\u001b[0mself\u001b[0m\u001b[0;34m.\u001b[0m\u001b[0mz_e\u001b[0m\u001b[0;34m,\u001b[0m \u001b[0;36m1\u001b[0m\u001b[0;34m)\u001b[0m\u001b[0;34m,\u001b[0m \u001b[0mtf\u001b[0m\u001b[0;34m.\u001b[0m\u001b[0mexpand_dims\u001b[0m\u001b[0;34m(\u001b[0m\u001b[0mself\u001b[0m\u001b[0;34m.\u001b[0m\u001b[0membeddings\u001b[0m\u001b[0;34m,\u001b[0m \u001b[0;36m0\u001b[0m\u001b[0;34m)\u001b[0m\u001b[0;34m)\u001b[0m\u001b[0;34m\u001b[0m\u001b[0;34m\u001b[0m\u001b[0m\n\u001b[0m\u001b[1;32m    228\u001b[0m         \u001b[0mz_dist_red\u001b[0m \u001b[0;34m=\u001b[0m \u001b[0mtf\u001b[0m\u001b[0;34m.\u001b[0m\u001b[0mreduce_sum\u001b[0m\u001b[0;34m(\u001b[0m\u001b[0mz_dist\u001b[0m\u001b[0;34m,\u001b[0m \u001b[0maxis\u001b[0m\u001b[0;34m=\u001b[0m\u001b[0;34m-\u001b[0m\u001b[0;36m1\u001b[0m\u001b[0;34m)\u001b[0m\u001b[0;34m\u001b[0m\u001b[0;34m\u001b[0m\u001b[0m\n\u001b[1;32m    229\u001b[0m         \u001b[0mz_dist_flat\u001b[0m \u001b[0;34m=\u001b[0m \u001b[0mtf\u001b[0m\u001b[0;34m.\u001b[0m\u001b[0mreshape\u001b[0m\u001b[0;34m(\u001b[0m\u001b[0mz_dist_red\u001b[0m\u001b[0;34m,\u001b[0m \u001b[0;34m[\u001b[0m\u001b[0mself\u001b[0m\u001b[0;34m.\u001b[0m\u001b[0mbatch_size\u001b[0m\u001b[0;34m,\u001b[0m \u001b[0;34m-\u001b[0m\u001b[0;36m1\u001b[0m\u001b[0;34m]\u001b[0m\u001b[0;34m)\u001b[0m\u001b[0;34m\u001b[0m\u001b[0;34m\u001b[0m\u001b[0m\n",
      "\u001b[0;32m/tensorflow-1.15.2/python3.6/tensorflow_core/python/ops/gen_math_ops.py\u001b[0m in \u001b[0;36msquared_difference\u001b[0;34m(x, y, name)\u001b[0m\n\u001b[1;32m  11010\u001b[0m   \u001b[0;32mtry\u001b[0m\u001b[0;34m:\u001b[0m\u001b[0;34m\u001b[0m\u001b[0;34m\u001b[0m\u001b[0m\n\u001b[1;32m  11011\u001b[0m     _, _, _op = _op_def_lib._apply_op_helper(\n\u001b[0;32m> 11012\u001b[0;31m         \"SquaredDifference\", x=x, y=y, name=name)\n\u001b[0m\u001b[1;32m  11013\u001b[0m   \u001b[0;32mexcept\u001b[0m \u001b[0;34m(\u001b[0m\u001b[0mTypeError\u001b[0m\u001b[0;34m,\u001b[0m \u001b[0mValueError\u001b[0m\u001b[0;34m)\u001b[0m\u001b[0;34m:\u001b[0m\u001b[0;34m\u001b[0m\u001b[0;34m\u001b[0m\u001b[0m\n\u001b[1;32m  11014\u001b[0m     result = _dispatch.dispatch(\n",
      "\u001b[0;32m/tensorflow-1.15.2/python3.6/tensorflow_core/python/framework/op_def_library.py\u001b[0m in \u001b[0;36m_apply_op_helper\u001b[0;34m(self, op_type_name, name, **keywords)\u001b[0m\n\u001b[1;32m    792\u001b[0m         op = g.create_op(op_type_name, inputs, dtypes=None, name=scope,\n\u001b[1;32m    793\u001b[0m                          \u001b[0minput_types\u001b[0m\u001b[0;34m=\u001b[0m\u001b[0minput_types\u001b[0m\u001b[0;34m,\u001b[0m \u001b[0mattrs\u001b[0m\u001b[0;34m=\u001b[0m\u001b[0mattr_protos\u001b[0m\u001b[0;34m,\u001b[0m\u001b[0;34m\u001b[0m\u001b[0;34m\u001b[0m\u001b[0m\n\u001b[0;32m--> 794\u001b[0;31m                          op_def=op_def)\n\u001b[0m\u001b[1;32m    795\u001b[0m \u001b[0;34m\u001b[0m\u001b[0m\n\u001b[1;32m    796\u001b[0m       \u001b[0;31m# Conditionally invoke tfdbg v2's op callback(s).\u001b[0m\u001b[0;34m\u001b[0m\u001b[0;34m\u001b[0m\u001b[0;34m\u001b[0m\u001b[0m\n",
      "\u001b[0;32m/tensorflow-1.15.2/python3.6/tensorflow_core/python/util/deprecation.py\u001b[0m in \u001b[0;36mnew_func\u001b[0;34m(*args, **kwargs)\u001b[0m\n\u001b[1;32m    505\u001b[0m                 \u001b[0;34m'in a future version'\u001b[0m \u001b[0;32mif\u001b[0m \u001b[0mdate\u001b[0m \u001b[0;32mis\u001b[0m \u001b[0;32mNone\u001b[0m \u001b[0;32melse\u001b[0m \u001b[0;34m(\u001b[0m\u001b[0;34m'after %s'\u001b[0m \u001b[0;34m%\u001b[0m \u001b[0mdate\u001b[0m\u001b[0;34m)\u001b[0m\u001b[0;34m,\u001b[0m\u001b[0;34m\u001b[0m\u001b[0;34m\u001b[0m\u001b[0m\n\u001b[1;32m    506\u001b[0m                 instructions)\n\u001b[0;32m--> 507\u001b[0;31m       \u001b[0;32mreturn\u001b[0m \u001b[0mfunc\u001b[0m\u001b[0;34m(\u001b[0m\u001b[0;34m*\u001b[0m\u001b[0margs\u001b[0m\u001b[0;34m,\u001b[0m \u001b[0;34m**\u001b[0m\u001b[0mkwargs\u001b[0m\u001b[0;34m)\u001b[0m\u001b[0;34m\u001b[0m\u001b[0;34m\u001b[0m\u001b[0m\n\u001b[0m\u001b[1;32m    508\u001b[0m \u001b[0;34m\u001b[0m\u001b[0m\n\u001b[1;32m    509\u001b[0m     doc = _add_deprecated_arg_notice_to_docstring(\n",
      "\u001b[0;32m/tensorflow-1.15.2/python3.6/tensorflow_core/python/framework/ops.py\u001b[0m in \u001b[0;36mcreate_op\u001b[0;34m(***failed resolving arguments***)\u001b[0m\n\u001b[1;32m   3355\u001b[0m         \u001b[0;32mraise\u001b[0m \u001b[0mTypeError\u001b[0m\u001b[0;34m(\u001b[0m\u001b[0;34m\"Input #%d is not a tensor: %s\"\u001b[0m \u001b[0;34m%\u001b[0m \u001b[0;34m(\u001b[0m\u001b[0midx\u001b[0m\u001b[0;34m,\u001b[0m \u001b[0ma\u001b[0m\u001b[0;34m)\u001b[0m\u001b[0;34m)\u001b[0m\u001b[0;34m\u001b[0m\u001b[0;34m\u001b[0m\u001b[0m\n\u001b[1;32m   3356\u001b[0m     return self._create_op_internal(op_type, inputs, dtypes, input_types, name,\n\u001b[0;32m-> 3357\u001b[0;31m                                     attrs, op_def, compute_device)\n\u001b[0m\u001b[1;32m   3358\u001b[0m \u001b[0;34m\u001b[0m\u001b[0m\n\u001b[1;32m   3359\u001b[0m   def _create_op_internal(\n",
      "\u001b[0;32m/tensorflow-1.15.2/python3.6/tensorflow_core/python/framework/ops.py\u001b[0m in \u001b[0;36m_create_op_internal\u001b[0;34m(self, op_type, inputs, dtypes, input_types, name, attrs, op_def, compute_device)\u001b[0m\n\u001b[1;32m   3424\u001b[0m           \u001b[0minput_types\u001b[0m\u001b[0;34m=\u001b[0m\u001b[0minput_types\u001b[0m\u001b[0;34m,\u001b[0m\u001b[0;34m\u001b[0m\u001b[0;34m\u001b[0m\u001b[0m\n\u001b[1;32m   3425\u001b[0m           \u001b[0moriginal_op\u001b[0m\u001b[0;34m=\u001b[0m\u001b[0mself\u001b[0m\u001b[0;34m.\u001b[0m\u001b[0m_default_original_op\u001b[0m\u001b[0;34m,\u001b[0m\u001b[0;34m\u001b[0m\u001b[0;34m\u001b[0m\u001b[0m\n\u001b[0;32m-> 3426\u001b[0;31m           op_def=op_def)\n\u001b[0m\u001b[1;32m   3427\u001b[0m       \u001b[0mself\u001b[0m\u001b[0;34m.\u001b[0m\u001b[0m_create_op_helper\u001b[0m\u001b[0;34m(\u001b[0m\u001b[0mret\u001b[0m\u001b[0;34m,\u001b[0m \u001b[0mcompute_device\u001b[0m\u001b[0;34m=\u001b[0m\u001b[0mcompute_device\u001b[0m\u001b[0;34m)\u001b[0m\u001b[0;34m\u001b[0m\u001b[0;34m\u001b[0m\u001b[0m\n\u001b[1;32m   3428\u001b[0m     \u001b[0;32mreturn\u001b[0m \u001b[0mret\u001b[0m\u001b[0;34m\u001b[0m\u001b[0;34m\u001b[0m\u001b[0m\n",
      "\u001b[0;32m/tensorflow-1.15.2/python3.6/tensorflow_core/python/framework/ops.py\u001b[0m in \u001b[0;36m__init__\u001b[0;34m(self, node_def, g, inputs, output_types, control_inputs, input_types, original_op, op_def)\u001b[0m\n\u001b[1;32m   1768\u001b[0m           op_def, inputs, node_def.attr)\n\u001b[1;32m   1769\u001b[0m       self._c_op = _create_c_op(self._graph, node_def, grouped_inputs,\n\u001b[0;32m-> 1770\u001b[0;31m                                 control_input_ops)\n\u001b[0m\u001b[1;32m   1771\u001b[0m     \u001b[0;31m# pylint: enable=protected-access\u001b[0m\u001b[0;34m\u001b[0m\u001b[0;34m\u001b[0m\u001b[0;34m\u001b[0m\u001b[0m\n\u001b[1;32m   1772\u001b[0m \u001b[0;34m\u001b[0m\u001b[0m\n",
      "\u001b[0;32m/tensorflow-1.15.2/python3.6/tensorflow_core/python/framework/ops.py\u001b[0m in \u001b[0;36m_create_c_op\u001b[0;34m(graph, node_def, inputs, control_inputs)\u001b[0m\n\u001b[1;32m   1608\u001b[0m   \u001b[0;32mexcept\u001b[0m \u001b[0merrors\u001b[0m\u001b[0;34m.\u001b[0m\u001b[0mInvalidArgumentError\u001b[0m \u001b[0;32mas\u001b[0m \u001b[0me\u001b[0m\u001b[0;34m:\u001b[0m\u001b[0;34m\u001b[0m\u001b[0;34m\u001b[0m\u001b[0m\n\u001b[1;32m   1609\u001b[0m     \u001b[0;31m# Convert to ValueError for backwards compatibility.\u001b[0m\u001b[0;34m\u001b[0m\u001b[0;34m\u001b[0m\u001b[0;34m\u001b[0m\u001b[0m\n\u001b[0;32m-> 1610\u001b[0;31m     \u001b[0;32mraise\u001b[0m \u001b[0mValueError\u001b[0m\u001b[0;34m(\u001b[0m\u001b[0mstr\u001b[0m\u001b[0;34m(\u001b[0m\u001b[0me\u001b[0m\u001b[0;34m)\u001b[0m\u001b[0;34m)\u001b[0m\u001b[0;34m\u001b[0m\u001b[0;34m\u001b[0m\u001b[0m\n\u001b[0m\u001b[1;32m   1611\u001b[0m \u001b[0;34m\u001b[0m\u001b[0m\n\u001b[1;32m   1612\u001b[0m   \u001b[0;32mreturn\u001b[0m \u001b[0mc_op\u001b[0m\u001b[0;34m\u001b[0m\u001b[0;34m\u001b[0m\u001b[0m\n",
      "\u001b[0;31mValueError\u001b[0m: Dimensions must be equal, but are 720 and 8 for 'z_dist_flat/SquaredDifference' (op: 'SquaredDifference') with input shapes: [?,1,720,5,64], [1,8,8,64]."
     ]
    }
   ],
   "source": [
    "tf.reset_default_graph()\n",
    "r = ex.run()"
   ]
  },
  {
   "cell_type": "code",
   "execution_count": null,
   "metadata": {
    "collapsed": true,
    "id": "ZilQubTeM6gj"
   },
   "outputs": [],
   "source": []
  },
  {
   "cell_type": "code",
   "execution_count": null,
   "metadata": {
    "collapsed": true,
    "id": "e_03OWM9M6RF"
   },
   "outputs": [],
   "source": []
  }
 ],
 "metadata": {
  "accelerator": "GPU",
  "colab": {
   "collapsed_sections": [
    "fj4Wg5GxM4AY"
   ],
   "name": "SOM-VAE Time Series",
   "provenance": [],
   "toc_visible": true
  },
  "kernelspec": {
   "display_name": "Python 3",
   "language": "python",
   "name": "python3"
  },
  "language_info": {
   "codemirror_mode": {
    "name": "ipython",
    "version": 3
   },
   "file_extension": ".py",
   "mimetype": "text/x-python",
   "name": "python",
   "nbconvert_exporter": "python",
   "pygments_lexer": "ipython3",
   "version": "3.6.7"
  }
 },
 "nbformat": 4,
 "nbformat_minor": 0
}
