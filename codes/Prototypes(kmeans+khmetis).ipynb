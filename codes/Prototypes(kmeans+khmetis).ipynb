{
 "cells": [
  {
   "cell_type": "code",
   "execution_count": null,
   "metadata": {
    "colab": {
     "base_uri": "https://localhost:8080/",
     "height": 122
    },
    "collapsed": false,
    "id": "zTNaEbVBBPDz",
    "outputId": "8ae6d261-a2aa-4197-8e77-c69ccf09c648"
   },
   "outputs": [],
   "source": [
    "from google.colab import drive\n",
    "drive.mount('/content/gdrive/')"
   ]
  },
  {
   "cell_type": "code",
   "execution_count": null,
   "metadata": {
    "collapsed": true,
    "id": "qian2KzlB1Wu"
   },
   "outputs": [],
   "source": [
    "import os\n",
    "import numpy as np\n",
    "import matplotlib.pyplot as plt\n",
    "\n",
    "!pip install tslearn\n",
    "from tslearn.clustering import TimeSeriesKMeans\n",
    "from tslearn.metrics import cdist_dtw, dtw\n",
    "from tslearn.preprocessing import TimeSeriesScalerMeanVariance\n",
    "from tslearn.piecewise import PiecewiseAggregateApproximation\n",
    "\n",
    "from sklearn.model_selection import train_test_split\n",
    "from sklearn.metrics import silhouette_score, confusion_matrix, f1_score, accuracy_score, classification_report\n",
    "from sklearn.utils import shuffle\n",
    "from sklearn.preprocessing import MinMaxScaler, StandardScaler\n",
    "from sklearn.metrics.pairwise import cosine_similarity\n",
    "\n",
    "from get_time_series import get_fingerprints, get_interactions, load_data, load_data_posts, load_data_users"
   ]
  },
  {
   "cell_type": "code",
   "execution_count": null,
   "metadata": {
    "collapsed": true,
    "id": "jcf6e5f4CNHi"
   },
   "outputs": [],
   "source": [
    "year_data = 'Twitter16'\n",
    "dest = 'tw16'\n",
    "\n",
    "t = os.path.join('gdrive/My Drive/Master/Data', year_data, 'tree.tar.gz')\n",
    "p = os.path.join('gdrive/My Drive/Master/Data', year_data, 'post.tar.gz')\n",
    "u = os.path.join('gdrive/My Drive/Master/Data', year_data, 'users.tar.gz')\n",
    "l = os.path.join('gdrive/My Drive/Master/Data', year_data, 'label.txt')\n",
    "\n",
    "!mkdir \"$dest\"\n",
    "!tar -xzvf \"$t\" -C \"$dest\"\n",
    "!tar -xzvf \"$p\" -C \"$dest\"\n",
    "!tar -xzvf \"$u\" -C \"$dest\"\n",
    "!cp \"$l\" \"$dest\""
   ]
  },
  {
   "cell_type": "markdown",
   "metadata": {
    "id": "PWWC3M_kB5n8"
   },
   "source": [
    "# Representation\n",
    "\n"
   ]
  },
  {
   "cell_type": "code",
   "execution_count": null,
   "metadata": {
    "collapsed": true,
    "id": "GAI4phEtCCXy"
   },
   "outputs": [],
   "source": [
    "class data_process:\n",
    "    def __init__(self, path = './'):\n",
    "        self.news = get_time_series.load_data(path = path)\n",
    "        self.posts = get_time_series.load_data_posts(path = path)\n",
    "        self.users = get_time_series.load_data_users(path = path)"
   ]
  },
  {
   "cell_type": "code",
   "execution_count": null,
   "metadata": {
    "colab": {
     "base_uri": "https://localhost:8080/",
     "height": 51
    },
    "collapsed": false,
    "id": "HI7Pid2TCXCD",
    "outputId": "ef0d8608-bb61-4ae9-eeb5-413728d68d2b"
   },
   "outputs": [
    {
     "name": "stdout",
     "output_type": "stream",
     "text": [
      "CPU times: user 51.5 s, sys: 8.23 s, total: 59.7 s\n",
      "Wall time: 1min\n"
     ]
    }
   ],
   "source": [
    "%%time\n",
    "dest = 'tw16'\n",
    "data = data_process(dest)"
   ]
  },
  {
   "cell_type": "code",
   "execution_count": null,
   "metadata": {
    "colab": {
     "base_uri": "https://localhost:8080/",
     "height": 85
    },
    "collapsed": false,
    "id": "D3NpF7y5CW-F",
    "outputId": "236e04e2-3a0f-42d6-d2b5-da790c0def0e"
   },
   "outputs": [
    {
     "name": "stdout",
     "output_type": "stream",
     "text": [
      "(818,)\n",
      "(818, 720)\n",
      "CPU times: user 27min 15s, sys: 422 ms, total: 27min 15s\n",
      "Wall time: 27min 17s\n"
     ]
    }
   ],
   "source": [
    "%%time\n",
    "window = 10\n",
    "sliding_window = True \n",
    "time = 720\n",
    "labels, followers = get_fingerprints(data.news, data.users, data.posts, 'followers', window, sliding_window, time)\n",
    "labels, following = get_fingerprints(data.news, data.users, data.posts, 'followings', window, sliding_window, time)\n",
    "labels, new_users = get_fingerprints(data.news, data.users, data.posts, 'new_users', window, sliding_window, time)\n",
    "print(labels.shape)\n",
    "print(followers.shape)\n",
    "print(following.shape)\n",
    "print(new_users.shape)"
   ]
  },
  {
   "cell_type": "code",
   "execution_count": null,
   "metadata": {
    "colab": {
     "base_uri": "https://localhost:8080/",
     "height": 102
    },
    "collapsed": false,
    "id": "7pk0H8JlCmlZ",
    "outputId": "59f909bf-7b2b-48a0-d425-964f8e633952"
   },
   "outputs": [
    {
     "name": "stdout",
     "output_type": "stream",
     "text": [
      "(818,)\n",
      "(818, 720)\n",
      "(818, 720)\n",
      "CPU times: user 27min 32s, sys: 408 ms, total: 27min 33s\n",
      "Wall time: 27min 36s\n"
     ]
    }
   ],
   "source": [
    "%%time\n",
    "labels, retweets, posts = get_interactions(data.news, 10, True, 720)\n",
    "interactions = retweets + posts\n",
    "# grad_interactions_1 = np.gradient(interactions, axis=1)\n",
    "# grad_interactions_2 = np.gradient(grad_interactions_1, axis=1)\n",
    "print(labels.shape)\n",
    "print(retweets.shape)\n",
    "print(posts.shape)"
   ]
  },
  {
   "cell_type": "code",
   "execution_count": null,
   "metadata": {
    "collapsed": true,
    "id": "KJU1owDhCsWK"
   },
   "outputs": [],
   "source": [
    "def get_multivariate_series(time_series, labels, scale = 1): \n",
    "        paa = PiecewiseAggregateApproximation(n_segments=140) # equals the number of segments and samples!!!\n",
    "        digits = []\n",
    "        for i in range(72):\n",
    "            digits.append(i*10)\n",
    "        digits = np.array(digits)\n",
    "        \n",
    "        if scale == 0:\n",
    "            time_series_scaled = []\n",
    "            for ts in time_series:\n",
    "                scaler = MinMaxScaler()\n",
    "                # scaler = StandardScaler()\n",
    "                scaler.fit(ts)\n",
    "                ts = scaler.transform(ts)\n",
    "                ts = ts.reshape(ts.shape[0],ts.shape[1])\n",
    "                time_series_scaled.append(ts)\n",
    "        elif scale == 1:\n",
    "            time_series_scaled = []\n",
    "            for ts in time_series:\n",
    "                scaler = MinMaxScaler()\n",
    "                # scaler = StandardScaler()\n",
    "                scaler.fit(ts)\n",
    "                ts = scaler.transform(ts)\n",
    "                # print('1 ', ts.shape)\n",
    "                ts = ts.reshape(ts.shape[0], ts.shape[1], 1)\n",
    "                ts = paa.inverse_transform(paa.fit_transform(ts))\n",
    "                # print(ts.shape)\n",
    "                ts = ts[:,digits,:]\n",
    "                # print(ts.shape)\n",
    "                ts = ts.reshape(ts.shape[0],ts.shape[1])\n",
    "                # print(ts.shape)\n",
    "                time_series_scaled.append(ts) \n",
    "        elif scale == 2:  \n",
    "            time_series_scaled = []\n",
    "            for ts in time_series:  \n",
    "                time_series_scaled.append(ts)\n",
    "        time_series_multi = np.stack(time_series_scaled, axis=-1) # -1\n",
    "        return time_series_multi"
   ]
  },
  {
   "cell_type": "code",
   "execution_count": null,
   "metadata": {
    "colab": {
     "base_uri": "https://localhost:8080/",
     "height": 102
    },
    "collapsed": false,
    "id": "Ad7lRsepN-bx",
    "outputId": "787e9b91-dcdb-42ae-f020-efb7e8069090"
   },
   "outputs": [
    {
     "name": "stdout",
     "output_type": "stream",
     "text": [
      "(818, 72, 5)\n",
      "(654, 72, 5)\n",
      "(654,)\n",
      "(164, 72, 5)\n",
      "(164,)\n"
     ]
    }
   ],
   "source": [
    "time_series = get_multivariate_series(time_series=[retweets, posts, interactions, followers, following, new_users], \n",
    "                                      labels=labels, scale=1)\n",
    "x_train, x_test, y_train, y_test = train_test_split(time_series, labels, test_size=0.2, stratify=labels)\n",
    "print(time_series.shape)\n",
    "print(x_train.shape)\n",
    "print(y_train.shape)\n",
    "print(x_test.shape)\n",
    "print(y_test.shape)"
   ]
  },
  {
   "cell_type": "markdown",
   "metadata": {
    "id": "wLMPRBEkC6qT"
   },
   "source": [
    "# Clustering"
   ]
  },
  {
   "cell_type": "code",
   "execution_count": null,
   "metadata": {
    "collapsed": true,
    "id": "XturMcFfDNlN"
   },
   "outputs": [],
   "source": [
    "def confusion_matrix(y_train, y_clus, n_prototypes):\n",
    "    n_classes = np.unique(y_train).shape[0]\n",
    "    conf = np.zeros((n_classes,n_prototypes), dtype=int)\n",
    "    n_instances = y_clus.shape[0]\n",
    "    for k in range(n_instances):\n",
    "        i = y_train[k]\n",
    "        j = y_clus[k]\n",
    "        conf[i][j] += 1 \n",
    "    return conf\n",
    "\n",
    "def gini_coefficient(conf):\n",
    "    n_classes = conf.shape[0]\n",
    "    n_prototypes = conf.shape[1]\n",
    "    gini = np.zeros(n_prototypes, dtype=float)\n",
    "    for j in range(n_prototypes):\n",
    "        acc = float(conf[:,j].sum())\n",
    "        if acc > 0:\n",
    "            for i in range(n_classes):\n",
    "                ratio = float(conf[i,j])/acc #la proporción del cluster que fue asignado a esa clase\n",
    "                gini[j] += pow(ratio, 2)\n",
    "            gini[j] = round(1 - gini[j], 3)\n",
    "        else:\n",
    "            gini[j] = np.nan\n",
    "    return gini\n",
    "\n",
    "def k_clustering(x_train, fe):\n",
    "    print('start')\n",
    "    n_prototypes = 20\n",
    "    n_instances = x_train.shape[0]\n",
    "    km_dba = TimeSeriesKMeans(n_clusters=n_prototypes, metric=\"dtw\", init=\"k-means++\")\n",
    "    y_clus = km_dba.fit_predict(x_train[:,:,fe]) #serie de tiempo univariada, la fe-esima\n",
    "    return km_dba, y_clus"
   ]
  },
  {
   "cell_type": "code",
   "execution_count": null,
   "metadata": {
    "colab": {
     "base_uri": "https://localhost:8080/",
     "height": 136
    },
    "collapsed": false,
    "id": "epMsbO8dDNg5",
    "outputId": "64927a64-a165-4de0-824a-d5fa2a397b69"
   },
   "outputs": [
    {
     "name": "stdout",
     "output_type": "stream",
     "text": [
      "start\n",
      "start\n",
      "start\n",
      "start\n",
      "start\n",
      "CPU times: user 5min 42s, sys: 269 ms, total: 5min 42s\n",
      "Wall time: 5min 42s\n"
     ]
    }
   ],
   "source": [
    "%%time \n",
    "#Obtener clustering para cada huella temporal con k=20\n",
    "km_dba_0, y_clus_0 = k_clustering(x_train,0)\n",
    "km_dba_1, y_clus_1 = k_clustering(x_train,1) \n",
    "km_dba_2, y_clus_2 = k_clustering(x_train,2) \n",
    "km_dba_3, y_clus_3 = k_clustering(x_train,3) \n",
    "km_dba_4, y_clus_4 = k_clustering(x_train,4) \n",
    "# km_dba_5, y_clus_5 = k_clustering(x_train,5) \n",
    "# km_dba_6, y_clus_6 = k_clustering(x_train,6) "
   ]
  },
  {
   "cell_type": "code",
   "execution_count": null,
   "metadata": {
    "collapsed": true,
    "id": "6Ob7Ok0dDVl9"
   },
   "outputs": [],
   "source": [
    "#Obtener matriz de confusión por cada clustering de cada huella temporal\n",
    "conf_0 = confusion_matrix(y_train,y_clus_0,20)\n",
    "conf_1 = confusion_matrix(y_train,y_clus_1,20)\n",
    "conf_2 = confusion_matrix(y_train,y_clus_2,20)\n",
    "conf_3 = confusion_matrix(y_train,y_clus_3,20)\n",
    "conf_4 = confusion_matrix(y_train,y_clus_4,20)\n",
    "# conf_5 = confusion_matrix(y_train,y_clus_5,20)\n",
    "# conf_6 = confusion_matrix(y_train,y_clus_6,20)"
   ]
  },
  {
   "cell_type": "code",
   "execution_count": null,
   "metadata": {
    "collapsed": true,
    "id": "BBDbveeZDak5"
   },
   "outputs": [],
   "source": [
    "def matprint(mat, fmt=\"g\"): #print confusion matrix\n",
    "    col_maxes = [max([len((\"{:\"+fmt+\"}\").format(x)) for x in col]) for col in mat.T] \n",
    "    # print(col_maxes)\n",
    "    for x in mat:\n",
    "        # print(x)\n",
    "        for i, y in enumerate(x):\n",
    "            print((\"{:\"+str(col_maxes[i])+fmt+\"}\").format(y), end=\"  \")\n",
    "        print(\"\")"
   ]
  },
  {
   "cell_type": "code",
   "execution_count": null,
   "metadata": {
    "colab": {
     "base_uri": "https://localhost:8080/",
     "height": 102
    },
    "collapsed": false,
    "id": "lS1mRpoeDahK",
    "outputId": "173366ef-3ac1-4723-bcaa-dabeafcbd8e3"
   },
   "outputs": [
    {
     "name": "stdout",
     "output_type": "stream",
     "text": [
      "0.44610000000000005\n",
      "0.41695000000000004\n",
      "0.22965\n",
      "0.20665000000000006\n",
      "0.4760000000000001\n"
     ]
    }
   ],
   "source": [
    "#Obtener índice de gini por cada clustering de cada huella temporal\n",
    "gini_0 = gini_coefficient(conf_0)\n",
    "gini_1 = gini_coefficient(conf_1)\n",
    "gini_2 = gini_coefficient(conf_2)\n",
    "gini_3 = gini_coefficient(conf_3)\n",
    "gini_4 = gini_coefficient(conf_4)\n",
    "# gini_5 = gini_coefficient(conf_5)\n",
    "# gini_6 = gini_coefficient(conf_6)\n",
    "print(sum(gini_0)/20)\n",
    "print(sum(gini_1)/20)\n",
    "print(sum(gini_2)/20)\n",
    "print(sum(gini_3)/20)\n",
    "print(sum(gini_4)/20)\n",
    "# print(sum(gini_5)/20)\n",
    "# print(sum(gini_6)/20)"
   ]
  },
  {
   "cell_type": "code",
   "execution_count": null,
   "metadata": {
    "collapsed": true,
    "id": "iJinUdesDnMy"
   },
   "outputs": [],
   "source": [
    "def to_hmetis(partitions,ginis):\n",
    "    n_hyperedges = 0\n",
    "    n_instances = partitions[0].shape[0]\n",
    "    fh = open(\"tw16_k20_5st.hgr\",'w')\n",
    "    k = 0\n",
    "    for partition in partitions:\n",
    "        n_prototypes = np.unique(partition).shape[0]\n",
    "        gini = ginis[k]    \n",
    "        for i in range(n_prototypes): \n",
    "            gin = gini[i]   #inidice de gini del cluster actual\n",
    "            if not np.isnan(gin):\n",
    "                w = int(100*(1 - gin)) # check if an int is needed\n",
    "                digits = np.where(partition == i)[0] #ids de las series del cluster actual\n",
    "                csize = len(digits)\n",
    "                if csize > 2:\n",
    "                    line = str(w) + ' ' #peso\n",
    "                    for j in range(csize):\n",
    "                        line += str(digits[j]+1) + ' '  #vertices/series involucrados\n",
    "                    line = line + '\\n'\n",
    "                    fh.write(line)\n",
    "                    n_hyperedges += 1\n",
    "                    # print(i, ' ', line)\n",
    "        k += 1\n",
    "    fh.close()\n",
    "    with open(\"tw16_k20_5st.hgr\", 'r+') as fp:\n",
    "        lines = fp.readlines()     # lines is list of line, each element '...\\n'\n",
    "        one_line = str(n_hyperedges) + ' ' + str(n_instances) + ' 1\\n'\n",
    "        lines.insert(0, one_line)  # you can use any index if you know the line index\n",
    "        fp.seek(0)                 # file pointer locates at the beginning to write the whole file again\n",
    "        fp.writelines(lines)\n",
    "    # fh.write(str(n_hyperedges) + ' ' + str(n_instances) + ' 1\\n')\n",
    "    return n_hyperedges, n_instances"
   ]
  },
  {
   "cell_type": "code",
   "execution_count": null,
   "metadata": {
    "colab": {
     "base_uri": "https://localhost:8080/",
     "height": 34
    },
    "collapsed": false,
    "id": "QWxNFu1qUXEQ",
    "outputId": "76525a65-7d10-4d45-cc16-289d938a19b6"
   },
   "outputs": [
    {
     "data": {
      "text/plain": [
       "(57, 654)"
      ]
     },
     "execution_count": 50,
     "metadata": {
      "tags": []
     },
     "output_type": "execute_result"
    }
   ],
   "source": [
    "gini_ = np.zeros(4, dtype=float)\n",
    "to_hmetis([y_clus_0,y_clus_1,y_clus_2,y_clus_3,y_clus_4,y_train], [gini_0,gini_1,gini_2,gini_3,gini_4,gini_])"
   ]
  },
  {
   "cell_type": "code",
   "execution_count": null,
   "metadata": {
    "collapsed": true,
    "id": "cN3FwcvbDnFh"
   },
   "outputs": [],
   "source": [
    "!wget http://glaros.dtc.umn.edu/gkhome/fetch/sw/hmetis/hmetis-1.5-linux.tar.gz  \n",
    "!gunzip hmetis-1.5-linux.tar.gz\n",
    "!tar -xvf hmetis-1.5-linux.tar"
   ]
  },
  {
   "cell_type": "code",
   "execution_count": null,
   "metadata": {
    "colab": {
     "base_uri": "https://localhost:8080/",
     "height": 1000
    },
    "collapsed": false,
    "id": "jLUySToaDxn8",
    "outputId": "e1bdf193-4e54-45b1-cdb9-d54534e36e56"
   },
   "outputs": [
    {
     "name": "stdout",
     "output_type": "stream",
     "text": [
      "ERROR: ld.so: object '/usr/lib/x86_64-linux-gnu/libtcmalloc.so.4' from LD_PRELOAD cannot be preloaded (wrong ELF class: ELFCLASS64): ignored.\n",
      "*******************************************************************************\n",
      " HMETIS 1.5.3  Copyright 1998, Regents of the University of Minnesota\n",
      "\n",
      "HyperGraph Information -----------------------------------------------------\n",
      " Name: ./tw16_k20_5st.hgr, #Vtxs:   654, #Hedges:    57, #Parts: 10, UBfactor: 1.05\n",
      " Options: GFC, Cut-minimization, Always V-cycle\n",
      "\n",
      "K-way Partitioning... ------------------------------------------------------\n",
      "\n",
      " --------------------------------------------------------------------------\n",
      "  Summary for the 10-way partition:\n",
      "                Hyperedge Cut:      1472\t\t(minimize)\n",
      "      Sum of External Degrees:     10102\t\t(minimize)\n",
      "                  Scaled Cost:  2.64e-02\t\t(minimize)\n",
      "                   Absorption:     52.27\t\t(maximize)\n",
      "\n",
      "      Partition Sizes & External Degrees:\n",
      "\t    68[ 787]     68[ 675]     62[1146]     68[1145]     65[1218] \n",
      "\t    68[ 838]     62[ 996]     68[ 821]     63[1130]     62[1346] \n",
      "\t\n",
      "\n",
      "Timing Information ---------------------------------------------------------\n",
      "  Partitioning Time:\t\t  13.673sec\n",
      "           I/O Time:\t\t   0.001sec\n",
      "*******************************************************************************\n",
      "ERROR: ld.so: object '/usr/lib/x86_64-linux-gnu/libtcmalloc.so.4' from LD_PRELOAD cannot be preloaded (wrong ELF class: ELFCLASS64): ignored.\n",
      "*******************************************************************************\n",
      " HMETIS 1.5.3  Copyright 1998, Regents of the University of Minnesota\n",
      "\n",
      "HyperGraph Information -----------------------------------------------------\n",
      " Name: ./tw16_k20_5st.hgr, #Vtxs:   654, #Hedges:    57, #Parts: 20, UBfactor: 1.05\n",
      " Options: GFC, Cut-minimization, Always V-cycle\n",
      "\n",
      "K-way Partitioning... ------------------------------------------------------\n",
      "\n",
      " --------------------------------------------------------------------------\n",
      "  Summary for the 20-way partition:\n",
      "                Hyperedge Cut:      1591\t\t(minimize)\n",
      "      Sum of External Degrees:     16904\t\t(minimize)\n",
      "                  Scaled Cost:  4.21e-02\t\t(minimize)\n",
      "                   Absorption:     49.61\t\t(maximize)\n",
      "\n",
      "      Partition Sizes & External Degrees:\n",
      "\t    34[ 744]     34[ 488]     34[ 687]     31[ 657]     32[1109] \n",
      "\t    31[1134]     34[ 867]     34[ 559]     31[1124]     31[1182] \n",
      "\t    34[ 731]     34[ 762]     31[1071]     33[ 623]     31[1181] \n",
      "\t    33[ 632]     34[ 543]     34[ 584]     33[ 977]     31[1249] \n",
      "\t\n",
      "\n",
      "Timing Information ---------------------------------------------------------\n",
      "  Partitioning Time:\t\t  77.716sec\n",
      "           I/O Time:\t\t   0.001sec\n",
      "*******************************************************************************\n",
      "ERROR: ld.so: object '/usr/lib/x86_64-linux-gnu/libtcmalloc.so.4' from LD_PRELOAD cannot be preloaded (wrong ELF class: ELFCLASS64): ignored.\n",
      "*******************************************************************************\n",
      " HMETIS 1.5.3  Copyright 1998, Regents of the University of Minnesota\n",
      "\n",
      "HyperGraph Information -----------------------------------------------------\n",
      " Name: ./tw16_k20_5st.hgr, #Vtxs:   654, #Hedges:    57, #Parts: 30, UBfactor: 1.05\n",
      " Options: GFC, Cut-minimization, Always V-cycle\n",
      "\n",
      "K-way Partitioning... ------------------------------------------------------\n",
      "\n",
      " --------------------------------------------------------------------------\n",
      "  Summary for the 30-way partition:\n",
      "                Hyperedge Cut:      1701\t\t(minimize)\n",
      "      Sum of External Degrees:     21967\t\t(minimize)\n",
      "                  Scaled Cost:  5.33e-02\t\t(minimize)\n",
      "                   Absorption:     47.21\t\t(maximize)\n",
      "\n",
      "      Partition Sizes & External Degrees:\n",
      "\t    22[ 675]     22[ 662]     22[ 573]     21[1031]     22[ 680] \n",
      "\t    22[ 820]     22[ 486]     22[ 442]     22[ 740]     22[ 803] \n",
      "\t    22[ 695]     22[ 675]     22[ 733]     20[ 902]     22[ 617] \n",
      "\t    22[ 458]     22[ 764]     22[ 561]     22[ 856]     22[ 702] \n",
      "\t    22[ 458]     22[ 819]     21[1147]     22[ 647]     21[ 917] \n",
      "\t    22[ 672]     22[1025]     22[ 627]     22[ 817]     21[ 963] \n",
      "\t\n",
      "\n",
      "Timing Information ---------------------------------------------------------\n",
      "  Partitioning Time:\t\t 282.527sec\n",
      "           I/O Time:\t\t   0.001sec\n",
      "*******************************************************************************\n",
      "ERROR: ld.so: object '/usr/lib/x86_64-linux-gnu/libtcmalloc.so.4' from LD_PRELOAD cannot be preloaded (wrong ELF class: ELFCLASS64): ignored.\n",
      "*******************************************************************************\n",
      " HMETIS 1.5.3  Copyright 1998, Regents of the University of Minnesota\n",
      "\n",
      "HyperGraph Information -----------------------------------------------------\n",
      " Name: ./tw16_k20_5st.hgr, #Vtxs:   654, #Hedges:    57, #Parts: 40, UBfactor: 1.05\n",
      " Options: GFC, Cut-minimization, Always V-cycle\n",
      "\n",
      "K-way Partitioning... ------------------------------------------------------\n",
      "\n",
      " --------------------------------------------------------------------------\n",
      "  Summary for the 40-way partition:\n",
      "                Hyperedge Cut:      1738\t\t(minimize)\n",
      "      Sum of External Degrees:     24162\t\t(minimize)\n",
      "                  Scaled Cost:  5.86e-02\t\t(minimize)\n",
      "                   Absorption:     46.84\t\t(maximize)\n",
      "\n",
      "      Partition Sizes & External Degrees:\n",
      "\t    16[ 791]     17[ 449]     17[ 475]     16[ 582]     16[ 524] \n",
      "\t    17[ 261]     17[ 291]     17[ 233]     17[1055]     17[ 417] \n",
      "\t    17[ 517]     17[ 358]     15[ 980]     17[ 460]     15[ 637] \n",
      "\t    17[ 683]     17[ 579]     16[ 759]     15[ 486]     17[ 443] \n",
      "\t    15[ 460]     17[ 550]     16[ 874]     16[ 874]     17[ 433] \n",
      "\t    17[ 558]     17[ 501]     17[1013]     17[ 479]     17[ 445] \n",
      "\t    15[ 555]     17[ 459]     17[ 485]     17[ 628]     16[ 575] \n",
      "\t    15[ 705]     16[ 949]     15[ 784]     15[ 864]     15[ 991] \n",
      "\t\n",
      "\n",
      "Timing Information ---------------------------------------------------------\n",
      "  Partitioning Time:\t\t 567.984sec\n",
      "           I/O Time:\t\t   0.001sec\n",
      "*******************************************************************************\n",
      "ERROR: ld.so: object '/usr/lib/x86_64-linux-gnu/libtcmalloc.so.4' from LD_PRELOAD cannot be preloaded (wrong ELF class: ELFCLASS64): ignored.\n",
      "*******************************************************************************\n",
      " HMETIS 1.5.3  Copyright 1998, Regents of the University of Minnesota\n",
      "\n",
      "HyperGraph Information -----------------------------------------------------\n",
      " Name: ./tw16_k20_5st.hgr, #Vtxs:   654, #Hedges:    57, #Parts: 50, UBfactor: 1.05\n",
      " Options: GFC, Cut-minimization, Always V-cycle\n",
      "\n",
      "K-way Partitioning... ------------------------------------------------------\n",
      "\n",
      " --------------------------------------------------------------------------\n",
      "  Summary for the 50-way partition:\n",
      "                Hyperedge Cut:      1987\t\t(minimize)\n",
      "      Sum of External Degrees:     45088\t\t(minimize)\n",
      "                  Scaled Cost:  1.08e-01\t\t(minimize)\n",
      "                   Absorption:     38.10\t\t(maximize)\n",
      "\n",
      "      Partition Sizes & External Degrees:\n",
      "\t    14[ 840]     14[ 858]     14[ 944]     14[1000]     13[ 998] \n",
      "\t    13[1032]     13[ 768]     13[ 880]     13[ 881]     13[ 765] \n",
      "\t    13[ 642]     13[ 955]     13[ 829]     13[ 782]     13[ 836] \n",
      "\t    13[ 890]     13[ 876]     13[ 877]     13[ 832]     13[ 835] \n",
      "\t    13[1010]     13[ 802]     13[ 954]     13[ 861]     13[1041] \n",
      "\t    13[1084]     13[ 804]     13[ 942]     13[ 958]     13[ 912] \n",
      "\t    13[ 714]     13[ 893]     13[ 863]     13[ 803]     13[ 743] \n",
      "\t    13[ 930]     13[ 958]     13[ 885]     13[ 906]     13[ 941] \n",
      "\t    13[ 864]     13[ 907]     13[ 953]     13[1083]     13[ 973] \n",
      "\t    13[1016]     13[ 939]     13[ 897]     13[ 951]     13[1181] \n",
      "\t\n",
      "\n",
      "Timing Information ---------------------------------------------------------\n",
      "  Partitioning Time:\t\t  16.394sec\n",
      "           I/O Time:\t\t   0.001sec\n",
      "*******************************************************************************\n",
      "ERROR: ld.so: object '/usr/lib/x86_64-linux-gnu/libtcmalloc.so.4' from LD_PRELOAD cannot be preloaded (wrong ELF class: ELFCLASS64): ignored.\n",
      "*******************************************************************************\n",
      " HMETIS 1.5.3  Copyright 1998, Regents of the University of Minnesota\n",
      "\n",
      "HyperGraph Information -----------------------------------------------------\n",
      " Name: ./tw16_k20_5st.hgr, #Vtxs:   654, #Hedges:    57, #Parts: 60, UBfactor: 1.05\n",
      " Options: GFC, Cut-minimization, Always V-cycle\n",
      "\n",
      "K-way Partitioning... ------------------------------------------------------\n",
      "\n",
      " --------------------------------------------------------------------------\n",
      "  Summary for the 60-way partition:\n",
      "                Hyperedge Cut:      1918\t\t(minimize)\n",
      "      Sum of External Degrees:     32621\t\t(minimize)\n",
      "                  Scaled Cost:  7.77e-02\t\t(minimize)\n",
      "                   Absorption:     42.48\t\t(maximize)\n",
      "\n",
      "      Partition Sizes & External Degrees:\n",
      "\t    11[ 568]     11[ 458]     11[ 547]     10[ 859]     11[ 566] \n",
      "\t    10[ 694]     11[ 722]     11[ 855]     10[ 337]     11[ 394] \n",
      "\t    11[ 573]     11[ 863]     11[ 417]     11[ 617]     11[ 557] \n",
      "\t    11[ 429]     11[ 908]     11[ 361]     11[ 666]     11[ 359] \n",
      "\t    11[ 900]     11[ 584]     11[ 514]     11[ 475]     11[ 543] \n",
      "\t    11[ 333]     11[ 302]     11[ 358]     11[ 738]     11[ 494] \n",
      "\t    11[ 434]     11[ 593]     11[ 480]     11[ 415]     10[ 443] \n",
      "\t    11[ 705]     11[ 607]     11[ 627]     11[ 587]     11[ 636] \n",
      "\t    11[ 776]     11[ 358]     11[ 587]     10[ 343]     11[ 358] \n",
      "\t    11[ 259]     11[ 378]     11[ 414]     11[ 459]     11[ 358] \n",
      "\t    11[ 708]     11[ 445]     11[ 664]     11[ 677]     11[ 467] \n",
      "\t    11[ 793]     11[ 313]     11[ 492]     10[ 714]     11[ 540] \n",
      "\t\n",
      "\n",
      "Timing Information ---------------------------------------------------------\n",
      "  Partitioning Time:\t\t 1660.065sec\n",
      "           I/O Time:\t\t   0.001sec\n",
      "*******************************************************************************\n"
     ]
    }
   ],
   "source": [
    "for i in range(1,7):\n",
    "    t=i*10\n",
    "    !./hmetis-1.5-linux/khmetis ./tw16_k20_5st.hgr \"$t\" 5 1000 3 1 3 0"
   ]
  }
 ],
 "metadata": {
  "colab": {
   "name": "Prototypes (kmeans + khmetis)",
   "provenance": [],
   "toc_visible": true
  },
  "kernelspec": {
   "display_name": "Python 3",
   "language": "python",
   "name": "python3"
  },
  "language_info": {
   "codemirror_mode": {
    "name": "ipython",
    "version": 3
   },
   "file_extension": ".py",
   "mimetype": "text/x-python",
   "name": "python",
   "nbconvert_exporter": "python",
   "pygments_lexer": "ipython3",
   "version": "3.6.7"
  }
 },
 "nbformat": 4,
 "nbformat_minor": 0
}
